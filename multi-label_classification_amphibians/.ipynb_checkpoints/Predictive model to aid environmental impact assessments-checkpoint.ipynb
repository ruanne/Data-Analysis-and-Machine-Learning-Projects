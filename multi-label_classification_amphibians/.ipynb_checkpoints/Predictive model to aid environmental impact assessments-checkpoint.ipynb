{
 "cells": [
  {
   "cell_type": "markdown",
   "id": "traditional-queue",
   "metadata": {},
   "source": [
    "1. [Introduction](#Introduction)\n",
    "2. [The Dataset](#The-Dataset)"
   ]
  },
  {
   "cell_type": "markdown",
   "id": "overhead-argentina",
   "metadata": {},
   "source": [
    "## Introduction"
   ]
  },
  {
   "cell_type": "markdown",
   "id": "useful-cancer",
   "metadata": {},
   "source": [
    "## The Dataset"
   ]
  },
  {
   "cell_type": "code",
   "execution_count": null,
   "id": "concrete-darwin",
   "metadata": {},
   "outputs": [],
   "source": []
  }
 ],
 "metadata": {
  "ipub": {
   "titlepage": {
    "author": "Ruanne van der Walt",
    "email": "ruanne@datacamp.com",
    "subtitle": "The development and evaluation of a model to predict the presence of amphibians using features obtained from a GIS and Satellite Images",
    "title": "Predictive model to aid environmental impact assessments"
   }
  },
  "kernelspec": {
   "display_name": "Python 3",
   "language": "python",
   "name": "python3"
  },
  "language_info": {
   "codemirror_mode": {
    "name": "ipython",
    "version": 3
   },
   "file_extension": ".py",
   "mimetype": "text/x-python",
   "name": "python",
   "nbconvert_exporter": "python",
   "pygments_lexer": "ipython3",
   "version": "3.8.5"
  }
 },
 "nbformat": 4,
 "nbformat_minor": 5
}
