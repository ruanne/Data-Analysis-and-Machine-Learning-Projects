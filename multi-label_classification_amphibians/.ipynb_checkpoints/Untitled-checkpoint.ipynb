{
 "cells": [
  {
   "cell_type": "markdown",
   "id": "brief-cache",
   "metadata": {},
   "source": [
    "# Introduction"
   ]
  },
  {
   "cell_type": "markdown",
   "id": "northern-cooperation",
   "metadata": {},
   "source": [
    "1. [Introduction](#Introduction)\n",
    "2. [The Dataset](#The_Dataset)\n",
    "3. [Problem Statement](#Problem_Statement)\n",
    "4. [Problem Approach](#Problem_Approach)\n",
    "5. [Performance Metrics](#Performance_Metrics)\n",
    "6. [Exploratory Data Analysis](#Exploratory_Data_Analysis)\n",
    "7. [Exploratory Data Analysis Summary](#Exploratory_Data_Analysis_Summary)\n",
    "8. [Model Development](#Model_Development)\n",
    "9. [Results Comparison](#Results_Comparison)\n",
    "10. [Conclusion and Recommendations](#Conclusion_and_Recommendations)\n",
    "11. [References](#References)"
   ]
  },
  {
   "cell_type": "markdown",
   "id": "light-budapest",
   "metadata": {},
   "source": [
    "# Introduction"
   ]
  },
  {
   "cell_type": "markdown",
   "id": "greenhouse-alpha",
   "metadata": {},
   "source": [
    "An environmental impact assessment (EIA) is one of the tools being used worldwide to provide decision-makers and the concerned public with essential information to plan for environmentally sustainable economic development (1). The goal of economic development is to invest in projects or programmes - such as the construction of mines, reservoirs, highways and housing to enhance the prosperity and quality of life of all residents. Sustainable economic development aims to find a compromise between economic development and environmental protection. \n",
    "\n",
    "The responsible development of spaces requires an assessment of the value of natural spaces. Spaces with low natural value can be developed as investments. <b>The presence of amphibians (frogs, toads and salamanders) in natural spaces contributes to the value of natural spaces</b>. Amphibians are a critical part of nature as both predator and prey. They eat insect pests which a is benefit to argriculture and help control mosquitos which benefits human health. They're are one of the main links in many ecosystem food webs (2). \n",
    "\n",
    "Amphibians are almost entirely dependent on water for reproduction. Their eggs have no water-proof covering and their larvae (tadpoles) are quite fish like. Amphibians also tend to return to the same water reservoir where they were born to breed. They also have a land habitat on which they depend to feed, hide and survive winter. \n",
    "\n",
    "As part of an EIA, field work is required to estimate amphibian populations in and near water reservoirs where economic development projects are planned. Determining the contribution of amphibian populations to the value of a natural space is difficult for several reasons. In the case of road infrastructure projects, the area that needs to be assessed can be very large. Certain areas of the terrain can be difficult to reach. The number of people available to do field work can be limited. <b>An initial assessment of the natural space could help to better plan field work which should result in time and cost savings. </b>This can all contribute to helping reduce the underestimation of amphibian populations and the value of natural spaces. \n",
    "\n",
    "A geographic information system (GIS) can provide information about the habitats of amphibians. A GIS integrates many different kinds of information (3). It can include information about landscape, such as the location of stream, different kinds of vegetation, and different kinds of soil. It can also include information about the sites of factories, farms, schools and houses. (4) <b>As amphibians are highly dependant on their habitat, the assessment of their habitats using features obtained from a GIS, can potentially be used to predict their presence.</b>  "
   ]
  },
  {
   "cell_type": "markdown",
   "id": "blessed-warning",
   "metadata": {},
   "source": [
    "# The Dataset"
   ]
  },
  {
   "cell_type": "markdown",
   "id": "cardiac-racing",
   "metadata": {},
   "source": [
    "The data used in this project can be obtained from the [UCI Machine Learning Repository](https://archive.ics.uci.edu/ml/datasets/Amphibians). The data was derived from GIS and sattelite images, as well as from information gathered about the size of amphibians populations that formed part of EIA reports for two planned road projects (Road A and Road B) in Poland. \n",
    "\n",
    "Marcin Blachnik, Marek SoÅ‚tysiak, Dominika DÄ…browska Predicting presence of amphibian species using features obtained from GIS and satellite images. ISPRS International Journal of Geo-Information 8 (3) pp. 123. MDPI. 2019"
   ]
  },
  {
   "cell_type": "markdown",
   "id": "fatal-avatar",
   "metadata": {},
   "source": [
    "## Data Description"
   ]
  },
  {
   "cell_type": "markdown",
   "id": "varying-cleaner",
   "metadata": {},
   "source": [
    "The data consists of 15 input variables and a <b>multi-label target</b> variable with 7 possible values indicating the presence of a certain type of frog. Multiple species of frog can be present in the same location."
   ]
  },
  {
   "cell_type": "markdown",
   "id": "embedded-shade",
   "metadata": {},
   "source": [
    "### Attribute Information - Features"
   ]
  },
  {
   "cell_type": "markdown",
   "id": "afraid-catalyst",
   "metadata": {},
   "source": [
    "|    |Description                                 |Type       |\n",
    "|----|--------------------------------------------|-----------|\n",
    "|MV  |Motorway                                    |categorical|\n",
    "|SR  |Surface of water reservoir (m2)             |numerical  |\n",
    "|NR  |Number of water reservoirs in habitat       |numerical  |\n",
    "|TR  |Type of water reservoirs                    |categorical|\n",
    "|VR  |Presence of vegetation within the reservoirs|categorical|\n",
    "|SUR1|Surrounding types of land cover (primary)   |categorical|\n",
    "|SUR2|Surrounding types of land cover (secondary) |categorical|\n",
    "|SUR3|Surrounding types of land cover (tertiary)  |categorical|      |UR  |Use of water reservoirs                     |categorical|\n",
    "|FR  |The presence of fishing                     |categorical|\n",
    "|OR  |Percentage access to undeveloped areas      |categorical|      |RR  |Minimum distance to roads                   |ordinal    |\n",
    "|BR  |Minimum distance to buildings               |ordinal    |\n",
    "|MR  |Maintenance status of the reservoir         |categorical|\n",
    "|CR  |Type of shore                               |categorical|"
   ]
  },
  {
   "cell_type": "markdown",
   "id": "extra-lobby",
   "metadata": {},
   "source": [
    "### Attribute Information - Target"
   ]
  },
  {
   "cell_type": "markdown",
   "id": "settled-thanksgiving",
   "metadata": {},
   "source": [
    "|            |Description                       |\n",
    "|------------|----------------------------------|\n",
    "|Label 1     |The presence of Green frogs       |\n",
    "|Label 2     |The presence of Brown frogs       | \n",
    "|Label 3     |The presence of Common toad       |\n",
    "|Label 4     |The presence of Fire-bellied toad |\n",
    "|Label 5     |The presence of Tree frog         |\n",
    "|Label 6     |The presence of Common newt       |\n",
    "|Label 7     |The presence of Great Crested newt|"
   ]
  },
  {
   "cell_type": "markdown",
   "id": "proof-ambassador",
   "metadata": {},
   "source": [
    "## Problem Statement"
   ]
  },
  {
   "cell_type": "markdown",
   "id": "played-omega",
   "metadata": {},
   "source": [
    "This is a supervised, multi-label classification problem. This is not a multi-class classification problem as the classes are not mutually exclusive. Multiple species of amphibians can be found at a site. "
   ]
  },
  {
   "cell_type": "markdown",
   "id": "conditional-auditor",
   "metadata": {},
   "source": [
    "### Classification Algorithms"
   ]
  },
  {
   "cell_type": "markdown",
   "id": "front-foundation",
   "metadata": {},
   "source": [
    "Several classification algorithms exist and have an implementation in scikit-learn. The algorithms are:"
   ]
  },
  {
   "cell_type": "markdown",
   "id": "distant-divide",
   "metadata": {},
   "source": [
    "@ruanne Add algorithms table or list"
   ]
  },
  {
   "cell_type": "markdown",
   "id": "recent-serial",
   "metadata": {},
   "source": [
    "Keep in mind that the above list is not exhaustive and many more variants of these algorithms exist. \n",
    "\n",
    "K-Nearest Neighbours works well for small datasets and can be a good baseline model to compare other algorithms against. It is important to ensure that features are standardized for K-Nearest Neighbours.  \n",
    "\n",
    "A decision tree could be interesting for this problem. Decision trees are interpretable and the ideas behind a decision tree is easily understood by nonexperts. They also work well for a mixture of binary and continuous features which is the case for this project's feature space. The disadvantage of decision trees is that they tend to overfit and provide poor generalization performance. \n",
    "\n",
    "Randomized Forests, AdaBoost and Gradient Tree Boosting are all ensemble methods. Ensemble methods combine multiple machine learning models to create better performing models. Random Forests is one way to address to the overfitting problem of decision trees. Ramdom Forests often work well out of the box and don't require scaling of the data. They also work well with a mixture of binary and continuous variables. \n",
    "\n",
    "Like random forests, gradient boosted trees are widely used in industry. They can be more sensitive to parameter settings than random forests but provide better accuracy if the parameters are set correctly. AdaBoost works by combining multiple weak learners into a single strong classifier. \n",
    "\n",
    "A neural network or more specific a mulitlayer perceptron (MLP) can also be used for classification. An MLP is sensitive to feature scaling and has multiple hyperparameters to tune.   \n",
    "\n",
    "A final decision will made following an initial exploration of the data to decide which alogrithms are suitable for the problem."
   ]
  },
  {
   "cell_type": "markdown",
   "id": "wrong-gabriel",
   "metadata": {},
   "source": [
    "### Multi-label problem approach"
   ]
  },
  {
   "cell_type": "markdown",
   "id": "private-forward",
   "metadata": {},
   "source": [
    "This is a multi-label classification problem as the predictive model should be able to predict whether multiple amphibian species are present in a location i.e. In location with ID 2, there were brown frogs, common toads and common newts present. \n",
    "\n",
    "scikit-learn has functionality for meta-estimators. In scikit-learn an estimator can be a predictive model of some specific algorithm. Base estimators work for binary classification problems. Meta-estimators extend the functionality of of the base estimator to support multi-learning problems like multi-class, multi-label and multi-output classification problems. The scikit-learn [multioutput module](https://scikit-learn.org/stable/modules/classes.html#module-sklearn.multioutput), and specifically the [MultiOutputClassifier](https://scikit-learn.org/stable/modules/generated/sklearn.multioutput.MultiOutputClassifier.html#sklearn.multioutput.MultiOutputClassifier) can be used for multi-label classification problems. The MultiOutputClassifier makes it possible to fit one classifier per target. For this particular problem, this approach would divide the problem into 7 binary classification tasks, one for each species of amphibians. \n",
    "\n",
    "Some classifiers are actually capable of natively supporting multi-label classification. Native multi-label classifiers may treat the multiple classes simultaneously and can therefore account for correlated behaviour among them. In scikit-learn, the following algorithms natively support multilabel classification:\n",
    "\n",
    "- tree.DecisionTreeClassifier\n",
    "- tree.ExtraTreeClassifier\n",
    "- ensemble.ExtraTreesClassifier\n",
    "- neighbors.KNeighborsClassifier\n",
    "- neural_network.MLPClassifier\n",
    "- neighbors.RadiusNeighborsClassifier\n",
    "- ensemble.RandomForestClassifier\n",
    "- linear_model.RidgeClassifierCV\n",
    "\n",
    "AdaBoost and GBT are not natively multi-label classifiers. "
   ]
  },
  {
   "cell_type": "markdown",
   "id": "together-jacob",
   "metadata": {},
   "source": [
    "## Performance Metrics"
   ]
  },
  {
   "cell_type": "markdown",
   "id": "cutting-sponsorship",
   "metadata": {},
   "source": [
    "The information included in the description of the dataset does not give any specifics regarding the evaluation of the predictive model's performance like whether the correct prediction of all species is equally important. \n",
    "\n",
    "A final decision will made following an initial exploration of the data to decide which performance metric is suitable.\n",
    "\n",
    "_**Accuracy**_\n",
    "\n",
    "The accuracy of a classifier is the number of correct predictions made as a ratio of all predictions made. Accuracy is a very common evaluation metric for classification problems but is not suitable when their are an unequal number of observations in each class. We will check for class imbalance during the exploratory data analysis section of this project. In scikit-learn, the [accuracy_score](https://scikit-learn.org/stable/modules/model_evaluation.html#accuracy-score) function returns the subset accuracy in the case of multi-label classification. The subset accuracy per sample will be 1.0 if the entire set of predicted labels for a sample match the true set of labels otherwise it would be 0. Consider the example of subset accuracy for a multi-label classification. The classifier incorrectly predicted Label 1 for Sample 0. It correctly predicted for Sample 2. The classifier achieved a subset accuracy of 50%. "
   ]
  },
  {
   "cell_type": "code",
   "execution_count": 1,
   "id": "stupid-welcome",
   "metadata": {},
   "outputs": [
    {
     "data": {
      "text/html": [
       "<div>\n",
       "<style scoped>\n",
       "    .dataframe tbody tr th:only-of-type {\n",
       "        vertical-align: middle;\n",
       "    }\n",
       "\n",
       "    .dataframe tbody tr th {\n",
       "        vertical-align: top;\n",
       "    }\n",
       "\n",
       "    .dataframe thead th {\n",
       "        text-align: right;\n",
       "    }\n",
       "</style>\n",
       "<table border=\"1\" class=\"dataframe\">\n",
       "  <thead>\n",
       "    <tr style=\"text-align: right;\">\n",
       "      <th></th>\n",
       "      <th>Label 1</th>\n",
       "      <th>Label 2</th>\n",
       "    </tr>\n",
       "  </thead>\n",
       "  <tbody>\n",
       "    <tr>\n",
       "      <th>0</th>\n",
       "      <td>0</td>\n",
       "      <td>1</td>\n",
       "    </tr>\n",
       "    <tr>\n",
       "      <th>1</th>\n",
       "      <td>1</td>\n",
       "      <td>1</td>\n",
       "    </tr>\n",
       "  </tbody>\n",
       "</table>\n",
       "</div>"
      ],
      "text/plain": [
       "   Label 1  Label 2\n",
       "0        0        1\n",
       "1        1        1"
      ]
     },
     "execution_count": 1,
     "metadata": {},
     "output_type": "execute_result"
    }
   ],
   "source": [
    "# An example demonstrating subset accuracy\n",
    "\n",
    "import pandas as pd\n",
    "\n",
    "y_true = pd.DataFrame({'Label 1': [0, 1], 'Label 2':[1, 1]})\n",
    "y_pred = pd.DataFrame({'Label 1': [1, 1], 'Label 2':[1, 1]})\n",
    "y_true"
   ]
  },
  {
   "cell_type": "code",
   "execution_count": 2,
   "id": "empirical-gathering",
   "metadata": {},
   "outputs": [
    {
     "data": {
      "text/html": [
       "<div>\n",
       "<style scoped>\n",
       "    .dataframe tbody tr th:only-of-type {\n",
       "        vertical-align: middle;\n",
       "    }\n",
       "\n",
       "    .dataframe tbody tr th {\n",
       "        vertical-align: top;\n",
       "    }\n",
       "\n",
       "    .dataframe thead th {\n",
       "        text-align: right;\n",
       "    }\n",
       "</style>\n",
       "<table border=\"1\" class=\"dataframe\">\n",
       "  <thead>\n",
       "    <tr style=\"text-align: right;\">\n",
       "      <th></th>\n",
       "      <th>Label 1</th>\n",
       "      <th>Label 2</th>\n",
       "    </tr>\n",
       "  </thead>\n",
       "  <tbody>\n",
       "    <tr>\n",
       "      <th>0</th>\n",
       "      <td>1</td>\n",
       "      <td>1</td>\n",
       "    </tr>\n",
       "    <tr>\n",
       "      <th>1</th>\n",
       "      <td>1</td>\n",
       "      <td>1</td>\n",
       "    </tr>\n",
       "  </tbody>\n",
       "</table>\n",
       "</div>"
      ],
      "text/plain": [
       "   Label 1  Label 2\n",
       "0        1        1\n",
       "1        1        1"
      ]
     },
     "execution_count": 2,
     "metadata": {},
     "output_type": "execute_result"
    }
   ],
   "source": [
    "y_pred"
   ]
  },
  {
   "cell_type": "code",
   "execution_count": 3,
   "id": "emerging-diagnosis",
   "metadata": {},
   "outputs": [
    {
     "data": {
      "text/plain": [
       "0.5"
      ]
     },
     "execution_count": 3,
     "metadata": {},
     "output_type": "execute_result"
    }
   ],
   "source": [
    "import numpy as np\n",
    "import pandas as pd\n",
    "from sklearn.metrics import accuracy_score\n",
    "\n",
    "accuracy_score(y_true, y_pred)\n",
    "0.5"
   ]
  },
  {
   "cell_type": "markdown",
   "id": "explicit-steel",
   "metadata": {},
   "source": [
    "_**Confusion Matrix**_\n",
    "\n",
    "A confusion matrix is another popular method for evaluating the performance of a classifier. scikit-learn provides an implementation of a [multilabel_confusion_matrix](https://scikit-learn.org/stable/modules/model_evaluation.html#multilabel-confusion-matrix). The multilabel_confusion_matrix outputs a confusion matrix per label and the true negatives (TN), false negatives (FN), false positives (FP) and true positives (TP) for each label can be read from each matrix in a similar fashion to a binary classification confusion matrix. The dataframe `MCM` below is a reminder of the location of each value in the matrix. \n",
    "\n",
    "As the underestimation of amphibian populations could mean that natural spaces are under-valued. An under-estimation would be the result of too many false negatives i.e. Falsely deciding a site would not have amphibians present. Conversely, too many false positives could increase costs of field work because sites that had no potential to host amphibians would be included in the field work study."
   ]
  },
  {
   "cell_type": "code",
   "execution_count": 4,
   "id": "neither-value",
   "metadata": {},
   "outputs": [
    {
     "data": {
      "text/html": [
       "<div>\n",
       "<style scoped>\n",
       "    .dataframe tbody tr th:only-of-type {\n",
       "        vertical-align: middle;\n",
       "    }\n",
       "\n",
       "    .dataframe tbody tr th {\n",
       "        vertical-align: top;\n",
       "    }\n",
       "\n",
       "    .dataframe thead th {\n",
       "        text-align: right;\n",
       "    }\n",
       "</style>\n",
       "<table border=\"1\" class=\"dataframe\">\n",
       "  <thead>\n",
       "    <tr style=\"text-align: right;\">\n",
       "      <th></th>\n",
       "      <th>0</th>\n",
       "      <th>1</th>\n",
       "    </tr>\n",
       "  </thead>\n",
       "  <tbody>\n",
       "    <tr>\n",
       "      <th>0</th>\n",
       "      <td>true negatives</td>\n",
       "      <td>false positives</td>\n",
       "    </tr>\n",
       "    <tr>\n",
       "      <th>1</th>\n",
       "      <td>false negatives</td>\n",
       "      <td>true positives</td>\n",
       "    </tr>\n",
       "  </tbody>\n",
       "</table>\n",
       "</div>"
      ],
      "text/plain": [
       "                 0                1\n",
       "0   true negatives  false positives\n",
       "1  false negatives   true positives"
      ]
     },
     "execution_count": 4,
     "metadata": {},
     "output_type": "execute_result"
    }
   ],
   "source": [
    "import pandas as pd\n",
    "\n",
    "MCM = pd.DataFrame({'0': ['true negatives', 'false negatives'], '1': ['false positives', 'true positives']})\n",
    "MCM"
   ]
  },
  {
   "cell_type": "code",
   "execution_count": 5,
   "id": "interstate-olympus",
   "metadata": {},
   "outputs": [
    {
     "data": {
      "text/plain": [
       "array([[[1, 0],\n",
       "        [0, 1]],\n",
       "\n",
       "       [[1, 0],\n",
       "        [0, 1]],\n",
       "\n",
       "       [[0, 1],\n",
       "        [1, 0]]])"
      ]
     },
     "execution_count": 5,
     "metadata": {},
     "output_type": "execute_result"
    }
   ],
   "source": [
    "# An example demonstrating the use of a multilabel_confusion_matrix taken from the scikit-learn documentation\n",
    "# The target has 3 labels\n",
    "import numpy as np\n",
    "from sklearn.metrics import multilabel_confusion_matrix\n",
    "\n",
    "y_true = np.array([[1, 0, 1],\n",
    "                   [0, 1, 0]])\n",
    "y_pred = np.array([[1, 0, 0],\n",
    "                   [0, 1, 1]])\n",
    "multilabel_confusion_matrix(y_true, y_pred)"
   ]
  },
  {
   "cell_type": "markdown",
   "id": "mexican-matrix",
   "metadata": {},
   "source": [
    "In the example above, the first matrix is the confusion matrix for Label 1. The classifier correctly predicted Label 1 for Sample 0 and 1. The number of TN is 1 and TP is 1. The last matrix is the confusion matrix for Label 3. The classifier incorrectly predicted Label 3 for both samples. The number of FP and FN is 1.  "
   ]
  },
  {
   "cell_type": "markdown",
   "id": "eligible-express",
   "metadata": {},
   "source": [
    "_**ROC AUC**_\n",
    "\n",
    "An ROC Curve has true postive rate on the Y axis and false positive rate on the X axis. The ROC summarizes the performance of a binary classification model on the positive class. The ideal point is in the top left corner with a false positive rate of zero and a true positive rate of one. In the real world, this would rarely be the case but it does mean that a larger area under the curve (AUC) is usually better. A perfect classifier would have a ROC AUC equal to 1 and a purely random classifier will have a ROC AUC equal to 0.5.\n",
    "\n",
    "The ROC is a popular metric for evaluating classifiers in balanced and unbalanced data as it is not biased towards the majority or minority class and the ROC AUC score is a single value that can be used to compare binary classifiers directly [5]. ROC AUC can also be misleading if there is severe skew and very few examples of the minority class. The reason is that a small number of correct or incorrect predictions can result in a large change in the ROC curve or ROC AUC score. "
   ]
  },
  {
   "cell_type": "markdown",
   "id": "major-burner",
   "metadata": {},
   "source": [
    "## Exploratory Data Analysis"
   ]
  },
  {
   "cell_type": "markdown",
   "id": "differential-function",
   "metadata": {},
   "source": [
    "In this section, an initial exploratory analysis of the dataset will be done. The dataset will be evaluated for any data quality problems that have to be resolved."
   ]
  },
  {
   "cell_type": "code",
   "execution_count": 6,
   "id": "ambient-glance",
   "metadata": {},
   "outputs": [],
   "source": [
    "# Import modules needed exploratory analysis\n",
    "import pandas as pd\n",
    "import matplotlib.pyplot as plt\n",
    "import seaborn as sns\n",
    "import numpy as np\n",
    "\n",
    "%matplotlib inline"
   ]
  },
  {
   "cell_type": "markdown",
   "id": "broken-adult",
   "metadata": {},
   "source": [
    "The data for both road projects is contained in a single csv file. The repository claims that there are no missing values. "
   ]
  },
  {
   "cell_type": "code",
   "execution_count": 7,
   "id": "double-spencer",
   "metadata": {},
   "outputs": [
    {
     "data": {
      "text/html": [
       "<div>\n",
       "<style scoped>\n",
       "    .dataframe tbody tr th:only-of-type {\n",
       "        vertical-align: middle;\n",
       "    }\n",
       "\n",
       "    .dataframe tbody tr th {\n",
       "        vertical-align: top;\n",
       "    }\n",
       "\n",
       "    .dataframe thead th {\n",
       "        text-align: right;\n",
       "    }\n",
       "</style>\n",
       "<table border=\"1\" class=\"dataframe\">\n",
       "  <thead>\n",
       "    <tr style=\"text-align: right;\">\n",
       "      <th></th>\n",
       "      <th>Motorway</th>\n",
       "      <th>SR</th>\n",
       "      <th>NR</th>\n",
       "      <th>TR</th>\n",
       "      <th>VR</th>\n",
       "      <th>SUR1</th>\n",
       "      <th>SUR2</th>\n",
       "      <th>SUR3</th>\n",
       "      <th>UR</th>\n",
       "      <th>FR</th>\n",
       "      <th>...</th>\n",
       "      <th>BR</th>\n",
       "      <th>MR</th>\n",
       "      <th>CR</th>\n",
       "      <th>Green frogs</th>\n",
       "      <th>Brown frogs</th>\n",
       "      <th>Common toad</th>\n",
       "      <th>Fire-bellied toad</th>\n",
       "      <th>Tree frog</th>\n",
       "      <th>Common newt</th>\n",
       "      <th>Great crested newt</th>\n",
       "    </tr>\n",
       "    <tr>\n",
       "      <th>ID</th>\n",
       "      <th></th>\n",
       "      <th></th>\n",
       "      <th></th>\n",
       "      <th></th>\n",
       "      <th></th>\n",
       "      <th></th>\n",
       "      <th></th>\n",
       "      <th></th>\n",
       "      <th></th>\n",
       "      <th></th>\n",
       "      <th></th>\n",
       "      <th></th>\n",
       "      <th></th>\n",
       "      <th></th>\n",
       "      <th></th>\n",
       "      <th></th>\n",
       "      <th></th>\n",
       "      <th></th>\n",
       "      <th></th>\n",
       "      <th></th>\n",
       "      <th></th>\n",
       "    </tr>\n",
       "  </thead>\n",
       "  <tbody>\n",
       "    <tr>\n",
       "      <th>1</th>\n",
       "      <td>A1</td>\n",
       "      <td>600</td>\n",
       "      <td>1</td>\n",
       "      <td>1</td>\n",
       "      <td>4</td>\n",
       "      <td>6</td>\n",
       "      <td>2</td>\n",
       "      <td>10</td>\n",
       "      <td>0</td>\n",
       "      <td>0</td>\n",
       "      <td>...</td>\n",
       "      <td>0</td>\n",
       "      <td>0</td>\n",
       "      <td>1</td>\n",
       "      <td>0</td>\n",
       "      <td>0</td>\n",
       "      <td>0</td>\n",
       "      <td>0</td>\n",
       "      <td>0</td>\n",
       "      <td>0</td>\n",
       "      <td>0</td>\n",
       "    </tr>\n",
       "    <tr>\n",
       "      <th>2</th>\n",
       "      <td>A1</td>\n",
       "      <td>700</td>\n",
       "      <td>1</td>\n",
       "      <td>5</td>\n",
       "      <td>1</td>\n",
       "      <td>10</td>\n",
       "      <td>6</td>\n",
       "      <td>10</td>\n",
       "      <td>3</td>\n",
       "      <td>1</td>\n",
       "      <td>...</td>\n",
       "      <td>1</td>\n",
       "      <td>0</td>\n",
       "      <td>1</td>\n",
       "      <td>0</td>\n",
       "      <td>1</td>\n",
       "      <td>1</td>\n",
       "      <td>0</td>\n",
       "      <td>0</td>\n",
       "      <td>1</td>\n",
       "      <td>0</td>\n",
       "    </tr>\n",
       "    <tr>\n",
       "      <th>3</th>\n",
       "      <td>A1</td>\n",
       "      <td>200</td>\n",
       "      <td>1</td>\n",
       "      <td>5</td>\n",
       "      <td>1</td>\n",
       "      <td>10</td>\n",
       "      <td>6</td>\n",
       "      <td>10</td>\n",
       "      <td>3</td>\n",
       "      <td>4</td>\n",
       "      <td>...</td>\n",
       "      <td>1</td>\n",
       "      <td>0</td>\n",
       "      <td>1</td>\n",
       "      <td>0</td>\n",
       "      <td>1</td>\n",
       "      <td>1</td>\n",
       "      <td>0</td>\n",
       "      <td>0</td>\n",
       "      <td>1</td>\n",
       "      <td>0</td>\n",
       "    </tr>\n",
       "    <tr>\n",
       "      <th>4</th>\n",
       "      <td>A1</td>\n",
       "      <td>300</td>\n",
       "      <td>1</td>\n",
       "      <td>5</td>\n",
       "      <td>0</td>\n",
       "      <td>6</td>\n",
       "      <td>10</td>\n",
       "      <td>2</td>\n",
       "      <td>3</td>\n",
       "      <td>4</td>\n",
       "      <td>...</td>\n",
       "      <td>0</td>\n",
       "      <td>0</td>\n",
       "      <td>1</td>\n",
       "      <td>0</td>\n",
       "      <td>0</td>\n",
       "      <td>1</td>\n",
       "      <td>0</td>\n",
       "      <td>0</td>\n",
       "      <td>0</td>\n",
       "      <td>0</td>\n",
       "    </tr>\n",
       "    <tr>\n",
       "      <th>5</th>\n",
       "      <td>A1</td>\n",
       "      <td>600</td>\n",
       "      <td>2</td>\n",
       "      <td>1</td>\n",
       "      <td>4</td>\n",
       "      <td>10</td>\n",
       "      <td>2</td>\n",
       "      <td>6</td>\n",
       "      <td>0</td>\n",
       "      <td>0</td>\n",
       "      <td>...</td>\n",
       "      <td>5</td>\n",
       "      <td>0</td>\n",
       "      <td>1</td>\n",
       "      <td>0</td>\n",
       "      <td>1</td>\n",
       "      <td>1</td>\n",
       "      <td>1</td>\n",
       "      <td>0</td>\n",
       "      <td>1</td>\n",
       "      <td>1</td>\n",
       "    </tr>\n",
       "  </tbody>\n",
       "</table>\n",
       "<p>5 rows × 22 columns</p>\n",
       "</div>"
      ],
      "text/plain": [
       "   Motorway   SR  NR  TR  VR  SUR1  SUR2  SUR3  UR  FR  ...  BR  MR  CR  \\\n",
       "ID                                                      ...               \n",
       "1        A1  600   1   1   4     6     2    10   0   0  ...   0   0   1   \n",
       "2        A1  700   1   5   1    10     6    10   3   1  ...   1   0   1   \n",
       "3        A1  200   1   5   1    10     6    10   3   4  ...   1   0   1   \n",
       "4        A1  300   1   5   0     6    10     2   3   4  ...   0   0   1   \n",
       "5        A1  600   2   1   4    10     2     6   0   0  ...   5   0   1   \n",
       "\n",
       "    Green frogs  Brown frogs  Common toad  Fire-bellied toad  Tree frog  \\\n",
       "ID                                                                        \n",
       "1             0            0            0                  0          0   \n",
       "2             0            1            1                  0          0   \n",
       "3             0            1            1                  0          0   \n",
       "4             0            0            1                  0          0   \n",
       "5             0            1            1                  1          0   \n",
       "\n",
       "    Common newt  Great crested newt  \n",
       "ID                                   \n",
       "1             0                   0  \n",
       "2             1                   0  \n",
       "3             1                   0  \n",
       "4             0                   0  \n",
       "5             1                   1  \n",
       "\n",
       "[5 rows x 22 columns]"
      ]
     },
     "execution_count": 7,
     "metadata": {},
     "output_type": "execute_result"
    }
   ],
   "source": [
    "# View the frist 5 rows of the dataset\n",
    "amphibians = pd.read_csv('amphibians.csv', sep=';', header=1, index_col='ID')\n",
    "amphibians.head()"
   ]
  },
  {
   "cell_type": "markdown",
   "id": "retained-customer",
   "metadata": {},
   "source": [
    "The first 5 rows of the dataset does not reveal anything unusual. The feature names and target labels are consistent with the dataset description. The values for the categorical features seem to be numerical which is different to what was expected based on the dataset description. "
   ]
  },
  {
   "cell_type": "code",
   "execution_count": 8,
   "id": "spiritual-cleveland",
   "metadata": {},
   "outputs": [
    {
     "data": {
      "text/plain": [
       "Motorway              object\n",
       "SR                     int64\n",
       "NR                     int64\n",
       "TR                     int64\n",
       "VR                     int64\n",
       "SUR1                   int64\n",
       "SUR2                   int64\n",
       "SUR3                   int64\n",
       "UR                     int64\n",
       "FR                     int64\n",
       "OR                     int64\n",
       "RR                     int64\n",
       "BR                     int64\n",
       "MR                     int64\n",
       "CR                     int64\n",
       "Green frogs            int64\n",
       "Brown frogs            int64\n",
       "Common toad            int64\n",
       "Fire-bellied toad      int64\n",
       "Tree frog              int64\n",
       "Common newt            int64\n",
       "Great crested newt     int64\n",
       "dtype: object"
      ]
     },
     "execution_count": 8,
     "metadata": {},
     "output_type": "execute_result"
    }
   ],
   "source": [
    "# Check the automatically assigned data types \n",
    "amphibians.dtypes"
   ]
  },
  {
   "cell_type": "markdown",
   "id": "lucky-advisory",
   "metadata": {},
   "source": [
    "Note that the 11 categorical features and 2 ordinal features are integer values. This is interesting because the [description of the dataset](https://archive.ics.uci.edu/ml/datasets/Amphibians) describes the features has having text or character levels such a-j for the TR feature. "
   ]
  },
  {
   "cell_type": "code",
   "execution_count": 9,
   "id": "civilian-handling",
   "metadata": {},
   "outputs": [
    {
     "name": "stdout",
     "output_type": "stream",
     "text": [
      "Count of missing values in each column of the dataset:\n"
     ]
    },
    {
     "data": {
      "text/plain": [
       "Motorway              0\n",
       "SR                    0\n",
       "NR                    0\n",
       "TR                    0\n",
       "VR                    0\n",
       "SUR1                  0\n",
       "SUR2                  0\n",
       "SUR3                  0\n",
       "UR                    0\n",
       "FR                    0\n",
       "OR                    0\n",
       "RR                    0\n",
       "BR                    0\n",
       "MR                    0\n",
       "CR                    0\n",
       "Green frogs           0\n",
       "Brown frogs           0\n",
       "Common toad           0\n",
       "Fire-bellied toad     0\n",
       "Tree frog             0\n",
       "Common newt           0\n",
       "Great crested newt    0\n",
       "dtype: int64"
      ]
     },
     "execution_count": 9,
     "metadata": {},
     "output_type": "execute_result"
    }
   ],
   "source": [
    "# Check for missing values\n",
    "print(\"Count of missing values in each column of the dataset:\")\n",
    "amphibians.isna().sum()"
   ]
  },
  {
   "cell_type": "code",
   "execution_count": 10,
   "id": "received-planning",
   "metadata": {},
   "outputs": [
    {
     "data": {
      "text/plain": [
       "(189, 22)"
      ]
     },
     "execution_count": 10,
     "metadata": {},
     "output_type": "execute_result"
    }
   ],
   "source": [
    "# Determine the number of observations in the dataset\n",
    "amphibians.shape"
   ]
  },
  {
   "cell_type": "markdown",
   "id": "governing-slovakia",
   "metadata": {},
   "source": [
    "The dataset is quite small with only a 189 observations. A small dataset increases the risk of overfitting. \n",
    "\n",
    "The dataset will be split into train and test set. Cross validation should be used to evaluate the model/s on the training set. "
   ]
  },
  {
   "cell_type": "code",
   "execution_count": 11,
   "id": "wrong-tackle",
   "metadata": {},
   "outputs": [
    {
     "data": {
      "text/html": [
       "<div>\n",
       "<style scoped>\n",
       "    .dataframe tbody tr th:only-of-type {\n",
       "        vertical-align: middle;\n",
       "    }\n",
       "\n",
       "    .dataframe tbody tr th {\n",
       "        vertical-align: top;\n",
       "    }\n",
       "\n",
       "    .dataframe thead th {\n",
       "        text-align: right;\n",
       "    }\n",
       "</style>\n",
       "<table border=\"1\" class=\"dataframe\">\n",
       "  <thead>\n",
       "    <tr style=\"text-align: right;\">\n",
       "      <th></th>\n",
       "      <th>species</th>\n",
       "      <th>count</th>\n",
       "      <th>percentage</th>\n",
       "    </tr>\n",
       "  </thead>\n",
       "  <tbody>\n",
       "    <tr>\n",
       "      <th>6</th>\n",
       "      <td>Great crested newt</td>\n",
       "      <td>21</td>\n",
       "      <td>11.0</td>\n",
       "    </tr>\n",
       "    <tr>\n",
       "      <th>3</th>\n",
       "      <td>Fire-bellied toad</td>\n",
       "      <td>58</td>\n",
       "      <td>31.0</td>\n",
       "    </tr>\n",
       "    <tr>\n",
       "      <th>5</th>\n",
       "      <td>Common newt</td>\n",
       "      <td>58</td>\n",
       "      <td>31.0</td>\n",
       "    </tr>\n",
       "    <tr>\n",
       "      <th>4</th>\n",
       "      <td>Tree frog</td>\n",
       "      <td>71</td>\n",
       "      <td>38.0</td>\n",
       "    </tr>\n",
       "    <tr>\n",
       "      <th>0</th>\n",
       "      <td>Green frogs</td>\n",
       "      <td>108</td>\n",
       "      <td>57.0</td>\n",
       "    </tr>\n",
       "    <tr>\n",
       "      <th>2</th>\n",
       "      <td>Common toad</td>\n",
       "      <td>124</td>\n",
       "      <td>66.0</td>\n",
       "    </tr>\n",
       "    <tr>\n",
       "      <th>1</th>\n",
       "      <td>Brown frogs</td>\n",
       "      <td>148</td>\n",
       "      <td>78.0</td>\n",
       "    </tr>\n",
       "  </tbody>\n",
       "</table>\n",
       "</div>"
      ],
      "text/plain": [
       "              species  count  percentage\n",
       "6  Great crested newt     21        11.0\n",
       "3   Fire-bellied toad     58        31.0\n",
       "5         Common newt     58        31.0\n",
       "4           Tree frog     71        38.0\n",
       "0         Green frogs    108        57.0\n",
       "2         Common toad    124        66.0\n",
       "1         Brown frogs    148        78.0"
      ]
     },
     "execution_count": 11,
     "metadata": {},
     "output_type": "execute_result"
    }
   ],
   "source": [
    "# View the number of frogs per species\n",
    "species = ['Green frogs', 'Brown frogs', 'Common toad', 'Fire-bellied toad', 'Tree frog', 'Common newt', 'Great crested newt']\n",
    "species_count = amphibians[species].sum().to_frame('count').reset_index()\n",
    "species_count.columns = ['species', 'count']\n",
    "species_count = species_count.sort_values('count')\n",
    "species_count['percentage'] = round(species_count['count']/189 * 100)\n",
    "species_count"
   ]
  },
  {
   "cell_type": "code",
   "execution_count": 12,
   "id": "advance-projector",
   "metadata": {},
   "outputs": [
    {
     "data": {
      "text/plain": [
       "Text(0.5, 1.0, 'The total number of occurences per species')"
      ]
     },
     "execution_count": 12,
     "metadata": {},
     "output_type": "execute_result"
    },
    {
     "data": {
      "image/png": "[encoded data removed]",
      "text/plain": [
       "<Figure size 432x288 with 1 Axes>"
      ]
     },
     "metadata": {
      "needs_background": "light"
     },
     "output_type": "display_data"
    }
   ],
   "source": [
    "# Create a barplot of the counts per species\n",
    "sns.barplot(data=species_count, x='species', y='count')\n",
    "plt.xticks(rotation=90)\n",
    "plt.title('The total number of occurences per species')"
   ]
  },
  {
   "cell_type": "markdown",
   "id": "correct-script",
   "metadata": {},
   "source": [
    "This figure shows the total number of occurences per species. Brown frogs were present in 148 of the sites observed, followed by common toads and green frogs. The Great Crested Newt was present at only 21 of the 189 sites observed. \n",
    "\n",
    "This a form of an unbalanced classification problem because some of the classes are underrepresented. This rules out accuracy as metric to assess the performance of the classifier. \n",
    "\n",
    "The data was collected for two road development projects. Let's compare the distribution of labels between the two road projects."
   ]
  },
  {
   "cell_type": "code",
   "execution_count": 13,
   "id": "corresponding-jackson",
   "metadata": {},
   "outputs": [
    {
     "data": {
      "text/html": [
       "<div>\n",
       "<style scoped>\n",
       "    .dataframe tbody tr th:only-of-type {\n",
       "        vertical-align: middle;\n",
       "    }\n",
       "\n",
       "    .dataframe tbody tr th {\n",
       "        vertical-align: top;\n",
       "    }\n",
       "\n",
       "    .dataframe thead th {\n",
       "        text-align: right;\n",
       "    }\n",
       "</style>\n",
       "<table border=\"1\" class=\"dataframe\">\n",
       "  <thead>\n",
       "    <tr style=\"text-align: right;\">\n",
       "      <th></th>\n",
       "      <th>Motorway</th>\n",
       "      <th>Green frogs</th>\n",
       "      <th>Brown frogs</th>\n",
       "      <th>Common toad</th>\n",
       "      <th>Fire-bellied toad</th>\n",
       "      <th>Tree frog</th>\n",
       "      <th>Common newt</th>\n",
       "      <th>Great crested newt</th>\n",
       "    </tr>\n",
       "  </thead>\n",
       "  <tbody>\n",
       "    <tr>\n",
       "      <th>0</th>\n",
       "      <td>A1</td>\n",
       "      <td>39</td>\n",
       "      <td>50</td>\n",
       "      <td>49</td>\n",
       "      <td>17</td>\n",
       "      <td>23</td>\n",
       "      <td>13</td>\n",
       "      <td>5</td>\n",
       "    </tr>\n",
       "    <tr>\n",
       "      <th>1</th>\n",
       "      <td>S52</td>\n",
       "      <td>69</td>\n",
       "      <td>98</td>\n",
       "      <td>75</td>\n",
       "      <td>41</td>\n",
       "      <td>48</td>\n",
       "      <td>45</td>\n",
       "      <td>16</td>\n",
       "    </tr>\n",
       "  </tbody>\n",
       "</table>\n",
       "</div>"
      ],
      "text/plain": [
       "  Motorway  Green frogs  Brown frogs  Common toad  Fire-bellied toad  \\\n",
       "0       A1           39           50           49                 17   \n",
       "1      S52           69           98           75                 41   \n",
       "\n",
       "   Tree frog  Common newt  Great crested newt  \n",
       "0         23           13                   5  \n",
       "1         48           45                  16  "
      ]
     },
     "execution_count": 13,
     "metadata": {},
     "output_type": "execute_result"
    }
   ],
   "source": [
    "# Group the values according to the motorway to determine if their are any differences between the two motorways\n",
    "species_count_motorway = amphibians.groupby('Motorway')[species].apply(lambda x : x.astype(int).sum())\n",
    "species_count_motorway.reset_index(inplace=True)\n",
    "species_count_motorway"
   ]
  },
  {
   "cell_type": "code",
   "execution_count": 14,
   "id": "billion-briefing",
   "metadata": {},
   "outputs": [
    {
     "data": {
      "text/plain": [
       "<seaborn.axisgrid.FacetGrid at 0x7ff3804ebf10>"
      ]
     },
     "execution_count": 14,
     "metadata": {},
     "output_type": "execute_result"
    },
    {
     "data": {
      "image/png": "[encoded data removed]",
      "text/plain": [
       "<Figure size 720x360 with 2 Axes>"
      ]
     },
     "metadata": {
      "needs_background": "light"
     },
     "output_type": "display_data"
    }
   ],
   "source": [
    "# Create barplots for each road/motorway and plot side by side for comparison\n",
    "g = sns.catplot(data=species_count_motorway, kind='bar', col='Motorway')\n",
    "g.fig.suptitle('Comparison of number of occurences per species per motorway project', size=14)\n",
    "g.fig.subplots_adjust(top=0.8)\n",
    "g.set_xticklabels(rotation=90)\n",
    "g.set_axis_labels(\"Species\", \"Count\")"
   ]
  },
  {
   "cell_type": "markdown",
   "id": "legal-intro",
   "metadata": {},
   "source": [
    "The figure above shows that more sample were collected for the S52 motorway project. The A1 motorway samples have an almost even number of observations of brown frogs and common toads whereas samples from the S52 motorway seem to indicate that brown frogs were present more frequently than common toads. The relatively rarer species are Fire-bellied toads, Tree frogs, Common Newst and Great crested newts for both motorways."
   ]
  },
  {
   "cell_type": "code",
   "execution_count": 15,
   "id": "universal-cookie",
   "metadata": {},
   "outputs": [
    {
     "data": {
      "text/html": [
       "<div>\n",
       "<style scoped>\n",
       "    .dataframe tbody tr th:only-of-type {\n",
       "        vertical-align: middle;\n",
       "    }\n",
       "\n",
       "    .dataframe tbody tr th {\n",
       "        vertical-align: top;\n",
       "    }\n",
       "\n",
       "    .dataframe thead th {\n",
       "        text-align: right;\n",
       "    }\n",
       "</style>\n",
       "<table border=\"1\" class=\"dataframe\">\n",
       "  <thead>\n",
       "    <tr style=\"text-align: right;\">\n",
       "      <th></th>\n",
       "      <th>species_present</th>\n",
       "    </tr>\n",
       "    <tr>\n",
       "      <th>ID</th>\n",
       "      <th></th>\n",
       "    </tr>\n",
       "  </thead>\n",
       "  <tbody>\n",
       "    <tr>\n",
       "      <th>1</th>\n",
       "      <td>0</td>\n",
       "    </tr>\n",
       "    <tr>\n",
       "      <th>6</th>\n",
       "      <td>0</td>\n",
       "    </tr>\n",
       "    <tr>\n",
       "      <th>125</th>\n",
       "      <td>0</td>\n",
       "    </tr>\n",
       "    <tr>\n",
       "      <th>129</th>\n",
       "      <td>0</td>\n",
       "    </tr>\n",
       "    <tr>\n",
       "      <th>132</th>\n",
       "      <td>0</td>\n",
       "    </tr>\n",
       "    <tr>\n",
       "      <th>179</th>\n",
       "      <td>0</td>\n",
       "    </tr>\n",
       "  </tbody>\n",
       "</table>\n",
       "</div>"
      ],
      "text/plain": [
       "     species_present\n",
       "ID                  \n",
       "1                  0\n",
       "6                  0\n",
       "125                0\n",
       "129                0\n",
       "132                0\n",
       "179                0"
      ]
     },
     "execution_count": 15,
     "metadata": {},
     "output_type": "execute_result"
    }
   ],
   "source": [
    "# Are there any observations with no species present?\n",
    "frogs_per_observation = amphibians[species].sum(axis=1).to_frame('species_present')\n",
    "frogs_per_observation[frogs_per_observation['species_present'] == 0]"
   ]
  },
  {
   "cell_type": "markdown",
   "id": "ideal-cabinet",
   "metadata": {},
   "source": [
    "There are 6 observations where there were no observations of any species of amphibians. "
   ]
  },
  {
   "cell_type": "code",
   "execution_count": 16,
   "id": "minus-addition",
   "metadata": {},
   "outputs": [],
   "source": [
    "# Check whether the data is ordered by splitting the data in half and comparing the motorway projects from which the sample were collected\n",
    "first_half = amphibians.iloc[0:int(189/2)]\n",
    "second_half = amphibians.iloc[int(189/2):]"
   ]
  },
  {
   "cell_type": "code",
   "execution_count": 17,
   "id": "dimensional-tuner",
   "metadata": {},
   "outputs": [
    {
     "data": {
      "text/plain": [
       "Text(0.5, 1.0, 'Second Half of Data')"
      ]
     },
     "execution_count": 17,
     "metadata": {},
     "output_type": "execute_result"
    },
    {
     "data": {
      "image/png": "[encoded data removed]",
      "text/plain": [
       "<Figure size 432x288 with 2 Axes>"
      ]
     },
     "metadata": {
      "needs_background": "light"
     },
     "output_type": "display_data"
    }
   ],
   "source": [
    "# Create barplot to compare the distribution of samples from each motorway project in the first half and the second half of the dataset\n",
    "fig, ax = plt.subplots(1, 2)\n",
    "fig.subplots_adjust(hspace=0.4, wspace=0.4)\n",
    "sns.countplot(ax=ax[0],data=first_half, x='Motorway', order=['A1', 'S52'])\n",
    "sns.countplot(ax=ax[1],data=second_half, x='Motorway', order=['A1', 'S52'])\n",
    "ax[0].set_title('First Half of Data')\n",
    "ax[1].set_title('Second Half of Data')"
   ]
  },
  {
   "cell_type": "markdown",
   "id": "exempt-redhead",
   "metadata": {},
   "source": [
    "The observations are organized according to the location from where the data was collected (Motorway A1 or S52). We will need to shuffle the data before splitting it so that the model works well for any motorway. "
   ]
  },
  {
   "cell_type": "markdown",
   "id": "improved-suicide",
   "metadata": {},
   "source": [
    "### Exploration of the numerical features"
   ]
  },
  {
   "cell_type": "markdown",
   "id": "precise-toyota",
   "metadata": {},
   "source": [
    "The figure is shows the assessment of a water reservoir (labelled 1). This is the [Borki](https://goo.gl/maps/4RRKHuK59Ss) water reservoir is located near Sosnowiec. It was unclear wether the surface area (SR) measurement is the total some of all water reservoirs in the habitat. Using the 'measure distance' feature, it was confirmed that this is not the total area of the water reservoirs in the habitat but the surface area of the specific water reservoir. \n",
    "\n",
    "The habitat containing the Borki reservoir contains 5 other water reservoirs. Therefore the value for number of reservoirs in habitate (NR) is 6. It is not clear how a habitat is defined. The reservoir was classified as type a (TR) which means that the reservoir is a reservoir with natural features. The surroundings of the reservoir are classified into 3 categories (dominant (SR1), 2nd most dominant (SR2), 3rd most dominant (SR3) Borki's most dominant surroundings can be classified as being parks and green areas (level d). The 2nd most dominant surroundings are dense building development (level e) and the 3rd most are roads and streets (h). \n",
    "\n",
    "The presence of vegetation in this reservoir (VR) is classfied has no vegetation (level a). The maintenance status (MR) of the reservoir is classified as clean (level a) and the use of the reservoir (UR) as recreational and scenic (level b). The level of fishing present (FR) is classified as lack of or occasional fishing (level a). The minimum distance to buildings (BR) is between 50m and 100m (level b) and the minimum distance to roads (RR) is less than 50m (level a). The Borki shore type (CR) is not shown in the figure but I would say it can be classified as natural (level a).  "
   ]
  },
  {
   "cell_type": "markdown",
   "id": "certified-circulation",
   "metadata": {},
   "source": [
    "**SR - Surface area of the water reservoir (m2)**\n",
    "\n",
    "This is the first numerical feature in the dataset."
   ]
  },
  {
   "cell_type": "code",
   "execution_count": 18,
   "id": "preceding-karen",
   "metadata": {},
   "outputs": [
    {
     "data": {
      "text/plain": [
       "count       189.000000\n",
       "mean       9633.227513\n",
       "std       46256.078309\n",
       "min          30.000000\n",
       "25%         300.000000\n",
       "50%         700.000000\n",
       "75%        3300.000000\n",
       "max      500000.000000\n",
       "Name: SR, dtype: float64"
      ]
     },
     "execution_count": 18,
     "metadata": {},
     "output_type": "execute_result"
    }
   ],
   "source": [
    "# Get a summary for the numerical feature\n",
    "amphibians['SR'].describe()"
   ]
  },
  {
   "cell_type": "markdown",
   "id": "wound-dealer",
   "metadata": {},
   "source": [
    "The SR feature has a large range from 30 to 500000 m2. The large mean compared to the median suggests that there might be outlier in the datasets. "
   ]
  },
  {
   "cell_type": "code",
   "execution_count": 19,
   "id": "incorrect-generic",
   "metadata": {},
   "outputs": [
    {
     "data": {
      "text/plain": [
       "Text(0.5, 0, 'Surface area of reservoirs in m2')"
      ]
     },
     "execution_count": 19,
     "metadata": {},
     "output_type": "execute_result"
    },
    {
     "data": {
      "image/png": "[encoded data removed]",
      "text/plain": [
       "<Figure size 432x288 with 1 Axes>"
      ]
     },
     "metadata": {
      "needs_background": "light"
     },
     "output_type": "display_data"
    }
   ],
   "source": [
    "# Create a boxplot to visualize the distribution of the feature\n",
    "sns.boxplot(data=amphibians, x='SR')\n",
    "plt.title('Boxplot of water reservoir surface area')\n",
    "plt.xlabel('Surface area of reservoirs in m2')"
   ]
  },
  {
   "cell_type": "markdown",
   "id": "casual-duration",
   "metadata": {},
   "source": [
    "The boxplot for water reservoir surface area shows a few very extreme values in the approximate range of 100000 to 500000 square metres or 0.1 to 0.5 square kilometres. This may seem like very extreme values compared to the rest of the dataset but to perhaps put it in persepctive, some lakes in Poland range from between 9.8 to 113.8 square kilometres. "
   ]
  },
  {
   "cell_type": "code",
   "execution_count": 20,
   "id": "threaded-wireless",
   "metadata": {},
   "outputs": [],
   "source": [
    "# Determine the number of outliers for reservoir surface area\n",
    "Q3 = amphibians['SR'].quantile(q=0.75)\n",
    "Q1 = amphibians['SR'].quantile(q=0.25)\n",
    "sr_outlier = len(amphibians[amphibians['SR'] > (1.5 * (Q3 - Q1))].sort_values(by='SR', ascending=False))"
   ]
  },
  {
   "cell_type": "code",
   "execution_count": 21,
   "id": "cognitive-collector",
   "metadata": {},
   "outputs": [
    {
     "data": {
      "text/plain": [
       "18.51851851851852"
      ]
     },
     "execution_count": 21,
     "metadata": {},
     "output_type": "execute_result"
    }
   ],
   "source": [
    "# Determine what percentage of the observations, the outlier present\n",
    "sr_outlier/len(amphibians) * 100"
   ]
  },
  {
   "cell_type": "markdown",
   "id": "breathing-interference",
   "metadata": {},
   "source": [
    "There are 35 samples that have a surface area larger than 1.5 times the IQR. This is 18.5% of the dataset. We would lose too much data by removing these values. \n",
    "\n",
    "As a result of the large range of values that this feature can take, it will be important to standardize this feature if algorithms like K-Nearest Neighbours is selected. "
   ]
  },
  {
   "cell_type": "markdown",
   "id": "olive-hepatitis",
   "metadata": {},
   "source": [
    "**NR - Number of water reservoirs in habitat**\n",
    "\n",
    "This is the second numerical feature in the dataset. This feature is not a continuous numerical feature but a discrete numerical feature. "
   ]
  },
  {
   "cell_type": "code",
   "execution_count": 22,
   "id": "speaking-louisville",
   "metadata": {},
   "outputs": [
    {
     "data": {
      "text/plain": [
       "1     148\n",
       "2      20\n",
       "3       7\n",
       "4       4\n",
       "5       3\n",
       "6       3\n",
       "7       1\n",
       "9       1\n",
       "10      1\n",
       "12      1\n",
       "Name: NR, dtype: int64"
      ]
     },
     "execution_count": 22,
     "metadata": {},
     "output_type": "execute_result"
    }
   ],
   "source": [
    "# Determine the number of unique value for this feature.\n",
    "amphibians['NR'].value_counts().sort_index()"
   ]
  },
  {
   "cell_type": "code",
   "execution_count": 23,
   "id": "tutorial-library",
   "metadata": {},
   "outputs": [
    {
     "data": {
      "text/plain": [
       "Text(0.5, 1.0, 'The number of water reservoirs in habitat')"
      ]
     },
     "execution_count": 23,
     "metadata": {},
     "output_type": "execute_result"
    },
    {
     "data": {
      "image/png": "[encoded data removed]",
      "text/plain": [
       "<Figure size 432x288 with 1 Axes>"
      ]
     },
     "metadata": {
      "needs_background": "light"
     },
     "output_type": "display_data"
    }
   ],
   "source": [
    "# Create a barplot of the feature\n",
    "sns.countplot(data=amphibians, x='NR')\n",
    "plt.title(\"The number of water reservoirs in habitat\")"
   ]
  },
  {
   "cell_type": "code",
   "execution_count": 24,
   "id": "injured-alarm",
   "metadata": {},
   "outputs": [
    {
     "data": {
      "text/plain": [
       "21.693121693121693"
      ]
     },
     "execution_count": 24,
     "metadata": {},
     "output_type": "execute_result"
    }
   ],
   "source": [
    "# Determine percentage of observations that have 2 or more water reservoirs\n",
    "len(amphibians[amphibians['NR'] > 1])/len(amphibians) * 100"
   ]
  },
  {
   "cell_type": "markdown",
   "id": "daily-economy",
   "metadata": {},
   "source": [
    "The count plot above shows that average value for the number of reservoirs in a habitate is 1.0. As mentioned earlier, it is unclear from the dataset description how the perimeter of a habitat was defined. 21 % of the observations have 2 or more reservoirs in the habitat. The dataset description does mention that it is believed that the greater the number of reservoirs in habitat, the more likely it is that some of them will be suitable for amphibian breeding. "
   ]
  },
  {
   "cell_type": "markdown",
   "id": "potential-joining",
   "metadata": {},
   "source": [
    "### Exploration of the categorical features\n",
    "\n",
    "In this section, we will explore the 12 categorical features of in the dataset. We have excluded the Motorway (MR) variable as it should not be as input into a model. "
   ]
  },
  {
   "cell_type": "code",
   "execution_count": 25,
   "id": "grave-coverage",
   "metadata": {},
   "outputs": [
    {
     "data": {
      "text/plain": [
       "1     116\n",
       "2       4\n",
       "5      12\n",
       "7       1\n",
       "11      4\n",
       "12     23\n",
       "14     10\n",
       "15     19\n",
       "Name: TR, dtype: int64"
      ]
     },
     "execution_count": 25,
     "metadata": {},
     "output_type": "execute_result"
    }
   ],
   "source": [
    "# Determine the number of unique values for this feature\n",
    "amphibians['TR'].value_counts().sort_index()"
   ]
  },
  {
   "cell_type": "code",
   "execution_count": 26,
   "id": "comfortable-spanish",
   "metadata": {},
   "outputs": [
    {
     "data": {
      "text/plain": [
       "1     43\n",
       "2     70\n",
       "4      1\n",
       "6     19\n",
       "7     20\n",
       "9      5\n",
       "10    30\n",
       "14     1\n",
       "Name: SUR1, dtype: int64"
      ]
     },
     "execution_count": 26,
     "metadata": {},
     "output_type": "execute_result"
    }
   ],
   "source": [
    "# Determine the number of unique values for this feature\n",
    "amphibians['SUR1'].value_counts().sort_index()"
   ]
  },
  {
   "cell_type": "markdown",
   "id": "valuable-raleigh",
   "metadata": {},
   "source": [
    "There are levels of this category that are missing. "
   ]
  },
  {
   "cell_type": "markdown",
   "id": "false-crime",
   "metadata": {},
   "source": [
    "**SUR2 - Surroundings 2**\n",
    "\n",
    "According to the dataset description, there 9 unique values for this variable. "
   ]
  },
  {
   "cell_type": "code",
   "execution_count": 27,
   "id": "industrial-isaac",
   "metadata": {},
   "outputs": [
    {
     "data": {
      "text/plain": [
       "1     36\n",
       "2     41\n",
       "6     39\n",
       "7     18\n",
       "9     10\n",
       "10    44\n",
       "11     1\n",
       "Name: SUR2, dtype: int64"
      ]
     },
     "execution_count": 27,
     "metadata": {},
     "output_type": "execute_result"
    }
   ],
   "source": [
    "# Determine the number of unique values for this feature\n",
    "amphibians['SUR2'].value_counts().sort_index()"
   ]
  },
  {
   "cell_type": "markdown",
   "id": "social-navigation",
   "metadata": {},
   "source": [
    "There are levels of this category that are missing. "
   ]
  },
  {
   "cell_type": "markdown",
   "id": "subject-beginning",
   "metadata": {},
   "source": [
    "**SUR3 - Surroundings 3**¶\n",
    "\n",
    "According to the dataset description, there 9 unique values for this variable"
   ]
  },
  {
   "cell_type": "code",
   "execution_count": 28,
   "id": "julian-seller",
   "metadata": {},
   "outputs": [
    {
     "data": {
      "text/plain": [
       "1     29\n",
       "2     29\n",
       "5      2\n",
       "6     55\n",
       "7     18\n",
       "9     10\n",
       "10    45\n",
       "11     1\n",
       "Name: SUR3, dtype: int64"
      ]
     },
     "execution_count": 28,
     "metadata": {},
     "output_type": "execute_result"
    }
   ],
   "source": [
    "# Determine the number of unique values for this feature\n",
    "amphibians['SUR3'].value_counts().sort_index()"
   ]
  },
  {
   "cell_type": "code",
   "execution_count": 29,
   "id": "modern-health",
   "metadata": {},
   "outputs": [
    {
     "data": {
      "text/plain": [
       "1    186\n",
       "2      3\n",
       "Name: CR, dtype: int64"
      ]
     },
     "execution_count": 29,
     "metadata": {},
     "output_type": "execute_result"
    }
   ],
   "source": [
    "# Determine the number of unique values for this feature\n",
    "amphibians['CR'].value_counts().sort_index()"
   ]
  },
  {
   "cell_type": "markdown",
   "id": "occupational-amateur",
   "metadata": {},
   "source": [
    "There are only 3 observations where the shore is concrete. Could it be strong feature for there won't be any amphibians? Or not informative at all?"
   ]
  },
  {
   "cell_type": "code",
   "execution_count": 30,
   "id": "tracked-reducing",
   "metadata": {},
   "outputs": [
    {
     "data": {
      "text/plain": [
       "0    30\n",
       "1    55\n",
       "2    35\n",
       "3    41\n",
       "4    28\n",
       "Name: VR, dtype: int64"
      ]
     },
     "execution_count": 30,
     "metadata": {},
     "output_type": "execute_result"
    }
   ],
   "source": [
    "# Determine the number of unique values for this feature\n",
    "amphibians['VR'].value_counts().sort_index()"
   ]
  },
  {
   "cell_type": "markdown",
   "id": "indoor-texas",
   "metadata": {},
   "source": [
    "All the levels of the variable appear in the dataset"
   ]
  },
  {
   "cell_type": "code",
   "execution_count": 31,
   "id": "unlimited-convergence",
   "metadata": {},
   "outputs": [
    {
     "data": {
      "text/plain": [
       "0    184\n",
       "1      1\n",
       "2      4\n",
       "Name: MR, dtype: int64"
      ]
     },
     "execution_count": 31,
     "metadata": {},
     "output_type": "execute_result"
    }
   ],
   "source": [
    "# Determine the number of unique values for this feature\n",
    "amphibians['MR'].value_counts().sort_index()"
   ]
  },
  {
   "cell_type": "markdown",
   "id": "collect-syracuse",
   "metadata": {},
   "source": [
    "My gut says this feature won't be informative. "
   ]
  },
  {
   "cell_type": "code",
   "execution_count": 32,
   "id": "handy-honduras",
   "metadata": {},
   "outputs": [
    {
     "data": {
      "text/plain": [
       "0    125\n",
       "1     16\n",
       "2     15\n",
       "3     18\n",
       "4     15\n",
       "Name: FR, dtype: int64"
      ]
     },
     "execution_count": 32,
     "metadata": {},
     "output_type": "execute_result"
    }
   ],
   "source": [
    "# Determine the number of unique values for this feature\n",
    "amphibians['FR'].value_counts().sort_index()"
   ]
  },
  {
   "cell_type": "code",
   "execution_count": 33,
   "id": "offshore-airfare",
   "metadata": {},
   "outputs": [
    {
     "data": {
      "text/plain": [
       "0     39\n",
       "1     62\n",
       "2     29\n",
       "5     46\n",
       "9      7\n",
       "10     6\n",
       "Name: BR, dtype: int64"
      ]
     },
     "execution_count": 33,
     "metadata": {},
     "output_type": "execute_result"
    }
   ],
   "source": [
    "# Determine the number of unique values for this feature\n",
    "amphibians['BR'].value_counts().sort_index()"
   ]
  },
  {
   "cell_type": "markdown",
   "id": "verbal-respect",
   "metadata": {},
   "source": [
    "The values of the two ordinal variables does not correspond to the descriptions of the variables but there are also 6 unique values. "
   ]
  },
  {
   "cell_type": "code",
   "execution_count": 34,
   "id": "absolute-three",
   "metadata": {},
   "outputs": [
    {
     "data": {
      "text/plain": [
       "0     47\n",
       "1     50\n",
       "2     39\n",
       "5     42\n",
       "9      7\n",
       "10     4\n",
       "Name: RR, dtype: int64"
      ]
     },
     "execution_count": 34,
     "metadata": {},
     "output_type": "execute_result"
    }
   ],
   "source": [
    "# Determine the number of unique values for this feature\n",
    "amphibians['RR'].value_counts().sort_index()"
   ]
  },
  {
   "cell_type": "markdown",
   "id": "least-montana",
   "metadata": {},
   "source": [
    "The values of the two ordinal variables does not correspond to the descriptions of the variables but there are also 6 unique values. "
   ]
  },
  {
   "cell_type": "code",
   "execution_count": 35,
   "id": "virgin-talent",
   "metadata": {},
   "outputs": [
    {
     "data": {
      "text/plain": [
       "25       7\n",
       "50      16\n",
       "75      22\n",
       "80       1\n",
       "99       2\n",
       "100    141\n",
       "Name: OR, dtype: int64"
      ]
     },
     "execution_count": 35,
     "metadata": {},
     "output_type": "execute_result"
    }
   ],
   "source": [
    "# Determine the number of unique values for this feature\n",
    "amphibians['OR'].value_counts().sort_index()"
   ]
  },
  {
   "cell_type": "markdown",
   "id": "material-compromise",
   "metadata": {},
   "source": [
    "The categories of the OR feature is different from the values described by the dataset description. Does 25 mean 0 to 25 or above 25 and there were no values below 25? It is most likely 0 to 25 because this feature is a percentage and therefore the 100 category cannot mean, greater than a 100. There are also two odd values: 80 and 90. "
   ]
  },
  {
   "cell_type": "code",
   "execution_count": 36,
   "id": "italic-custom",
   "metadata": {},
   "outputs": [
    {
     "data": {
      "text/html": [
       "<div>\n",
       "<style scoped>\n",
       "    .dataframe tbody tr th:only-of-type {\n",
       "        vertical-align: middle;\n",
       "    }\n",
       "\n",
       "    .dataframe tbody tr th {\n",
       "        vertical-align: top;\n",
       "    }\n",
       "\n",
       "    .dataframe thead th {\n",
       "        text-align: right;\n",
       "    }\n",
       "</style>\n",
       "<table border=\"1\" class=\"dataframe\">\n",
       "  <thead>\n",
       "    <tr style=\"text-align: right;\">\n",
       "      <th></th>\n",
       "      <th>Motorway</th>\n",
       "      <th>SR</th>\n",
       "      <th>NR</th>\n",
       "      <th>TR</th>\n",
       "      <th>VR</th>\n",
       "      <th>SUR1</th>\n",
       "      <th>SUR2</th>\n",
       "      <th>SUR3</th>\n",
       "      <th>UR</th>\n",
       "      <th>FR</th>\n",
       "      <th>...</th>\n",
       "      <th>BR</th>\n",
       "      <th>MR</th>\n",
       "      <th>CR</th>\n",
       "      <th>Green frogs</th>\n",
       "      <th>Brown frogs</th>\n",
       "      <th>Common toad</th>\n",
       "      <th>Fire-bellied toad</th>\n",
       "      <th>Tree frog</th>\n",
       "      <th>Common newt</th>\n",
       "      <th>Great crested newt</th>\n",
       "    </tr>\n",
       "    <tr>\n",
       "      <th>ID</th>\n",
       "      <th></th>\n",
       "      <th></th>\n",
       "      <th></th>\n",
       "      <th></th>\n",
       "      <th></th>\n",
       "      <th></th>\n",
       "      <th></th>\n",
       "      <th></th>\n",
       "      <th></th>\n",
       "      <th></th>\n",
       "      <th></th>\n",
       "      <th></th>\n",
       "      <th></th>\n",
       "      <th></th>\n",
       "      <th></th>\n",
       "      <th></th>\n",
       "      <th></th>\n",
       "      <th></th>\n",
       "      <th></th>\n",
       "      <th></th>\n",
       "      <th></th>\n",
       "    </tr>\n",
       "  </thead>\n",
       "  <tbody>\n",
       "    <tr>\n",
       "      <th>5</th>\n",
       "      <td>A1</td>\n",
       "      <td>600</td>\n",
       "      <td>2</td>\n",
       "      <td>1</td>\n",
       "      <td>4</td>\n",
       "      <td>10</td>\n",
       "      <td>2</td>\n",
       "      <td>6</td>\n",
       "      <td>0</td>\n",
       "      <td>0</td>\n",
       "      <td>...</td>\n",
       "      <td>5</td>\n",
       "      <td>0</td>\n",
       "      <td>1</td>\n",
       "      <td>0</td>\n",
       "      <td>1</td>\n",
       "      <td>1</td>\n",
       "      <td>1</td>\n",
       "      <td>0</td>\n",
       "      <td>1</td>\n",
       "      <td>1</td>\n",
       "    </tr>\n",
       "    <tr>\n",
       "      <th>53</th>\n",
       "      <td>A1</td>\n",
       "      <td>300</td>\n",
       "      <td>1</td>\n",
       "      <td>1</td>\n",
       "      <td>4</td>\n",
       "      <td>1</td>\n",
       "      <td>2</td>\n",
       "      <td>6</td>\n",
       "      <td>0</td>\n",
       "      <td>0</td>\n",
       "      <td>...</td>\n",
       "      <td>2</td>\n",
       "      <td>0</td>\n",
       "      <td>1</td>\n",
       "      <td>0</td>\n",
       "      <td>1</td>\n",
       "      <td>0</td>\n",
       "      <td>0</td>\n",
       "      <td>0</td>\n",
       "      <td>0</td>\n",
       "      <td>0</td>\n",
       "    </tr>\n",
       "    <tr>\n",
       "      <th>181</th>\n",
       "      <td>S52</td>\n",
       "      <td>4000</td>\n",
       "      <td>2</td>\n",
       "      <td>1</td>\n",
       "      <td>1</td>\n",
       "      <td>4</td>\n",
       "      <td>6</td>\n",
       "      <td>9</td>\n",
       "      <td>3</td>\n",
       "      <td>2</td>\n",
       "      <td>...</td>\n",
       "      <td>1</td>\n",
       "      <td>0</td>\n",
       "      <td>1</td>\n",
       "      <td>1</td>\n",
       "      <td>1</td>\n",
       "      <td>1</td>\n",
       "      <td>0</td>\n",
       "      <td>1</td>\n",
       "      <td>1</td>\n",
       "      <td>1</td>\n",
       "    </tr>\n",
       "  </tbody>\n",
       "</table>\n",
       "<p>3 rows × 22 columns</p>\n",
       "</div>"
      ],
      "text/plain": [
       "    Motorway    SR  NR  TR  VR  SUR1  SUR2  SUR3  UR  FR  ...  BR  MR  CR  \\\n",
       "ID                                                        ...               \n",
       "5         A1   600   2   1   4    10     2     6   0   0  ...   5   0   1   \n",
       "53        A1   300   1   1   4     1     2     6   0   0  ...   2   0   1   \n",
       "181      S52  4000   2   1   1     4     6     9   3   2  ...   1   0   1   \n",
       "\n",
       "     Green frogs  Brown frogs  Common toad  Fire-bellied toad  Tree frog  \\\n",
       "ID                                                                         \n",
       "5              0            1            1                  1          0   \n",
       "53             0            1            0                  0          0   \n",
       "181            1            1            1                  0          1   \n",
       "\n",
       "     Common newt  Great crested newt  \n",
       "ID                                    \n",
       "5              1                   1  \n",
       "53             0                   0  \n",
       "181            1                   1  \n",
       "\n",
       "[3 rows x 22 columns]"
      ]
     },
     "execution_count": 36,
     "metadata": {},
     "output_type": "execute_result"
    }
   ],
   "source": [
    "# View samples that contain odd values for OR\n",
    "amphibians[amphibians['OR'].isin([80, 99])]"
   ]
  },
  {
   "cell_type": "markdown",
   "id": "traditional-mapping",
   "metadata": {},
   "source": [
    "There is no quick visible indication of why these samples may have odd values for OR. We will assume that these variables were incorrectly encoded and actually belong to the 75 to 100% category. "
   ]
  },
  {
   "cell_type": "code",
   "execution_count": 37,
   "id": "middle-dispatch",
   "metadata": {},
   "outputs": [],
   "source": [
    "# Replace samples that have OR value equal to 80 or 99\n",
    "amphibians['OR'].replace([80, 99], [100, 100], inplace=True)"
   ]
  },
  {
   "cell_type": "code",
   "execution_count": 38,
   "id": "alternative-plant",
   "metadata": {},
   "outputs": [
    {
     "data": {
      "text/plain": [
       "25       7\n",
       "50      16\n",
       "75      22\n",
       "100    144\n",
       "Name: OR, dtype: int64"
      ]
     },
     "execution_count": 38,
     "metadata": {},
     "output_type": "execute_result"
    }
   ],
   "source": [
    "# Determine the number of unique values for this feature\n",
    "amphibians['OR'].value_counts().sort_index()"
   ]
  },
  {
   "cell_type": "markdown",
   "id": "stainless-pound",
   "metadata": {},
   "source": [
    "The dataset description lists the OR variable as a nominal categorical variable but it is a percentage value which does represent a rank ordering between the values and could be considered to be a ordinal categorical variable. "
   ]
  },
  {
   "cell_type": "markdown",
   "id": "substantial-ukraine",
   "metadata": {},
   "source": [
    "## Exploratory Data Analysis Summary"
   ]
  },
  {
   "cell_type": "markdown",
   "id": "blocked-chinese",
   "metadata": {},
   "source": [
    "The dataset is very small with only a 189 samples. There are no missing values but there are issues with how the categorical features have been encoded. The descriptions of the categories of many of the features is inconsistent with the description of the dataset so it is unclear how these features should be cleaned or engineered. It is possible that the categorical features in the dataset provided have already been encoded. \n",
    "\n",
    "No outliers will be removed from the dataset as it would reduce the size of the available data for model development too much. \n",
    "\n",
    "The labels of the target are unbalanced. \n",
    "\n",
    "Some of the amphibian species are rare. Only 6 of the 189 sites observed had no presence of amphibians. As the dataset is unbalanced, accuracy cannot be used to evaluate the models. "
   ]
  },
  {
   "cell_type": "code",
   "execution_count": 39,
   "id": "textile-nightmare",
   "metadata": {},
   "outputs": [],
   "source": [
    "# Drop the Motorway column from the dataset as this is not used \n",
    "amphibians = amphibians.drop(columns='Motorway')"
   ]
  },
  {
   "cell_type": "code",
   "execution_count": 40,
   "id": "romance-design",
   "metadata": {},
   "outputs": [],
   "source": [
    "# Split the data into features and target\n",
    "amphibians_feat = amphibians.drop(species, axis=1)"
   ]
  },
  {
   "cell_type": "markdown",
   "id": "official-scene",
   "metadata": {},
   "source": [
    "## Model Development"
   ]
  },
  {
   "cell_type": "markdown",
   "id": "cutting-timothy",
   "metadata": {},
   "source": [
    "### Fine tuning of the problem approach"
   ]
  },
  {
   "cell_type": "markdown",
   "id": "fifty-crest",
   "metadata": {},
   "source": [
    "A random forest model is a logically choice for this problem. In the early discussion regarding suitable classification algorithms for this problem, it was highlighted that a random forest is suitable for a mix of categorical and numerical features. A random forest is insensitive to the scaling of numerical features which is good because preprocessing can introduce an extra source of variance. An added benefit is that the random forest implementation in scikit-learn natively support multi-label classification. \n",
    "\n",
    "Following the same reasoning as above, the Gradient Boosted Trees and AdaBoost algorithm will also be good choices. The discussion on multi-label problem approaches, it was noted that the implementations of these two algorithms in scikit-learn do not natively support mulit-label classification. To use these algorithms, the problem will be effectively divided into 7 binary classifiers, one for each label, and together their outputs provide the multi-label output required. We will make use MultiOutputClassifier from scikit-learn to achieve this. \n",
    "\n",
    "The ROC AUC score will be used to evaluate the performance of the classifiers. The data will be randomly shuffled and split into a training and testing set. As the dataset is so small, we will make sure to evaluate the generalization performance of the models using cross validation and we will find the best model parameters using grid search.  \n",
    "\n",
    "It also seems that the categorical features have already undergone some form of encoding. As the categorical features are already numerical values and can be directly fed to a machine learning algorithm, we will assume they have been encoded and will not perform any further encoding as part of preprocessing. "
   ]
  },
  {
   "cell_type": "code",
   "execution_count": 41,
   "id": "million-thesis",
   "metadata": {},
   "outputs": [],
   "source": [
    "# Import required packages\n",
    "from sklearn.model_selection import train_test_split\n",
    "from sklearn.model_selection import GridSearchCV\n",
    "from sklearn.ensemble import RandomForestClassifier\n",
    "from sklearn.ensemble import GradientBoostingClassifier\n",
    "from sklearn.ensemble import AdaBoostClassifier\n",
    "from sklearn.multioutput import MultiOutputClassifier\n",
    "from sklearn.metrics import roc_auc_score"
   ]
  },
  {
   "cell_type": "markdown",
   "id": "catholic-enterprise",
   "metadata": {},
   "source": [
    "The original dataset is split into a train and test set. "
   ]
  },
  {
   "cell_type": "code",
   "execution_count": 42,
   "id": "aquatic-dairy",
   "metadata": {},
   "outputs": [],
   "source": [
    "# Shuffle and split the data into train, test and validations sets\n",
    "X_train, X_test, y_train, y_test = train_test_split(amphibians_feat, amphibians[species], test_size=0.20, random_state=42, shuffle=True)"
   ]
  },
  {
   "cell_type": "markdown",
   "id": "integrated-shoot",
   "metadata": {},
   "source": [
    "### Random Forest (RF) Classifier"
   ]
  },
  {
   "cell_type": "code",
   "execution_count": 43,
   "id": "physical-casting",
   "metadata": {},
   "outputs": [],
   "source": [
    "# Initialize the random forest classifier and set a random state for reproducibility\n",
    "rf = RandomForestClassifier(random_state=42)"
   ]
  },
  {
   "cell_type": "markdown",
   "id": "natural-young",
   "metadata": {},
   "source": [
    "**RF Hyperparamerter Tuning**"
   ]
  },
  {
   "cell_type": "markdown",
   "id": "superior-petroleum",
   "metadata": {},
   "source": [
    "A grid of parameters needs to be created to use with grid search to find the optimal tuning parameters for the model. The most important parameters of a random forest are `n_estimators`, `max_features` and `max_depth`. `n_estimators` refers to the number of trees and more trees are better. Averaging more trees will lead to a more robust ensemble by reducing overfitting. `max_features` determines how random each tree is. If the value `max_features` is 'sqrt' then `max_features=sqrt(n_features)`. "
   ]
  },
  {
   "cell_type": "code",
   "execution_count": 44,
   "id": "polyphonic-builder",
   "metadata": {},
   "outputs": [],
   "source": [
    "# Define the hyperparamter grid\n",
    "param_grid = {'n_estimators': [5, 10, 15, 20, 30, 40],\n",
    "              'max_features': ['sqrt', 'log2'],\n",
    "              'max_depth' : [4,5,6,7,8,9],\n",
    "              'criterion' :['gini', 'entropy']}"
   ]
  },
  {
   "cell_type": "code",
   "execution_count": 45,
   "id": "constant-laptop",
   "metadata": {},
   "outputs": [
    {
     "name": "stdout",
     "output_type": "stream",
     "text": [
      "Best parameters for a random forest model:\n"
     ]
    },
    {
     "data": {
      "text/plain": [
       "{'criterion': 'gini',\n",
       " 'max_depth': 8,\n",
       " 'max_features': 'sqrt',\n",
       " 'n_estimators': 20}"
      ]
     },
     "execution_count": 45,
     "metadata": {},
     "output_type": "execute_result"
    }
   ],
   "source": [
    "# Initialize and fit GridSearchCV\n",
    "gridsearch_rf = GridSearchCV(rf, param_grid, cv=5, scoring='roc_auc', return_train_score=True)\n",
    "gridsearch_rf.fit(X_train, y_train)\n",
    "print(\"Best parameters for a random forest model:\")\n",
    "gridsearch_rf.best_params_"
   ]
  },
  {
   "cell_type": "code",
   "execution_count": 46,
   "id": "comprehensive-error",
   "metadata": {},
   "outputs": [
    {
     "name": "stdout",
     "output_type": "stream",
     "text": [
      "ROC AUC score of the best estimator\n"
     ]
    },
    {
     "data": {
      "text/plain": [
       "0.68"
      ]
     },
     "execution_count": 46,
     "metadata": {},
     "output_type": "execute_result"
    }
   ],
   "source": [
    "# View the best score achieved\n",
    "print(\"ROC AUC score of the best estimator\")\n",
    "round(gridsearch_rf.best_score_,2)"
   ]
  },
  {
   "cell_type": "markdown",
   "id": "after-discipline",
   "metadata": {},
   "source": [
    "The grid search process determined that a random forest with 20 trees with max depth of 8 achieved the best roc auc score. The ROC AUC score is 0.68. Remember that a purely random classifier would achive a roc auc score of 0.5. The higher the ROC AUC, the better the classifier is at predicting 1s and 1s and 0s as 0s.  "
   ]
  },
  {
   "cell_type": "markdown",
   "id": "forty-watson",
   "metadata": {},
   "source": [
    "A great benefit of a Random Forest is that determining feature importances is inherent to the model. "
   ]
  },
  {
   "cell_type": "code",
   "execution_count": 47,
   "id": "supreme-handle",
   "metadata": {},
   "outputs": [
    {
     "data": {
      "text/plain": [
       "Surface Area                                0.188689\n",
       "Intensity of vegetation                     0.092102\n",
       "Surroundings 2                              0.091735\n",
       "Type of water reservoirs                    0.090907\n",
       "Surroundings 3                              0.088142\n",
       "Surroundings 1                              0.086380\n",
       "Building Development                        0.083713\n",
       "Roads                                       0.078468\n",
       "Fishing                                     0.049482\n",
       "Access from water table to land habitats    0.048591\n",
       "Management of water reservoir               0.044480\n",
       "Number of water reservoirs                  0.042203\n",
       "Maintenance                                 0.008044\n",
       "Type of shore                               0.007063\n",
       "dtype: float64"
      ]
     },
     "execution_count": 47,
     "metadata": {},
     "output_type": "execute_result"
    }
   ],
   "source": [
    "importances_rf = pd.Series(gridsearch_rf.best_estimator_.feature_importances_, amphibians_feat.columns)\n",
    "importances_rf = importances_rf.sort_values(ascending=False)\n",
    "full_feature_names = ['Surface Area', 'Intensity of vegetation', 'Surroundings 2', 'Type of water reservoirs', 'Surroundings 3', \n",
    "                      'Surroundings 1', 'Building Development', 'Roads', 'Fishing', \n",
    "                      'Access from water table to land habitats', 'Management of water reservoir',\n",
    "                      'Number of water reservoirs', 'Maintenance', 'Type of shore']\n",
    "importances_rf.index = full_feature_names\n",
    "importances_rf"
   ]
  },
  {
   "cell_type": "code",
   "execution_count": 48,
   "id": "proud-labor",
   "metadata": {},
   "outputs": [
    {
     "data": {
      "text/plain": [
       "Text(0.5, 1.0, 'Feature Importances from the random forest')"
      ]
     },
     "execution_count": 48,
     "metadata": {},
     "output_type": "execute_result"
    },
    {
     "data": {
      "image/png": "[encoded data removed]",
      "text/plain": [
       "<Figure size 432x288 with 1 Axes>"
      ]
     },
     "metadata": {
      "needs_background": "light"
     },
     "output_type": "display_data"
    }
   ],
   "source": [
    "# Plot the impurity based feature importances \n",
    "importances_rf.sort_values(ascending=True).plot(kind='barh')\n",
    "plt.title('Feature Importances from the random forest')"
   ]
  },
  {
   "cell_type": "markdown",
   "id": "respected-venezuela",
   "metadata": {},
   "source": [
    "According to the random forest model, surface area of the water reservoir (SR) is most important. After the SR features, there appear to three groups of mean descrease in impurity. The first group includes the intensity of the vegetation, the primary, secondary and tertiary surroundings, building development and roads. The maintenance of the water reservoir and the type of shore are the least informative features. "
   ]
  },
  {
   "cell_type": "markdown",
   "id": "metallic-airplane",
   "metadata": {},
   "source": [
    "**RF Model Evaluation**"
   ]
  },
  {
   "cell_type": "markdown",
   "id": "detailed-fishing",
   "metadata": {},
   "source": [
    "The best estimator or model will be evaluated using ROC AUC on the testing set. The ROC AUC will be determined for each class as well as macro average for over all labels will be determined. "
   ]
  },
  {
   "cell_type": "code",
   "execution_count": 49,
   "id": "peaceful-clearing",
   "metadata": {},
   "outputs": [],
   "source": [
    "# Use the best estimator to predict labels for the test set\n",
    "y_pred_rf = gridsearch_rf.predict_proba(X_test)\n",
    "y_pred_rf = np.transpose([pred[:, 1] for pred in y_pred_rf])"
   ]
  },
  {
   "cell_type": "code",
   "execution_count": 50,
   "id": "according-gregory",
   "metadata": {},
   "outputs": [
    {
     "data": {
      "text/plain": [
       "Brown frogs           0.591667\n",
       "Fire-bellied toad     0.624521\n",
       "Tree frog             0.704545\n",
       "Common toad           0.715942\n",
       "Common newt           0.763636\n",
       "Green frogs           0.785714\n",
       "Great crested newt    0.864865\n",
       "dtype: float64"
      ]
     },
     "execution_count": 50,
     "metadata": {},
     "output_type": "execute_result"
    }
   ],
   "source": [
    "# Calculate the ROC AUC scores for each of the labels and store in a Pandas series\n",
    "auc_scores_classes_rf = pd.Series(roc_auc_score(y_test, y_pred_rf, average=None), amphibians[species].columns)\n",
    "auc_scores_classes_rf.sort_values()"
   ]
  },
  {
   "cell_type": "code",
   "execution_count": 51,
   "id": "motivated-davis",
   "metadata": {},
   "outputs": [
    {
     "data": {
      "text/plain": [
       "Text(0.5, 0, 'ROC AUC score')"
      ]
     },
     "execution_count": 51,
     "metadata": {},
     "output_type": "execute_result"
    },
    {
     "data": {
      "image/png": "[encoded data removed]",
      "text/plain": [
       "<Figure size 432x288 with 1 Axes>"
      ]
     },
     "metadata": {
      "needs_background": "light"
     },
     "output_type": "display_data"
    }
   ],
   "source": [
    "# Plot the ROC AUC scores for each target label\n",
    "auc_scores_classes_rf.sort_values(ascending=True).plot(kind='barh' , color='green')\n",
    "plt.title('ROC AUC score for a Random Forest')\n",
    "plt.xlabel('ROC AUC score')"
   ]
  },
  {
   "cell_type": "code",
   "execution_count": 52,
   "id": "filled-insulin",
   "metadata": {},
   "outputs": [
    {
     "data": {
      "text/plain": [
       "0.72"
      ]
     },
     "execution_count": 52,
     "metadata": {},
     "output_type": "execute_result"
    }
   ],
   "source": [
    "# Calculate the unweighted mean AUC which does not take label imbalance into account\n",
    "auc_scores_macro_rf = roc_auc_score(y_test, y_pred_rf, average='macro')\n",
    "round(auc_scores_macro_rf,2)"
   ]
  },
  {
   "cell_type": "code",
   "execution_count": 53,
   "id": "frequent-grounds",
   "metadata": {},
   "outputs": [
    {
     "data": {
      "text/plain": [
       "0.69"
      ]
     },
     "execution_count": 53,
     "metadata": {},
     "output_type": "execute_result"
    }
   ],
   "source": [
    "# Calculate the AUC for each label, find their average, weighted by support (the number of true instances for each label)\n",
    "auc_scores_weighted_rf = roc_auc_score(y_test, y_pred_rf, average='weighted')\n",
    "round(auc_scores_weighted_rf,2)"
   ]
  },
  {
   "cell_type": "markdown",
   "id": "outer-conviction",
   "metadata": {},
   "source": [
    "The RF classifier achieves an unweighted average AUC of 0.72 on the test data which is slightly higher than the 0.68 achieved on the training data. The classifier achieves a weighted average AUC of 0.69. The weights are determined by the number of true instances for each label. The RF classifier achieves the highest AUC score for Great Crested Newts and the lowest score for Brown Frogs. Great Crested newts are the most rare species in the dataset and Brown Frogs were present most frequently. The rest of the AUC scores have no relation to the number of occurences of each species. In simple terms, the RF classifier is better at predicting whether Great Crested Newts will be present in a location compared than brown frogs. Collecting more samples where brown frogs were not present will help to improve this classifier. "
   ]
  },
  {
   "cell_type": "markdown",
   "id": "dense-saver",
   "metadata": {},
   "source": [
    "### Gradient Boosting Tree (GBT) Classifier"
   ]
  },
  {
   "cell_type": "markdown",
   "id": "occupational-index",
   "metadata": {},
   "source": [
    "A GBT classifier will be trained for each class or label. The outputs from individual GBT classifiers are combined to produce a multi-label output. "
   ]
  },
  {
   "cell_type": "code",
   "execution_count": 54,
   "id": "thrown-surgeon",
   "metadata": {},
   "outputs": [],
   "source": [
    "# Initialize the random forest classifier and set a random state for reproducibility\n",
    "gbt = MultiOutputClassifier(GradientBoostingClassifier(random_state=42))"
   ]
  },
  {
   "cell_type": "markdown",
   "id": "substantial-atlantic",
   "metadata": {},
   "source": [
    "**GBT Hyperparameter Tuning**"
   ]
  },
  {
   "cell_type": "code",
   "execution_count": 55,
   "id": "brazilian-debut",
   "metadata": {},
   "outputs": [],
   "source": [
    "# Define the hyperparameter grid\n",
    "param_grid_gbt = {'estimator__n_estimators': [50, 60, 70, 80, 90, 100, 110, 120, 130],\n",
    "                  'estimator__learning_rate': [0.08, 0.09, 0.1]}"
   ]
  },
  {
   "cell_type": "code",
   "execution_count": 56,
   "id": "excessive-implement",
   "metadata": {},
   "outputs": [
    {
     "name": "stdout",
     "output_type": "stream",
     "text": [
      "Best parameters for a GBT model:\n"
     ]
    },
    {
     "data": {
      "text/plain": [
       "{'estimator__learning_rate': 0.1, 'estimator__n_estimators': 60}"
      ]
     },
     "execution_count": 56,
     "metadata": {},
     "output_type": "execute_result"
    }
   ],
   "source": [
    "# Initialize and fit GridSearchCV\n",
    "gridsearch_gbt = GridSearchCV(gbt, param_grid_gbt, cv=5, scoring='roc_auc', return_train_score=True)\n",
    "gridsearch_gbt.fit(X_train, y_train)\n",
    "print(\"Best parameters for a GBT model:\")\n",
    "gridsearch_gbt.best_params_"
   ]
  },
  {
   "cell_type": "code",
   "execution_count": 57,
   "id": "finnish-genome",
   "metadata": {},
   "outputs": [
    {
     "name": "stdout",
     "output_type": "stream",
     "text": [
      "ROC AUC score of the best estimator\n"
     ]
    },
    {
     "data": {
      "text/plain": [
       "0.63"
      ]
     },
     "execution_count": 57,
     "metadata": {},
     "output_type": "execute_result"
    }
   ],
   "source": [
    "# View the best score achieved\n",
    "print(\"ROC AUC score of the best estimator\")\n",
    "round(gridsearch_gbt.best_score_,2)"
   ]
  },
  {
   "cell_type": "markdown",
   "id": "introductory-danish",
   "metadata": {},
   "source": [
    "To develop a multi-label classifier using the GBT algorithm, 7 binary classifiers are created and their output is combined. This is makes it complex to extract the overall features importances and we will leave that future work on this problem. "
   ]
  },
  {
   "cell_type": "markdown",
   "id": "sublime-shift",
   "metadata": {},
   "source": [
    "**GBT Model Evaluation**"
   ]
  },
  {
   "cell_type": "markdown",
   "id": "alpha-resolution",
   "metadata": {},
   "source": [
    "The best estimator or model will be evaluated using ROC AUC on the testing set. The ROC AUC will be determined for each class as well as macro average for over all labels will be determined. "
   ]
  },
  {
   "cell_type": "code",
   "execution_count": 58,
   "id": "useful-provider",
   "metadata": {},
   "outputs": [],
   "source": [
    "# Use the best estimator to predict labels for the test set\n",
    "y_pred_gbt = gridsearch_gbt.predict_proba(X_test)\n",
    "y_pred_gbt = np.transpose([pred[:, 1] for pred in y_pred_gbt])"
   ]
  },
  {
   "cell_type": "code",
   "execution_count": 59,
   "id": "green-efficiency",
   "metadata": {},
   "outputs": [
    {
     "data": {
      "text/plain": [
       "Brown frogs           0.508333\n",
       "Common newt           0.509091\n",
       "Common toad           0.634783\n",
       "Tree frog             0.642045\n",
       "Fire-bellied toad     0.685824\n",
       "Green frogs           0.739496\n",
       "Great crested newt    0.783784\n",
       "dtype: float64"
      ]
     },
     "execution_count": 59,
     "metadata": {},
     "output_type": "execute_result"
    }
   ],
   "source": [
    "# Calculate the ROC AUC scores for each of the labels and store in a Pandas series\n",
    "\n",
    "auc_scores_classes_gbt = pd.Series(roc_auc_score(y_test, y_pred_gbt, average=None), amphibians[species].columns)\n",
    "auc_scores_classes_gbt.sort_values()"
   ]
  },
  {
   "cell_type": "code",
   "execution_count": 60,
   "id": "elect-british",
   "metadata": {},
   "outputs": [
    {
     "data": {
      "text/plain": [
       "Text(0.5, 0, 'ROC AUC score')"
      ]
     },
     "execution_count": 60,
     "metadata": {},
     "output_type": "execute_result"
    },
    {
     "data": {
      "image/png": "[encoded data removed]",
      "text/plain": [
       "<Figure size 432x288 with 1 Axes>"
      ]
     },
     "metadata": {
      "needs_background": "light"
     },
     "output_type": "display_data"
    }
   ],
   "source": [
    "# Plot the ROC AUC scores for each target label\n",
    "auc_scores_classes_gbt.sort_values(ascending=True).plot(kind='barh' , color='green')\n",
    "plt.title('ROC AUC score for a GBT')\n",
    "plt.xlabel('ROC AUC score')"
   ]
  },
  {
   "cell_type": "code",
   "execution_count": 61,
   "id": "beginning-reset",
   "metadata": {},
   "outputs": [
    {
     "data": {
      "text/plain": [
       "0.64"
      ]
     },
     "execution_count": 61,
     "metadata": {},
     "output_type": "execute_result"
    }
   ],
   "source": [
    "# Calculate the unweighted mean AUC which does not take label imbalance into account\n",
    "\n",
    "auc_scores_macro_gbt = roc_auc_score(y_test, y_pred_gbt, average='macro')\n",
    "round(auc_scores_macro_gbt,2)"
   ]
  },
  {
   "cell_type": "code",
   "execution_count": 62,
   "id": "apart-clark",
   "metadata": {},
   "outputs": [
    {
     "data": {
      "text/plain": [
       "0.62"
      ]
     },
     "execution_count": 62,
     "metadata": {},
     "output_type": "execute_result"
    }
   ],
   "source": [
    "# Calculate the AUC for each label, find their average, weighted by support (the number of true instances for each label)\n",
    "\n",
    "auc_scores_weighted_gbt = roc_auc_score(y_test, y_pred_gbt, average='weighted')\n",
    "round(auc_scores_weighted_gbt,2)"
   ]
  },
  {
   "cell_type": "markdown",
   "id": "architectural-period",
   "metadata": {},
   "source": [
    "The GBT classifier achieves an unweighted average AUC of 0.64 on the test data which is similar to the AUC achieved in training of 0.63. The classifier achieves a weighted average AUC of 0.62. The weights are determinee by the number of true instances for each label. Similar to RF classifier, the GBT classifier achieves the highest AUC score for Great Crested Newts and the lowest score for Brown Frogs. "
   ]
  },
  {
   "cell_type": "markdown",
   "id": "coordinate-mexican",
   "metadata": {},
   "source": [
    "### AdaBoost Classifier"
   ]
  },
  {
   "cell_type": "markdown",
   "id": "postal-spelling",
   "metadata": {},
   "source": [
    "A AdaBoost classifier will be trained for each class or label. The outputs from individual GBT classifiers are combined to produce a multi-label output. "
   ]
  },
  {
   "cell_type": "code",
   "execution_count": 63,
   "id": "partial-needle",
   "metadata": {},
   "outputs": [],
   "source": [
    "# Initialize the random forest classifier and set a random state for reproducibility\n",
    "ada = MultiOutputClassifier(AdaBoostClassifier(random_state=42))"
   ]
  },
  {
   "cell_type": "markdown",
   "id": "sharing-flavor",
   "metadata": {},
   "source": [
    "**AdaBoost Hyperparameter Tuning**"
   ]
  },
  {
   "cell_type": "code",
   "execution_count": 64,
   "id": "brutal-building",
   "metadata": {},
   "outputs": [],
   "source": [
    "# Define the hyperparameter grid\n",
    "param_grid_ada = {'estimator__n_estimators': [50, 60, 70, 80, 90, 100, 110, 120, 130],\n",
    "                  'estimator__learning_rate': [0.08, 0.09, 0.1]}"
   ]
  },
  {
   "cell_type": "code",
   "execution_count": 65,
   "id": "norman-quest",
   "metadata": {},
   "outputs": [
    {
     "name": "stdout",
     "output_type": "stream",
     "text": [
      "Best parameters for a AdaBoost model:\n"
     ]
    },
    {
     "data": {
      "text/plain": [
       "{'estimator__learning_rate': 0.09, 'estimator__n_estimators': 50}"
      ]
     },
     "execution_count": 65,
     "metadata": {},
     "output_type": "execute_result"
    }
   ],
   "source": [
    "# Initialize and fit GridSearchCV\n",
    "gridsearch_ada = GridSearchCV(ada, param_grid_ada, cv=5, scoring='roc_auc', return_train_score=True)\n",
    "gridsearch_ada.fit(X_train, y_train)\n",
    "print(\"Best parameters for a AdaBoost model:\")\n",
    "gridsearch_ada.best_params_"
   ]
  },
  {
   "cell_type": "code",
   "execution_count": 66,
   "id": "superior-pendant",
   "metadata": {},
   "outputs": [
    {
     "name": "stdout",
     "output_type": "stream",
     "text": [
      "ROC AUC score of the best estimator\n"
     ]
    },
    {
     "data": {
      "text/plain": [
       "0.64"
      ]
     },
     "execution_count": 66,
     "metadata": {},
     "output_type": "execute_result"
    }
   ],
   "source": [
    "# View the best score achieved\n",
    "print(\"ROC AUC score of the best estimator\")\n",
    "round(gridsearch_ada.best_score_,2)"
   ]
  },
  {
   "cell_type": "markdown",
   "id": "constant-blood",
   "metadata": {},
   "source": [
    "As with the GBT, the extraction of the overall features importances will be left for future work on this problem. "
   ]
  },
  {
   "cell_type": "markdown",
   "id": "looking-poverty",
   "metadata": {},
   "source": [
    "**AdaBoost Model Evaluation**"
   ]
  },
  {
   "cell_type": "markdown",
   "id": "present-yellow",
   "metadata": {},
   "source": [
    "The best estimator or model will be evaluated using ROC AUC on the testing set. The ROC AUC will be determined for each class as well as macro average for over all labels will be determined. "
   ]
  },
  {
   "cell_type": "code",
   "execution_count": 67,
   "id": "romance-likelihood",
   "metadata": {},
   "outputs": [],
   "source": [
    "# Use the best estimator to predict labels for the test set\n",
    "y_pred_ada = gridsearch_ada.predict_proba(X_test)\n",
    "y_pred_ada = np.transpose([pred[:, 1] for pred in y_pred_ada])"
   ]
  },
  {
   "cell_type": "code",
   "execution_count": 68,
   "id": "white-behavior",
   "metadata": {},
   "outputs": [
    {
     "data": {
      "text/plain": [
       "Brown frogs           0.514583\n",
       "Common newt           0.527273\n",
       "Great crested newt    0.621622\n",
       "Common toad           0.659420\n",
       "Tree frog             0.698864\n",
       "Fire-bellied toad     0.749042\n",
       "Green frogs           0.784314\n",
       "dtype: float64"
      ]
     },
     "execution_count": 68,
     "metadata": {},
     "output_type": "execute_result"
    }
   ],
   "source": [
    "# Calculate the ROC AUC scores for each of the labels and store in a Pandas series\n",
    "\n",
    "auc_scores_classes_ada = pd.Series(roc_auc_score(y_test, y_pred_ada, average=None), amphibians[species].columns)\n",
    "auc_scores_classes_ada.sort_values()"
   ]
  },
  {
   "cell_type": "code",
   "execution_count": 69,
   "id": "handmade-provider",
   "metadata": {},
   "outputs": [
    {
     "data": {
      "text/plain": [
       "Text(0.5, 0, 'ROC AUC score')"
      ]
     },
     "execution_count": 69,
     "metadata": {},
     "output_type": "execute_result"
    },
    {
     "data": {
      "image/png": "[encoded data removed]",
      "text/plain": [
       "<Figure size 432x288 with 1 Axes>"
      ]
     },
     "metadata": {
      "needs_background": "light"
     },
     "output_type": "display_data"
    }
   ],
   "source": [
    "# Plot the ROC AUC scores for each target label\n",
    "auc_scores_classes_ada.sort_values(ascending=True).plot(kind='barh' , color='green')\n",
    "plt.title('ROC AUC score for AdaBoost')\n",
    "plt.xlabel('ROC AUC score')"
   ]
  },
  {
   "cell_type": "code",
   "execution_count": 70,
   "id": "serious-television",
   "metadata": {},
   "outputs": [
    {
     "data": {
      "text/plain": [
       "0.65"
      ]
     },
     "execution_count": 70,
     "metadata": {},
     "output_type": "execute_result"
    }
   ],
   "source": [
    "# Calculate the unweighted mean AUC which does not take label imbalance into account\n",
    "\n",
    "auc_scores_macro_ada = roc_auc_score(y_test, y_pred_ada, average='macro')\n",
    "round(auc_scores_macro_ada,2)"
   ]
  },
  {
   "cell_type": "code",
   "execution_count": 71,
   "id": "hindu-richmond",
   "metadata": {},
   "outputs": [
    {
     "data": {
      "text/plain": [
       "0.65"
      ]
     },
     "execution_count": 71,
     "metadata": {},
     "output_type": "execute_result"
    }
   ],
   "source": [
    "# Calculate the AUC for each label, find their average, weighted by support (the number of true instances for each label)\n",
    "\n",
    "auc_scores_weighted_ada = roc_auc_score(y_test, y_pred_ada, average='weighted')\n",
    "round(auc_scores_weighted_ada,2)"
   ]
  },
  {
   "cell_type": "markdown",
   "id": "casual-zoning",
   "metadata": {},
   "source": [
    "The AdaBoost classifier achieves an unweighted average AUC of 0.65 on the test data which is similar to the AUC achieved in training of 0.64. The classifier achieves a weighted average AUC of 0.65. Similar to both the GBT and RF classifiers, the AdaBoost classifier achieves the highest AUC score for Great Crested Newts and the lowest score for Brown Frogs. "
   ]
  },
  {
   "cell_type": "markdown",
   "id": "coordinate-weekly",
   "metadata": {},
   "source": [
    "## Results Comparison"
   ]
  },
  {
   "cell_type": "code",
   "execution_count": 72,
   "id": "olympic-buying",
   "metadata": {},
   "outputs": [],
   "source": [
    "# Combine the auc scores per label for each of the three algorithms into a single dataframe\n",
    "auc_results = pd.concat([auc_scores_classes_rf, auc_scores_classes_gbt, auc_scores_classes_ada], axis=1)\n",
    "auc_results.columns = ['RF', 'GBT', 'Ada']"
   ]
  },
  {
   "cell_type": "code",
   "execution_count": 73,
   "id": "recovered-quebec",
   "metadata": {},
   "outputs": [],
   "source": [
    "# Define a custom function to highlight the maximum value in yellow\n",
    "def highlight_max(s):\n",
    "    '''\n",
    "    highlight the maximum in a Series yellow.\n",
    "    '''\n",
    "    is_max = s == s.max()\n",
    "    return ['background-color: yellow' if v else '' for v in is_max]"
   ]
  },
  {
   "cell_type": "code",
   "execution_count": 74,
   "id": "committed-corruption",
   "metadata": {},
   "outputs": [
    {
     "data": {
      "text/html": [
       "<style  type=\"text/css\" >\n",
       "    #T_0e6afb14_9577_11eb_b29c_1e008a361a81row0_col0 {\n",
       "            background-color:  yellow;\n",
       "        }    #T_0e6afb14_9577_11eb_b29c_1e008a361a81row1_col0 {\n",
       "            background-color:  yellow;\n",
       "        }    #T_0e6afb14_9577_11eb_b29c_1e008a361a81row2_col0 {\n",
       "            background-color:  yellow;\n",
       "        }    #T_0e6afb14_9577_11eb_b29c_1e008a361a81row3_col2 {\n",
       "            background-color:  yellow;\n",
       "        }    #T_0e6afb14_9577_11eb_b29c_1e008a361a81row4_col0 {\n",
       "            background-color:  yellow;\n",
       "        }    #T_0e6afb14_9577_11eb_b29c_1e008a361a81row5_col0 {\n",
       "            background-color:  yellow;\n",
       "        }    #T_0e6afb14_9577_11eb_b29c_1e008a361a81row6_col0 {\n",
       "            background-color:  yellow;\n",
       "        }</style><table id=\"T_0e6afb14_9577_11eb_b29c_1e008a361a81\" ><thead>    <tr>        <th class=\"blank level0\" ></th>        <th class=\"col_heading level0 col0\" >RF</th>        <th class=\"col_heading level0 col1\" >GBT</th>        <th class=\"col_heading level0 col2\" >Ada</th>    </tr></thead><tbody>\n",
       "                <tr>\n",
       "                        <th id=\"T_0e6afb14_9577_11eb_b29c_1e008a361a81level0_row0\" class=\"row_heading level0 row0\" >Green frogs</th>\n",
       "                        <td id=\"T_0e6afb14_9577_11eb_b29c_1e008a361a81row0_col0\" class=\"data row0 col0\" >0.785714</td>\n",
       "                        <td id=\"T_0e6afb14_9577_11eb_b29c_1e008a361a81row0_col1\" class=\"data row0 col1\" >0.739496</td>\n",
       "                        <td id=\"T_0e6afb14_9577_11eb_b29c_1e008a361a81row0_col2\" class=\"data row0 col2\" >0.784314</td>\n",
       "            </tr>\n",
       "            <tr>\n",
       "                        <th id=\"T_0e6afb14_9577_11eb_b29c_1e008a361a81level0_row1\" class=\"row_heading level0 row1\" >Brown frogs</th>\n",
       "                        <td id=\"T_0e6afb14_9577_11eb_b29c_1e008a361a81row1_col0\" class=\"data row1 col0\" >0.591667</td>\n",
       "                        <td id=\"T_0e6afb14_9577_11eb_b29c_1e008a361a81row1_col1\" class=\"data row1 col1\" >0.508333</td>\n",
       "                        <td id=\"T_0e6afb14_9577_11eb_b29c_1e008a361a81row1_col2\" class=\"data row1 col2\" >0.514583</td>\n",
       "            </tr>\n",
       "            <tr>\n",
       "                        <th id=\"T_0e6afb14_9577_11eb_b29c_1e008a361a81level0_row2\" class=\"row_heading level0 row2\" >Common toad</th>\n",
       "                        <td id=\"T_0e6afb14_9577_11eb_b29c_1e008a361a81row2_col0\" class=\"data row2 col0\" >0.715942</td>\n",
       "                        <td id=\"T_0e6afb14_9577_11eb_b29c_1e008a361a81row2_col1\" class=\"data row2 col1\" >0.634783</td>\n",
       "                        <td id=\"T_0e6afb14_9577_11eb_b29c_1e008a361a81row2_col2\" class=\"data row2 col2\" >0.65942</td>\n",
       "            </tr>\n",
       "            <tr>\n",
       "                        <th id=\"T_0e6afb14_9577_11eb_b29c_1e008a361a81level0_row3\" class=\"row_heading level0 row3\" >Fire-bellied toad</th>\n",
       "                        <td id=\"T_0e6afb14_9577_11eb_b29c_1e008a361a81row3_col0\" class=\"data row3 col0\" >0.624521</td>\n",
       "                        <td id=\"T_0e6afb14_9577_11eb_b29c_1e008a361a81row3_col1\" class=\"data row3 col1\" >0.685824</td>\n",
       "                        <td id=\"T_0e6afb14_9577_11eb_b29c_1e008a361a81row3_col2\" class=\"data row3 col2\" >0.749042</td>\n",
       "            </tr>\n",
       "            <tr>\n",
       "                        <th id=\"T_0e6afb14_9577_11eb_b29c_1e008a361a81level0_row4\" class=\"row_heading level0 row4\" >Tree frog</th>\n",
       "                        <td id=\"T_0e6afb14_9577_11eb_b29c_1e008a361a81row4_col0\" class=\"data row4 col0\" >0.704545</td>\n",
       "                        <td id=\"T_0e6afb14_9577_11eb_b29c_1e008a361a81row4_col1\" class=\"data row4 col1\" >0.642045</td>\n",
       "                        <td id=\"T_0e6afb14_9577_11eb_b29c_1e008a361a81row4_col2\" class=\"data row4 col2\" >0.698864</td>\n",
       "            </tr>\n",
       "            <tr>\n",
       "                        <th id=\"T_0e6afb14_9577_11eb_b29c_1e008a361a81level0_row5\" class=\"row_heading level0 row5\" >Common newt</th>\n",
       "                        <td id=\"T_0e6afb14_9577_11eb_b29c_1e008a361a81row5_col0\" class=\"data row5 col0\" >0.763636</td>\n",
       "                        <td id=\"T_0e6afb14_9577_11eb_b29c_1e008a361a81row5_col1\" class=\"data row5 col1\" >0.509091</td>\n",
       "                        <td id=\"T_0e6afb14_9577_11eb_b29c_1e008a361a81row5_col2\" class=\"data row5 col2\" >0.527273</td>\n",
       "            </tr>\n",
       "            <tr>\n",
       "                        <th id=\"T_0e6afb14_9577_11eb_b29c_1e008a361a81level0_row6\" class=\"row_heading level0 row6\" >Great crested newt</th>\n",
       "                        <td id=\"T_0e6afb14_9577_11eb_b29c_1e008a361a81row6_col0\" class=\"data row6 col0\" >0.864865</td>\n",
       "                        <td id=\"T_0e6afb14_9577_11eb_b29c_1e008a361a81row6_col1\" class=\"data row6 col1\" >0.783784</td>\n",
       "                        <td id=\"T_0e6afb14_9577_11eb_b29c_1e008a361a81row6_col2\" class=\"data row6 col2\" >0.621622</td>\n",
       "            </tr>\n",
       "    </tbody></table>"
      ],
      "text/plain": [
       "<pandas.io.formats.style.Styler at 0x7ff37075cdc0>"
      ]
     },
     "execution_count": 74,
     "metadata": {},
     "output_type": "execute_result"
    }
   ],
   "source": [
    "# Apply the custom function to the results dataframe to highlight the highest value per row\n",
    "auc_results.style.apply(highlight_max, axis=1)"
   ]
  },
  {
   "cell_type": "markdown",
   "id": "beginning-answer",
   "metadata": {},
   "source": [
    "The table above shows a comparison of the AUC scores achieved by each algorithm per class. The random forest classifier achieves the highest AUC score for 6 out of the 7 labels. The AdaBoost algorithm performs better than a random forest for Fire-bellied toads. Fire-bellied toads were the 2nd most rare species along with the common newt in the dataset. \n",
    "\n",
    "The GBT and AdaBoost algorithms do not do better than a purely random classifier for Brown frogs. "
   ]
  },
  {
   "cell_type": "code",
   "execution_count": 75,
   "id": "saving-breeding",
   "metadata": {
    "scrolled": true
   },
   "outputs": [
    {
     "name": "stdout",
     "output_type": "stream",
     "text": [
      "Unweighted average AUC for RF: 0.72\n",
      "Unweighted average AUC for GBT: 0.64\n",
      "Unweighted average AUC for AdaBoost: 0.65\n"
     ]
    }
   ],
   "source": [
    "print('Unweighted average AUC for RF:', round(auc_scores_macro_rf,2))\n",
    "print('Unweighted average AUC for GBT:', round(auc_scores_macro_gbt,2))\n",
    "print('Unweighted average AUC for AdaBoost:', round(auc_scores_macro_ada,2))"
   ]
  },
  {
   "cell_type": "code",
   "execution_count": 76,
   "id": "missing-algeria",
   "metadata": {
    "scrolled": true
   },
   "outputs": [
    {
     "name": "stdout",
     "output_type": "stream",
     "text": [
      "Weighted average AUC for RF: 0.69\n",
      "Weighted average AUC for GBT: 0.62\n",
      "Weighted average AUC for AdaBoost: 0.65\n"
     ]
    }
   ],
   "source": [
    "print('Weighted average AUC for RF:', round(auc_scores_weighted_rf,2))\n",
    "print('Weighted average AUC for GBT:', round(auc_scores_weighted_gbt,2))\n",
    "print('Weighted average AUC for AdaBoost:', round(auc_scores_weighted_ada,2))"
   ]
  },
  {
   "cell_type": "markdown",
   "id": "correct-neighbor",
   "metadata": {},
   "source": [
    "The unweighted average AUC and weighted average AUC scores for each classifier is shown above. According the to macro average results, the GBT and AdaBoost algorithms perfrom sligtly better than a random forest. However, if the AUC score is weighted to take into account the unbalanced target labels, then the random forest algorithm performs a bit better than the other two algorithms. \n",
    "\n",
    "The reason for the random forest performing better could be related to the scikit-learn implementation of the algorithm which natively supports multi-label classification which treats the target labels simultaneously and can account for correlations among the the labels. "
   ]
  },
  {
   "cell_type": "markdown",
   "id": "vocational-translator",
   "metadata": {},
   "source": [
    "## Conclusion and Recommendations"
   ]
  },
  {
   "cell_type": "markdown",
   "id": "unexpected-webster",
   "metadata": {},
   "source": [
    "The project aimed to investigate the potential to develop a predictive model to predict the presence of 7 species of frogs in a sub-location of a environmental impact assessment study area using features derived from publicly available GIS data and satellite images. The results from a model can be used to help identify sub-locations with high natural value and to help optimize the allocation of field work resources. \n",
    "\n",
    "Using the available dataset, an random forest model was developed that achieved a weighted ROC AUC Score in testing of 0.69. This model has potential. The dataset is small and the predictive model would benefit from more training data. The ROC AUC score for all three algorithm were fairly close (RF: 0.69, GBT: 0.62 and AdaBoost: 0.65). These results should be evaluated using a suitable statistical test to determine if the results are truly different. \n",
    "\n",
    "The values of the categorical variables did not always match the data dictionary and should be followed up on with the data collection team. For example, the categorical variable for the presence of fishing should have 3 levels according to the data dictionary but the variable has 5 levels in the dataset. \n",
    "\n",
    "It was unclear from the dataset description how the perimeter of a habitat is determined. The rules for the definition of a habitat should be determined and recorded. \n",
    "\n",
    "It is not clear if it is of necessity to an environmental impact assessment to have counts for each species or if the presence of any type of amphibian is important. If it is not important to distinguish between species, then this problem can be reformulated a binary classification problem with the goal of predicting whether any species of amphibians is present or not. This will be a simpler problem compared to multi-label classification.\n",
    "\n",
    "As mentioned already, more data should be collected. In this dataset, only 6 observations had no species of amphibians present and 48 (22%) of the observations had no brown frogs. Any new data collection should focus on collecting data for sub-locations that do not have any amphibians or that have no brown frogs. This will help to build classifiers that are better at either predicting the presence of brown frogs or amphibians in general. \n",
    "\n",
    "The importances of the features were determined using information extracted from the random forest model. The surface area of the water reservoirs was by far the most important and the type of reservoir and the maintenance status of the reservoir were the least important features. This method determines feature importance using the Gini importance (or mean decrease in impurity). This method has the advantage of speed as the necessary values are calculated during training but the method can have a tendency to select numerical features and high cardinality categorical features (categorical features with many values). Alternative methods like mean decrease in accuracy or a permutation method should be investigated. "
   ]
  },
  {
   "cell_type": "markdown",
   "id": "stable-excerpt",
   "metadata": {},
   "source": [
    "## References"
   ]
  },
  {
   "cell_type": "markdown",
   "id": "freelance-development",
   "metadata": {},
   "source": [
    "An environmental impact assessment (EIA) is one of the tools being used worldwide to provide decision-makers and the concerned public with essential information to plan for environmentally sustainable economic development (1). The goal of economic development is to invest in projects or programmes - such as the construction of mines, reservoirs, highways and housing to enhance the prosperity and quality of life of all residents. Sustainable economic development aims to find a compromise between economic development and environmental protection. \n",
    "\n",
    "The responsible development of spaces requires an assessment of the value of natural spaces. Spaces with low natural value can be developed as investments. <b>The presence of amphibians (frogs, toads and salamanders) in natural spaces contributes to the value of natural spaces</b>. Amphibians are a critical part of nature as both predator and prey. They eat insect pests which a is benefit to argriculture and help control mosquitos which benefits human health. They're are one of the main links in many ecosystem food webs (2). \n",
    "\n",
    "Amphibians are almost entirely dependent on water for reproduction. Their eggs have no water-proof covering and their larvae (tadpoles) are quite fish like. Amphibians also tend to return to the same water reservoir where they were born to breed. They also have a land habitat on which they depend to feed, hide and survive winter. \n",
    "\n",
    "As part of an EIA, field work is required to estimate amphibian populations in and near water reservoirs where economic development projects are planned. Determining the contribution of amphibian populations to the value of a natural space is difficult for several reasons. In the case of road infrastructure projects, the area that needs to be assessed can be very large. Certain areas of the terrain can be difficult to reach. The number of people available to do field work can be limited. <b>An initial assessment of the natural space could help to better plan field work which should result in time and cost savings. </b>This can all contribute to helping reduce the underestimation of amphibian populations and the value of natural spaces. \n",
    "\n",
    "A geographic information system (GIS) can provide information about the habitats of amphibians. A GIS integrates many different kinds of information (3). It can include information about landscape, such as the location of stream, different kinds of vegetation, and different kinds of soil. It can also include information about the sites of factories, farms, schools and houses. (4) <b>As amphibians are highly dependant on their habitat, the assessment of their habitats using features obtained from a GIS, can potentially be used to predict their presence.</b>  "
   ]
  },
  {
   "cell_type": "markdown",
   "id": "bridal-studio",
   "metadata": {},
   "source": [
    "# The Dataset"
   ]
  },
  {
   "cell_type": "markdown",
   "id": "overhead-anxiety",
   "metadata": {},
   "source": [
    "The data used in this project can be obtained from the [UCI Machine Learning Repository](https://archive.ics.uci.edu/ml/datasets/Amphibians). The data was derived from GIS and sattelite images, as well as from information gathered about the size of amphibians populations that formed part of EIA reports for two planned road projects (Road A and Road B) in Poland. \n",
    "\n",
    "Marcin Blachnik, Marek SoÅ‚tysiak, Dominika DÄ…browska Predicting presence of amphibian species using features obtained from GIS and satellite images. ISPRS International Journal of Geo-Information 8 (3) pp. 123. MDPI. 2019"
   ]
  },
  {
   "cell_type": "markdown",
   "id": "transsexual-governor",
   "metadata": {},
   "source": [
    "## Data Description"
   ]
  },
  {
   "cell_type": "markdown",
   "id": "democratic-camcorder",
   "metadata": {},
   "source": [
    "The data consists of 15 input variables and a <b>multi-label target</b> variable with 7 possible values indicating the presence of a certain type of frog. Multiple species of frog can be present in the same location."
   ]
  },
  {
   "cell_type": "markdown",
   "id": "informal-perception",
   "metadata": {},
   "source": [
    "### Attribute Information - Features"
   ]
  },
  {
   "cell_type": "markdown",
   "id": "designed-consequence",
   "metadata": {},
   "source": [
    "|    |Description                                 |Type       |\n",
    "|----|--------------------------------------------|-----------|\n",
    "|MV  |Motorway                                    |categorical|\n",
    "|SR  |Surface of water reservoir (m2)             |numerical  |\n",
    "|NR  |Number of water reservoirs in habitat       |numerical  |\n",
    "|TR  |Type of water reservoirs                    |categorical|\n",
    "|VR  |Presence of vegetation within the reservoirs|categorical|\n",
    "|SUR1|Surrounding types of land cover (primary)   |categorical|\n",
    "|SUR2|Surrounding types of land cover (secondary) |categorical|\n",
    "|SUR3|Surrounding types of land cover (tertiary)  |categorical|      |UR  |Use of water reservoirs                     |categorical|\n",
    "|FR  |The presence of fishing                     |categorical|\n",
    "|OR  |Percentage access to undeveloped areas      |categorical|      |RR  |Minimum distance to roads                   |ordinal    |\n",
    "|BR  |Minimum distance to buildings               |ordinal    |\n",
    "|MR  |Maintenance status of the reservoir         |categorical|\n",
    "|CR  |Type of shore                               |categorical|"
   ]
  },
  {
   "cell_type": "markdown",
   "id": "annual-lottery",
   "metadata": {},
   "source": [
    "### Attribute Information - Target"
   ]
  },
  {
   "cell_type": "markdown",
   "id": "weighted-thousand",
   "metadata": {},
   "source": [
    "|            |Description                       |\n",
    "|------------|----------------------------------|\n",
    "|Label 1     |The presence of Green frogs       |\n",
    "|Label 2     |The presence of Brown frogs       | \n",
    "|Label 3     |The presence of Common toad       |\n",
    "|Label 4     |The presence of Fire-bellied toad |\n",
    "|Label 5     |The presence of Tree frog         |\n",
    "|Label 6     |The presence of Common newt       |\n",
    "|Label 7     |The presence of Great Crested newt|"
   ]
  },
  {
   "cell_type": "markdown",
   "id": "funded-bradford",
   "metadata": {},
   "source": [
    "## Problem Statement"
   ]
  },
  {
   "cell_type": "markdown",
   "id": "traditional-error",
   "metadata": {},
   "source": [
    "This is a supervised, multi-label classification problem. This is not a multi-class classification problem as the classes are not mutually exclusive. Multiple species of amphibians can be found at a site. "
   ]
  },
  {
   "cell_type": "markdown",
   "id": "accessory-organic",
   "metadata": {},
   "source": [
    "### Classification Algorithms"
   ]
  },
  {
   "cell_type": "markdown",
   "id": "further-foster",
   "metadata": {},
   "source": [
    "Several classification algorithms exist and have an implementation in scikit-learn. The algorithms are:"
   ]
  },
  {
   "cell_type": "markdown",
   "id": "exterior-california",
   "metadata": {},
   "source": [
    "@ruanne Add algorithms table or list"
   ]
  },
  {
   "cell_type": "markdown",
   "id": "swedish-revision",
   "metadata": {},
   "source": [
    "Keep in mind that the above list is not exhaustive and many more variants of these algorithms exist. \n",
    "\n",
    "K-Nearest Neighbours works well for small datasets and can be a good baseline model to compare other algorithms against. It is important to ensure that features are standardized for K-Nearest Neighbours.  \n",
    "\n",
    "A decision tree could be interesting for this problem. Decision trees are interpretable and the ideas behind a decision tree is easily understood by nonexperts. They also work well for a mixture of binary and continuous features which is the case for this project's feature space. The disadvantage of decision trees is that they tend to overfit and provide poor generalization performance. \n",
    "\n",
    "Randomized Forests, AdaBoost and Gradient Tree Boosting are all ensemble methods. Ensemble methods combine multiple machine learning models to create better performing models. Random Forests is one way to address to the overfitting problem of decision trees. Ramdom Forests often work well out of the box and don't require scaling of the data. They also work well with a mixture of binary and continuous variables. \n",
    "\n",
    "Like random forests, gradient boosted trees are widely used in industry. They can be more sensitive to parameter settings than random forests but provide better accuracy if the parameters are set correctly. AdaBoost works by combining multiple weak learners into a single strong classifier. \n",
    "\n",
    "A neural network or more specific a mulitlayer perceptron (MLP) can also be used for classification. An MLP is sensitive to feature scaling and has multiple hyperparameters to tune.   \n",
    "\n",
    "A final decision will made following an initial exploration of the data to decide which alogrithms are suitable for the problem."
   ]
  },
  {
   "cell_type": "markdown",
   "id": "activated-anderson",
   "metadata": {},
   "source": [
    "### Multi-label problem approach"
   ]
  },
  {
   "cell_type": "markdown",
   "id": "mature-minnesota",
   "metadata": {},
   "source": [
    "This is a multi-label classification problem as the predictive model should be able to predict whether multiple amphibian species are present in a location i.e. In location with ID 2, there were brown frogs, common toads and common newts present. \n",
    "\n",
    "scikit-learn has functionality for meta-estimators. In scikit-learn an estimator can be a predictive model of some specific algorithm. Base estimators work for binary classification problems. Meta-estimators extend the functionality of of the base estimator to support multi-learning problems like multi-class, multi-label and multi-output classification problems. The scikit-learn [multioutput module](https://scikit-learn.org/stable/modules/classes.html#module-sklearn.multioutput), and specifically the [MultiOutputClassifier](https://scikit-learn.org/stable/modules/generated/sklearn.multioutput.MultiOutputClassifier.html#sklearn.multioutput.MultiOutputClassifier) can be used for multi-label classification problems. The MultiOutputClassifier makes it possible to fit one classifier per target. For this particular problem, this approach would divide the problem into 7 binary classification tasks, one for each species of amphibians. \n",
    "\n",
    "Some classifiers are actually capable of natively supporting multi-label classification. Native multi-label classifiers may treat the multiple classes simultaneously and can therefore account for correlated behaviour among them. In scikit-learn, the following algorithms natively support multilabel classification:\n",
    "\n",
    "- tree.DecisionTreeClassifier\n",
    "- tree.ExtraTreeClassifier\n",
    "- ensemble.ExtraTreesClassifier\n",
    "- neighbors.KNeighborsClassifier\n",
    "- neural_network.MLPClassifier\n",
    "- neighbors.RadiusNeighborsClassifier\n",
    "- ensemble.RandomForestClassifier\n",
    "- linear_model.RidgeClassifierCV\n",
    "\n",
    "AdaBoost and GBT are not natively multi-label classifiers. "
   ]
  },
  {
   "cell_type": "markdown",
   "id": "chief-august",
   "metadata": {},
   "source": [
    "## Performance Metrics"
   ]
  },
  {
   "cell_type": "markdown",
   "id": "present-funeral",
   "metadata": {},
   "source": [
    "The information included in the description of the dataset does not give any specifics regarding the evaluation of the predictive model's performance like whether the correct prediction of all species is equally important. \n",
    "\n",
    "A final decision will made following an initial exploration of the data to decide which performance metric is suitable.\n",
    "\n",
    "_**Accuracy**_\n",
    "\n",
    "The accuracy of a classifier is the number of correct predictions made as a ratio of all predictions made. Accuracy is a very common evaluation metric for classification problems but is not suitable when their are an unequal number of observations in each class. We will check for class imbalance during the exploratory data analysis section of this project. In scikit-learn, the [accuracy_score](https://scikit-learn.org/stable/modules/model_evaluation.html#accuracy-score) function returns the subset accuracy in the case of multi-label classification. The subset accuracy per sample will be 1.0 if the entire set of predicted labels for a sample match the true set of labels otherwise it would be 0. Consider the example of subset accuracy for a multi-label classification. The classifier incorrectly predicted Label 1 for Sample 0. It correctly predicted for Sample 2. The classifier achieved a subset accuracy of 50%. "
   ]
  },
  {
   "cell_type": "code",
   "execution_count": 1,
   "id": "usual-maldives",
   "metadata": {},
   "outputs": [
    {
     "data": {
      "text/html": [
       "<div>\n",
       "<style scoped>\n",
       "    .dataframe tbody tr th:only-of-type {\n",
       "        vertical-align: middle;\n",
       "    }\n",
       "\n",
       "    .dataframe tbody tr th {\n",
       "        vertical-align: top;\n",
       "    }\n",
       "\n",
       "    .dataframe thead th {\n",
       "        text-align: right;\n",
       "    }\n",
       "</style>\n",
       "<table border=\"1\" class=\"dataframe\">\n",
       "  <thead>\n",
       "    <tr style=\"text-align: right;\">\n",
       "      <th></th>\n",
       "      <th>Label 1</th>\n",
       "      <th>Label 2</th>\n",
       "    </tr>\n",
       "  </thead>\n",
       "  <tbody>\n",
       "    <tr>\n",
       "      <th>0</th>\n",
       "      <td>0</td>\n",
       "      <td>1</td>\n",
       "    </tr>\n",
       "    <tr>\n",
       "      <th>1</th>\n",
       "      <td>1</td>\n",
       "      <td>1</td>\n",
       "    </tr>\n",
       "  </tbody>\n",
       "</table>\n",
       "</div>"
      ],
      "text/plain": [
       "   Label 1  Label 2\n",
       "0        0        1\n",
       "1        1        1"
      ]
     },
     "execution_count": 1,
     "metadata": {},
     "output_type": "execute_result"
    }
   ],
   "source": [
    "# An example demonstrating subset accuracy\n",
    "\n",
    "import pandas as pd\n",
    "\n",
    "y_true = pd.DataFrame({'Label 1': [0, 1], 'Label 2':[1, 1]})\n",
    "y_pred = pd.DataFrame({'Label 1': [1, 1], 'Label 2':[1, 1]})\n",
    "y_true"
   ]
  },
  {
   "cell_type": "code",
   "execution_count": 2,
   "id": "utility-lodge",
   "metadata": {},
   "outputs": [
    {
     "data": {
      "text/html": [
       "<div>\n",
       "<style scoped>\n",
       "    .dataframe tbody tr th:only-of-type {\n",
       "        vertical-align: middle;\n",
       "    }\n",
       "\n",
       "    .dataframe tbody tr th {\n",
       "        vertical-align: top;\n",
       "    }\n",
       "\n",
       "    .dataframe thead th {\n",
       "        text-align: right;\n",
       "    }\n",
       "</style>\n",
       "<table border=\"1\" class=\"dataframe\">\n",
       "  <thead>\n",
       "    <tr style=\"text-align: right;\">\n",
       "      <th></th>\n",
       "      <th>Label 1</th>\n",
       "      <th>Label 2</th>\n",
       "    </tr>\n",
       "  </thead>\n",
       "  <tbody>\n",
       "    <tr>\n",
       "      <th>0</th>\n",
       "      <td>1</td>\n",
       "      <td>1</td>\n",
       "    </tr>\n",
       "    <tr>\n",
       "      <th>1</th>\n",
       "      <td>1</td>\n",
       "      <td>1</td>\n",
       "    </tr>\n",
       "  </tbody>\n",
       "</table>\n",
       "</div>"
      ],
      "text/plain": [
       "   Label 1  Label 2\n",
       "0        1        1\n",
       "1        1        1"
      ]
     },
     "execution_count": 2,
     "metadata": {},
     "output_type": "execute_result"
    }
   ],
   "source": [
    "y_pred"
   ]
  },
  {
   "cell_type": "code",
   "execution_count": 3,
   "id": "apart-ground",
   "metadata": {},
   "outputs": [
    {
     "data": {
      "text/plain": [
       "0.5"
      ]
     },
     "execution_count": 3,
     "metadata": {},
     "output_type": "execute_result"
    }
   ],
   "source": [
    "import numpy as np\n",
    "import pandas as pd\n",
    "from sklearn.metrics import accuracy_score\n",
    "\n",
    "accuracy_score(y_true, y_pred)\n",
    "0.5"
   ]
  },
  {
   "cell_type": "markdown",
   "id": "heavy-modeling",
   "metadata": {},
   "source": [
    "_**Confusion Matrix**_\n",
    "\n",
    "A confusion matrix is another popular method for evaluating the performance of a classifier. scikit-learn provides an implementation of a [multilabel_confusion_matrix](https://scikit-learn.org/stable/modules/model_evaluation.html#multilabel-confusion-matrix). The multilabel_confusion_matrix outputs a confusion matrix per label and the true negatives (TN), false negatives (FN), false positives (FP) and true positives (TP) for each label can be read from each matrix in a similar fashion to a binary classification confusion matrix. The dataframe `MCM` below is a reminder of the location of each value in the matrix. \n",
    "\n",
    "As the underestimation of amphibian populations could mean that natural spaces are under-valued. An under-estimation would be the result of too many false negatives i.e. Falsely deciding a site would not have amphibians present. Conversely, too many false positives could increase costs of field work because sites that had no potential to host amphibians would be included in the field work study."
   ]
  },
  {
   "cell_type": "code",
   "execution_count": 4,
   "id": "allied-honey",
   "metadata": {},
   "outputs": [
    {
     "data": {
      "text/html": [
       "<div>\n",
       "<style scoped>\n",
       "    .dataframe tbody tr th:only-of-type {\n",
       "        vertical-align: middle;\n",
       "    }\n",
       "\n",
       "    .dataframe tbody tr th {\n",
       "        vertical-align: top;\n",
       "    }\n",
       "\n",
       "    .dataframe thead th {\n",
       "        text-align: right;\n",
       "    }\n",
       "</style>\n",
       "<table border=\"1\" class=\"dataframe\">\n",
       "  <thead>\n",
       "    <tr style=\"text-align: right;\">\n",
       "      <th></th>\n",
       "      <th>0</th>\n",
       "      <th>1</th>\n",
       "    </tr>\n",
       "  </thead>\n",
       "  <tbody>\n",
       "    <tr>\n",
       "      <th>0</th>\n",
       "      <td>true negatives</td>\n",
       "      <td>false positives</td>\n",
       "    </tr>\n",
       "    <tr>\n",
       "      <th>1</th>\n",
       "      <td>false negatives</td>\n",
       "      <td>true positives</td>\n",
       "    </tr>\n",
       "  </tbody>\n",
       "</table>\n",
       "</div>"
      ],
      "text/plain": [
       "                 0                1\n",
       "0   true negatives  false positives\n",
       "1  false negatives   true positives"
      ]
     },
     "execution_count": 4,
     "metadata": {},
     "output_type": "execute_result"
    }
   ],
   "source": [
    "import pandas as pd\n",
    "\n",
    "MCM = pd.DataFrame({'0': ['true negatives', 'false negatives'], '1': ['false positives', 'true positives']})\n",
    "MCM"
   ]
  },
  {
   "cell_type": "code",
   "execution_count": 5,
   "id": "three-circus",
   "metadata": {},
   "outputs": [
    {
     "data": {
      "text/plain": [
       "array([[[1, 0],\n",
       "        [0, 1]],\n",
       "\n",
       "       [[1, 0],\n",
       "        [0, 1]],\n",
       "\n",
       "       [[0, 1],\n",
       "        [1, 0]]])"
      ]
     },
     "execution_count": 5,
     "metadata": {},
     "output_type": "execute_result"
    }
   ],
   "source": [
    "# An example demonstrating the use of a multilabel_confusion_matrix taken from the scikit-learn documentation\n",
    "# The target has 3 labels\n",
    "import numpy as np\n",
    "from sklearn.metrics import multilabel_confusion_matrix\n",
    "\n",
    "y_true = np.array([[1, 0, 1],\n",
    "                   [0, 1, 0]])\n",
    "y_pred = np.array([[1, 0, 0],\n",
    "                   [0, 1, 1]])\n",
    "multilabel_confusion_matrix(y_true, y_pred)"
   ]
  },
  {
   "cell_type": "markdown",
   "id": "criminal-ordinary",
   "metadata": {},
   "source": [
    "In the example above, the first matrix is the confusion matrix for Label 1. The classifier correctly predicted Label 1 for Sample 0 and 1. The number of TN is 1 and TP is 1. The last matrix is the confusion matrix for Label 3. The classifier incorrectly predicted Label 3 for both samples. The number of FP and FN is 1.  "
   ]
  },
  {
   "cell_type": "markdown",
   "id": "working-refund",
   "metadata": {},
   "source": [
    "_**ROC AUC**_\n",
    "\n",
    "An ROC Curve has true postive rate on the Y axis and false positive rate on the X axis. The ROC summarizes the performance of a binary classification model on the positive class. The ideal point is in the top left corner with a false positive rate of zero and a true positive rate of one. In the real world, this would rarely be the case but it does mean that a larger area under the curve (AUC) is usually better. A perfect classifier would have a ROC AUC equal to 1 and a purely random classifier will have a ROC AUC equal to 0.5.\n",
    "\n",
    "The ROC is a popular metric for evaluating classifiers in balanced and unbalanced data as it is not biased towards the majority or minority class and the ROC AUC score is a single value that can be used to compare binary classifiers directly [5]. ROC AUC can also be misleading if there is severe skew and very few examples of the minority class. The reason is that a small number of correct or incorrect predictions can result in a large change in the ROC curve or ROC AUC score. "
   ]
  },
  {
   "cell_type": "markdown",
   "id": "hearing-account",
   "metadata": {},
   "source": [
    "## Exploratory Data Analysis"
   ]
  },
  {
   "cell_type": "markdown",
   "id": "pacific-handy",
   "metadata": {},
   "source": [
    "In this section, an initial exploratory analysis of the dataset will be done. The dataset will be evaluated for any data quality problems that have to be resolved."
   ]
  },
  {
   "cell_type": "code",
   "execution_count": 6,
   "id": "pending-character",
   "metadata": {},
   "outputs": [],
   "source": [
    "# Import modules needed exploratory analysis\n",
    "import pandas as pd\n",
    "import matplotlib.pyplot as plt\n",
    "import seaborn as sns\n",
    "import numpy as np\n",
    "\n",
    "%matplotlib inline"
   ]
  },
  {
   "cell_type": "markdown",
   "id": "appropriate-electronics",
   "metadata": {},
   "source": [
    "The data for both road projects is contained in a single csv file. The repository claims that there are no missing values. "
   ]
  },
  {
   "cell_type": "code",
   "execution_count": 7,
   "id": "positive-capitol",
   "metadata": {},
   "outputs": [
    {
     "data": {
      "text/html": [
       "<div>\n",
       "<style scoped>\n",
       "    .dataframe tbody tr th:only-of-type {\n",
       "        vertical-align: middle;\n",
       "    }\n",
       "\n",
       "    .dataframe tbody tr th {\n",
       "        vertical-align: top;\n",
       "    }\n",
       "\n",
       "    .dataframe thead th {\n",
       "        text-align: right;\n",
       "    }\n",
       "</style>\n",
       "<table border=\"1\" class=\"dataframe\">\n",
       "  <thead>\n",
       "    <tr style=\"text-align: right;\">\n",
       "      <th></th>\n",
       "      <th>Motorway</th>\n",
       "      <th>SR</th>\n",
       "      <th>NR</th>\n",
       "      <th>TR</th>\n",
       "      <th>VR</th>\n",
       "      <th>SUR1</th>\n",
       "      <th>SUR2</th>\n",
       "      <th>SUR3</th>\n",
       "      <th>UR</th>\n",
       "      <th>FR</th>\n",
       "      <th>...</th>\n",
       "      <th>BR</th>\n",
       "      <th>MR</th>\n",
       "      <th>CR</th>\n",
       "      <th>Green frogs</th>\n",
       "      <th>Brown frogs</th>\n",
       "      <th>Common toad</th>\n",
       "      <th>Fire-bellied toad</th>\n",
       "      <th>Tree frog</th>\n",
       "      <th>Common newt</th>\n",
       "      <th>Great crested newt</th>\n",
       "    </tr>\n",
       "    <tr>\n",
       "      <th>ID</th>\n",
       "      <th></th>\n",
       "      <th></th>\n",
       "      <th></th>\n",
       "      <th></th>\n",
       "      <th></th>\n",
       "      <th></th>\n",
       "      <th></th>\n",
       "      <th></th>\n",
       "      <th></th>\n",
       "      <th></th>\n",
       "      <th></th>\n",
       "      <th></th>\n",
       "      <th></th>\n",
       "      <th></th>\n",
       "      <th></th>\n",
       "      <th></th>\n",
       "      <th></th>\n",
       "      <th></th>\n",
       "      <th></th>\n",
       "      <th></th>\n",
       "      <th></th>\n",
       "    </tr>\n",
       "  </thead>\n",
       "  <tbody>\n",
       "    <tr>\n",
       "      <th>1</th>\n",
       "      <td>A1</td>\n",
       "      <td>600</td>\n",
       "      <td>1</td>\n",
       "      <td>1</td>\n",
       "      <td>4</td>\n",
       "      <td>6</td>\n",
       "      <td>2</td>\n",
       "      <td>10</td>\n",
       "      <td>0</td>\n",
       "      <td>0</td>\n",
       "      <td>...</td>\n",
       "      <td>0</td>\n",
       "      <td>0</td>\n",
       "      <td>1</td>\n",
       "      <td>0</td>\n",
       "      <td>0</td>\n",
       "      <td>0</td>\n",
       "      <td>0</td>\n",
       "      <td>0</td>\n",
       "      <td>0</td>\n",
       "      <td>0</td>\n",
       "    </tr>\n",
       "    <tr>\n",
       "      <th>2</th>\n",
       "      <td>A1</td>\n",
       "      <td>700</td>\n",
       "      <td>1</td>\n",
       "      <td>5</td>\n",
       "      <td>1</td>\n",
       "      <td>10</td>\n",
       "      <td>6</td>\n",
       "      <td>10</td>\n",
       "      <td>3</td>\n",
       "      <td>1</td>\n",
       "      <td>...</td>\n",
       "      <td>1</td>\n",
       "      <td>0</td>\n",
       "      <td>1</td>\n",
       "      <td>0</td>\n",
       "      <td>1</td>\n",
       "      <td>1</td>\n",
       "      <td>0</td>\n",
       "      <td>0</td>\n",
       "      <td>1</td>\n",
       "      <td>0</td>\n",
       "    </tr>\n",
       "    <tr>\n",
       "      <th>3</th>\n",
       "      <td>A1</td>\n",
       "      <td>200</td>\n",
       "      <td>1</td>\n",
       "      <td>5</td>\n",
       "      <td>1</td>\n",
       "      <td>10</td>\n",
       "      <td>6</td>\n",
       "      <td>10</td>\n",
       "      <td>3</td>\n",
       "      <td>4</td>\n",
       "      <td>...</td>\n",
       "      <td>1</td>\n",
       "      <td>0</td>\n",
       "      <td>1</td>\n",
       "      <td>0</td>\n",
       "      <td>1</td>\n",
       "      <td>1</td>\n",
       "      <td>0</td>\n",
       "      <td>0</td>\n",
       "      <td>1</td>\n",
       "      <td>0</td>\n",
       "    </tr>\n",
       "    <tr>\n",
       "      <th>4</th>\n",
       "      <td>A1</td>\n",
       "      <td>300</td>\n",
       "      <td>1</td>\n",
       "      <td>5</td>\n",
       "      <td>0</td>\n",
       "      <td>6</td>\n",
       "      <td>10</td>\n",
       "      <td>2</td>\n",
       "      <td>3</td>\n",
       "      <td>4</td>\n",
       "      <td>...</td>\n",
       "      <td>0</td>\n",
       "      <td>0</td>\n",
       "      <td>1</td>\n",
       "      <td>0</td>\n",
       "      <td>0</td>\n",
       "      <td>1</td>\n",
       "      <td>0</td>\n",
       "      <td>0</td>\n",
       "      <td>0</td>\n",
       "      <td>0</td>\n",
       "    </tr>\n",
       "    <tr>\n",
       "      <th>5</th>\n",
       "      <td>A1</td>\n",
       "      <td>600</td>\n",
       "      <td>2</td>\n",
       "      <td>1</td>\n",
       "      <td>4</td>\n",
       "      <td>10</td>\n",
       "      <td>2</td>\n",
       "      <td>6</td>\n",
       "      <td>0</td>\n",
       "      <td>0</td>\n",
       "      <td>...</td>\n",
       "      <td>5</td>\n",
       "      <td>0</td>\n",
       "      <td>1</td>\n",
       "      <td>0</td>\n",
       "      <td>1</td>\n",
       "      <td>1</td>\n",
       "      <td>1</td>\n",
       "      <td>0</td>\n",
       "      <td>1</td>\n",
       "      <td>1</td>\n",
       "    </tr>\n",
       "  </tbody>\n",
       "</table>\n",
       "<p>5 rows × 22 columns</p>\n",
       "</div>"
      ],
      "text/plain": [
       "   Motorway   SR  NR  TR  VR  SUR1  SUR2  SUR3  UR  FR  ...  BR  MR  CR  \\\n",
       "ID                                                      ...               \n",
       "1        A1  600   1   1   4     6     2    10   0   0  ...   0   0   1   \n",
       "2        A1  700   1   5   1    10     6    10   3   1  ...   1   0   1   \n",
       "3        A1  200   1   5   1    10     6    10   3   4  ...   1   0   1   \n",
       "4        A1  300   1   5   0     6    10     2   3   4  ...   0   0   1   \n",
       "5        A1  600   2   1   4    10     2     6   0   0  ...   5   0   1   \n",
       "\n",
       "    Green frogs  Brown frogs  Common toad  Fire-bellied toad  Tree frog  \\\n",
       "ID                                                                        \n",
       "1             0            0            0                  0          0   \n",
       "2             0            1            1                  0          0   \n",
       "3             0            1            1                  0          0   \n",
       "4             0            0            1                  0          0   \n",
       "5             0            1            1                  1          0   \n",
       "\n",
       "    Common newt  Great crested newt  \n",
       "ID                                   \n",
       "1             0                   0  \n",
       "2             1                   0  \n",
       "3             1                   0  \n",
       "4             0                   0  \n",
       "5             1                   1  \n",
       "\n",
       "[5 rows x 22 columns]"
      ]
     },
     "execution_count": 7,
     "metadata": {},
     "output_type": "execute_result"
    }
   ],
   "source": [
    "# View the frist 5 rows of the dataset\n",
    "amphibians = pd.read_csv('amphibians.csv', sep=';', header=1, index_col='ID')\n",
    "amphibians.head()"
   ]
  },
  {
   "cell_type": "markdown",
   "id": "convenient-emission",
   "metadata": {},
   "source": [
    "The first 5 rows of the dataset does not reveal anything unusual. The feature names and target labels are consistent with the dataset description. The values for the categorical features seem to be numerical which is different to what was expected based on the dataset description. "
   ]
  },
  {
   "cell_type": "code",
   "execution_count": 8,
   "id": "stretch-breakfast",
   "metadata": {},
   "outputs": [
    {
     "data": {
      "text/plain": [
       "Motorway              object\n",
       "SR                     int64\n",
       "NR                     int64\n",
       "TR                     int64\n",
       "VR                     int64\n",
       "SUR1                   int64\n",
       "SUR2                   int64\n",
       "SUR3                   int64\n",
       "UR                     int64\n",
       "FR                     int64\n",
       "OR                     int64\n",
       "RR                     int64\n",
       "BR                     int64\n",
       "MR                     int64\n",
       "CR                     int64\n",
       "Green frogs            int64\n",
       "Brown frogs            int64\n",
       "Common toad            int64\n",
       "Fire-bellied toad      int64\n",
       "Tree frog              int64\n",
       "Common newt            int64\n",
       "Great crested newt     int64\n",
       "dtype: object"
      ]
     },
     "execution_count": 8,
     "metadata": {},
     "output_type": "execute_result"
    }
   ],
   "source": [
    "# Check the automatically assigned data types \n",
    "amphibians.dtypes"
   ]
  },
  {
   "cell_type": "markdown",
   "id": "ideal-execution",
   "metadata": {},
   "source": [
    "Note that the 11 categorical features and 2 ordinal features are integer values. This is interesting because the [description of the dataset](https://archive.ics.uci.edu/ml/datasets/Amphibians) describes the features has having text or character levels such a-j for the TR feature. "
   ]
  },
  {
   "cell_type": "code",
   "execution_count": 9,
   "id": "hollywood-circus",
   "metadata": {},
   "outputs": [
    {
     "name": "stdout",
     "output_type": "stream",
     "text": [
      "Count of missing values in each column of the dataset:\n"
     ]
    },
    {
     "data": {
      "text/plain": [
       "Motorway              0\n",
       "SR                    0\n",
       "NR                    0\n",
       "TR                    0\n",
       "VR                    0\n",
       "SUR1                  0\n",
       "SUR2                  0\n",
       "SUR3                  0\n",
       "UR                    0\n",
       "FR                    0\n",
       "OR                    0\n",
       "RR                    0\n",
       "BR                    0\n",
       "MR                    0\n",
       "CR                    0\n",
       "Green frogs           0\n",
       "Brown frogs           0\n",
       "Common toad           0\n",
       "Fire-bellied toad     0\n",
       "Tree frog             0\n",
       "Common newt           0\n",
       "Great crested newt    0\n",
       "dtype: int64"
      ]
     },
     "execution_count": 9,
     "metadata": {},
     "output_type": "execute_result"
    }
   ],
   "source": [
    "# Check for missing values\n",
    "print(\"Count of missing values in each column of the dataset:\")\n",
    "amphibians.isna().sum()"
   ]
  },
  {
   "cell_type": "code",
   "execution_count": 10,
   "id": "confidential-istanbul",
   "metadata": {},
   "outputs": [
    {
     "data": {
      "text/plain": [
       "(189, 22)"
      ]
     },
     "execution_count": 10,
     "metadata": {},
     "output_type": "execute_result"
    }
   ],
   "source": [
    "# Determine the number of observations in the dataset\n",
    "amphibians.shape"
   ]
  },
  {
   "cell_type": "markdown",
   "id": "united-aaron",
   "metadata": {},
   "source": [
    "The dataset is quite small with only a 189 observations. A small dataset increases the risk of overfitting. \n",
    "\n",
    "The dataset will be split into train and test set. Cross validation should be used to evaluate the model/s on the training set. "
   ]
  },
  {
   "cell_type": "code",
   "execution_count": 11,
   "id": "occupational-shape",
   "metadata": {},
   "outputs": [
    {
     "data": {
      "text/html": [
       "<div>\n",
       "<style scoped>\n",
       "    .dataframe tbody tr th:only-of-type {\n",
       "        vertical-align: middle;\n",
       "    }\n",
       "\n",
       "    .dataframe tbody tr th {\n",
       "        vertical-align: top;\n",
       "    }\n",
       "\n",
       "    .dataframe thead th {\n",
       "        text-align: right;\n",
       "    }\n",
       "</style>\n",
       "<table border=\"1\" class=\"dataframe\">\n",
       "  <thead>\n",
       "    <tr style=\"text-align: right;\">\n",
       "      <th></th>\n",
       "      <th>species</th>\n",
       "      <th>count</th>\n",
       "      <th>percentage</th>\n",
       "    </tr>\n",
       "  </thead>\n",
       "  <tbody>\n",
       "    <tr>\n",
       "      <th>6</th>\n",
       "      <td>Great crested newt</td>\n",
       "      <td>21</td>\n",
       "      <td>11.0</td>\n",
       "    </tr>\n",
       "    <tr>\n",
       "      <th>3</th>\n",
       "      <td>Fire-bellied toad</td>\n",
       "      <td>58</td>\n",
       "      <td>31.0</td>\n",
       "    </tr>\n",
       "    <tr>\n",
       "      <th>5</th>\n",
       "      <td>Common newt</td>\n",
       "      <td>58</td>\n",
       "      <td>31.0</td>\n",
       "    </tr>\n",
       "    <tr>\n",
       "      <th>4</th>\n",
       "      <td>Tree frog</td>\n",
       "      <td>71</td>\n",
       "      <td>38.0</td>\n",
       "    </tr>\n",
       "    <tr>\n",
       "      <th>0</th>\n",
       "      <td>Green frogs</td>\n",
       "      <td>108</td>\n",
       "      <td>57.0</td>\n",
       "    </tr>\n",
       "    <tr>\n",
       "      <th>2</th>\n",
       "      <td>Common toad</td>\n",
       "      <td>124</td>\n",
       "      <td>66.0</td>\n",
       "    </tr>\n",
       "    <tr>\n",
       "      <th>1</th>\n",
       "      <td>Brown frogs</td>\n",
       "      <td>148</td>\n",
       "      <td>78.0</td>\n",
       "    </tr>\n",
       "  </tbody>\n",
       "</table>\n",
       "</div>"
      ],
      "text/plain": [
       "              species  count  percentage\n",
       "6  Great crested newt     21        11.0\n",
       "3   Fire-bellied toad     58        31.0\n",
       "5         Common newt     58        31.0\n",
       "4           Tree frog     71        38.0\n",
       "0         Green frogs    108        57.0\n",
       "2         Common toad    124        66.0\n",
       "1         Brown frogs    148        78.0"
      ]
     },
     "execution_count": 11,
     "metadata": {},
     "output_type": "execute_result"
    }
   ],
   "source": [
    "# View the number of frogs per species\n",
    "species = ['Green frogs', 'Brown frogs', 'Common toad', 'Fire-bellied toad', 'Tree frog', 'Common newt', 'Great crested newt']\n",
    "species_count = amphibians[species].sum().to_frame('count').reset_index()\n",
    "species_count.columns = ['species', 'count']\n",
    "species_count = species_count.sort_values('count')\n",
    "species_count['percentage'] = round(species_count['count']/189 * 100)\n",
    "species_count"
   ]
  },
  {
   "cell_type": "code",
   "execution_count": 12,
   "id": "spatial-sacrifice",
   "metadata": {},
   "outputs": [
    {
     "data": {
      "text/plain": [
       "Text(0.5, 1.0, 'The total number of occurences per species')"
      ]
     },
     "execution_count": 12,
     "metadata": {},
     "output_type": "execute_result"
    },
    {
     "data": {
      "image/png": "[encoded data removed]",
      "text/plain": [
       "<Figure size 432x288 with 1 Axes>"
      ]
     },
     "metadata": {
      "needs_background": "light"
     },
     "output_type": "display_data"
    }
   ],
   "source": [
    "# Create a barplot of the counts per species\n",
    "sns.barplot(data=species_count, x='species', y='count')\n",
    "plt.xticks(rotation=90)\n",
    "plt.title('The total number of occurences per species')"
   ]
  },
  {
   "cell_type": "markdown",
   "id": "infectious-service",
   "metadata": {},
   "source": [
    "This figure shows the total number of occurences per species. Brown frogs were present in 148 of the sites observed, followed by common toads and green frogs. The Great Crested Newt was present at only 21 of the 189 sites observed. \n",
    "\n",
    "This a form of an unbalanced classification problem because some of the classes are underrepresented. This rules out accuracy as metric to assess the performance of the classifier. \n",
    "\n",
    "The data was collected for two road development projects. Let's compare the distribution of labels between the two road projects."
   ]
  },
  {
   "cell_type": "code",
   "execution_count": 13,
   "id": "cellular-blocking",
   "metadata": {},
   "outputs": [
    {
     "data": {
      "text/html": [
       "<div>\n",
       "<style scoped>\n",
       "    .dataframe tbody tr th:only-of-type {\n",
       "        vertical-align: middle;\n",
       "    }\n",
       "\n",
       "    .dataframe tbody tr th {\n",
       "        vertical-align: top;\n",
       "    }\n",
       "\n",
       "    .dataframe thead th {\n",
       "        text-align: right;\n",
       "    }\n",
       "</style>\n",
       "<table border=\"1\" class=\"dataframe\">\n",
       "  <thead>\n",
       "    <tr style=\"text-align: right;\">\n",
       "      <th></th>\n",
       "      <th>Motorway</th>\n",
       "      <th>Green frogs</th>\n",
       "      <th>Brown frogs</th>\n",
       "      <th>Common toad</th>\n",
       "      <th>Fire-bellied toad</th>\n",
       "      <th>Tree frog</th>\n",
       "      <th>Common newt</th>\n",
       "      <th>Great crested newt</th>\n",
       "    </tr>\n",
       "  </thead>\n",
       "  <tbody>\n",
       "    <tr>\n",
       "      <th>0</th>\n",
       "      <td>A1</td>\n",
       "      <td>39</td>\n",
       "      <td>50</td>\n",
       "      <td>49</td>\n",
       "      <td>17</td>\n",
       "      <td>23</td>\n",
       "      <td>13</td>\n",
       "      <td>5</td>\n",
       "    </tr>\n",
       "    <tr>\n",
       "      <th>1</th>\n",
       "      <td>S52</td>\n",
       "      <td>69</td>\n",
       "      <td>98</td>\n",
       "      <td>75</td>\n",
       "      <td>41</td>\n",
       "      <td>48</td>\n",
       "      <td>45</td>\n",
       "      <td>16</td>\n",
       "    </tr>\n",
       "  </tbody>\n",
       "</table>\n",
       "</div>"
      ],
      "text/plain": [
       "  Motorway  Green frogs  Brown frogs  Common toad  Fire-bellied toad  \\\n",
       "0       A1           39           50           49                 17   \n",
       "1      S52           69           98           75                 41   \n",
       "\n",
       "   Tree frog  Common newt  Great crested newt  \n",
       "0         23           13                   5  \n",
       "1         48           45                  16  "
      ]
     },
     "execution_count": 13,
     "metadata": {},
     "output_type": "execute_result"
    }
   ],
   "source": [
    "# Group the values according to the motorway to determine if their are any differences between the two motorways\n",
    "species_count_motorway = amphibians.groupby('Motorway')[species].apply(lambda x : x.astype(int).sum())\n",
    "species_count_motorway.reset_index(inplace=True)\n",
    "species_count_motorway"
   ]
  },
  {
   "cell_type": "code",
   "execution_count": 14,
   "id": "nuclear-speaking",
   "metadata": {},
   "outputs": [
    {
     "data": {
      "text/plain": [
       "<seaborn.axisgrid.FacetGrid at 0x7ff3804ebf10>"
      ]
     },
     "execution_count": 14,
     "metadata": {},
     "output_type": "execute_result"
    },
    {
     "data": {
      "image/png": "[encoded data removed]",
      "text/plain": [
       "<Figure size 720x360 with 2 Axes>"
      ]
     },
     "metadata": {
      "needs_background": "light"
     },
     "output_type": "display_data"
    }
   ],
   "source": [
    "# Create barplots for each road/motorway and plot side by side for comparison\n",
    "g = sns.catplot(data=species_count_motorway, kind='bar', col='Motorway')\n",
    "g.fig.suptitle('Comparison of number of occurences per species per motorway project', size=14)\n",
    "g.fig.subplots_adjust(top=0.8)\n",
    "g.set_xticklabels(rotation=90)\n",
    "g.set_axis_labels(\"Species\", \"Count\")"
   ]
  },
  {
   "cell_type": "markdown",
   "id": "alleged-genius",
   "metadata": {},
   "source": [
    "The figure above shows that more sample were collected for the S52 motorway project. The A1 motorway samples have an almost even number of observations of brown frogs and common toads whereas samples from the S52 motorway seem to indicate that brown frogs were present more frequently than common toads. The relatively rarer species are Fire-bellied toads, Tree frogs, Common Newst and Great crested newts for both motorways."
   ]
  },
  {
   "cell_type": "code",
   "execution_count": 15,
   "id": "periodic-macedonia",
   "metadata": {},
   "outputs": [
    {
     "data": {
      "text/html": [
       "<div>\n",
       "<style scoped>\n",
       "    .dataframe tbody tr th:only-of-type {\n",
       "        vertical-align: middle;\n",
       "    }\n",
       "\n",
       "    .dataframe tbody tr th {\n",
       "        vertical-align: top;\n",
       "    }\n",
       "\n",
       "    .dataframe thead th {\n",
       "        text-align: right;\n",
       "    }\n",
       "</style>\n",
       "<table border=\"1\" class=\"dataframe\">\n",
       "  <thead>\n",
       "    <tr style=\"text-align: right;\">\n",
       "      <th></th>\n",
       "      <th>species_present</th>\n",
       "    </tr>\n",
       "    <tr>\n",
       "      <th>ID</th>\n",
       "      <th></th>\n",
       "    </tr>\n",
       "  </thead>\n",
       "  <tbody>\n",
       "    <tr>\n",
       "      <th>1</th>\n",
       "      <td>0</td>\n",
       "    </tr>\n",
       "    <tr>\n",
       "      <th>6</th>\n",
       "      <td>0</td>\n",
       "    </tr>\n",
       "    <tr>\n",
       "      <th>125</th>\n",
       "      <td>0</td>\n",
       "    </tr>\n",
       "    <tr>\n",
       "      <th>129</th>\n",
       "      <td>0</td>\n",
       "    </tr>\n",
       "    <tr>\n",
       "      <th>132</th>\n",
       "      <td>0</td>\n",
       "    </tr>\n",
       "    <tr>\n",
       "      <th>179</th>\n",
       "      <td>0</td>\n",
       "    </tr>\n",
       "  </tbody>\n",
       "</table>\n",
       "</div>"
      ],
      "text/plain": [
       "     species_present\n",
       "ID                  \n",
       "1                  0\n",
       "6                  0\n",
       "125                0\n",
       "129                0\n",
       "132                0\n",
       "179                0"
      ]
     },
     "execution_count": 15,
     "metadata": {},
     "output_type": "execute_result"
    }
   ],
   "source": [
    "# Are there any observations with no species present?\n",
    "frogs_per_observation = amphibians[species].sum(axis=1).to_frame('species_present')\n",
    "frogs_per_observation[frogs_per_observation['species_present'] == 0]"
   ]
  },
  {
   "cell_type": "markdown",
   "id": "corporate-superior",
   "metadata": {},
   "source": [
    "There are 6 observations where there were no observations of any species of amphibians. "
   ]
  },
  {
   "cell_type": "code",
   "execution_count": 16,
   "id": "large-chorus",
   "metadata": {},
   "outputs": [],
   "source": [
    "# Check whether the data is ordered by splitting the data in half and comparing the motorway projects from which the sample were collected\n",
    "first_half = amphibians.iloc[0:int(189/2)]\n",
    "second_half = amphibians.iloc[int(189/2):]"
   ]
  },
  {
   "cell_type": "code",
   "execution_count": 17,
   "id": "desirable-ceiling",
   "metadata": {},
   "outputs": [
    {
     "data": {
      "text/plain": [
       "Text(0.5, 1.0, 'Second Half of Data')"
      ]
     },
     "execution_count": 17,
     "metadata": {},
     "output_type": "execute_result"
    },
    {
     "data": {
      "image/png": "[encoded data removed]",
      "text/plain": [
       "<Figure size 432x288 with 2 Axes>"
      ]
     },
     "metadata": {
      "needs_background": "light"
     },
     "output_type": "display_data"
    }
   ],
   "source": [
    "# Create barplot to compare the distribution of samples from each motorway project in the first half and the second half of the dataset\n",
    "fig, ax = plt.subplots(1, 2)\n",
    "fig.subplots_adjust(hspace=0.4, wspace=0.4)\n",
    "sns.countplot(ax=ax[0],data=first_half, x='Motorway', order=['A1', 'S52'])\n",
    "sns.countplot(ax=ax[1],data=second_half, x='Motorway', order=['A1', 'S52'])\n",
    "ax[0].set_title('First Half of Data')\n",
    "ax[1].set_title('Second Half of Data')"
   ]
  },
  {
   "cell_type": "markdown",
   "id": "documented-resource",
   "metadata": {},
   "source": [
    "The observations are organized according to the location from where the data was collected (Motorway A1 or S52). We will need to shuffle the data before splitting it so that the model works well for any motorway. "
   ]
  },
  {
   "cell_type": "markdown",
   "id": "basic-peninsula",
   "metadata": {},
   "source": [
    "### Exploration of the numerical features"
   ]
  },
  {
   "cell_type": "markdown",
   "id": "short-palace",
   "metadata": {},
   "source": [
    "In this section, we will explore the two numerical features in the dataset. In order to better explore and understand the numerical features as well as the categorical features, we need to understand how the feature data was collected. The figure below shows how the researchers that compiled the dataset assessed a sample to determine the values for the various features. \n",
    "\n",
    "@ruanne insert picture"
   ]
  },
  {
   "cell_type": "markdown",
   "id": "careful-resolution",
   "metadata": {},
   "source": [
    "The figure is shows the assessment of a water reservoir (labelled 1). This is the [Borki](https://goo.gl/maps/4RRKHuK59Ss) water reservoir is located near Sosnowiec. It was unclear wether the surface area (SR) measurement is the total some of all water reservoirs in the habitat. Using the 'measure distance' feature, it was confirmed that this is not the total area of the water reservoirs in the habitat but the surface area of the specific water reservoir. \n",
    "\n",
    "The habitat containing the Borki reservoir contains 5 other water reservoirs. Therefore the value for number of reservoirs in habitate (NR) is 6. It is not clear how a habitat is defined. The reservoir was classified as type a (TR) which means that the reservoir is a reservoir with natural features. The surroundings of the reservoir are classified into 3 categories (dominant (SR1), 2nd most dominant (SR2), 3rd most dominant (SR3) Borki's most dominant surroundings can be classified as being parks and green areas (level d). The 2nd most dominant surroundings are dense building development (level e) and the 3rd most are roads and streets (h). \n",
    "\n",
    "The presence of vegetation in this reservoir (VR) is classfied has no vegetation (level a). The maintenance status (MR) of the reservoir is classified as clean (level a) and the use of the reservoir (UR) as recreational and scenic (level b). The level of fishing present (FR) is classified as lack of or occasional fishing (level a). The minimum distance to buildings (BR) is between 50m and 100m (level b) and the minimum distance to roads (RR) is less than 50m (level a). The Borki shore type (CR) is not shown in the figure but I would say it can be classified as natural (level a).  "
   ]
  },
  {
   "cell_type": "markdown",
   "id": "thirty-brazilian",
   "metadata": {},
   "source": [
    "**SR - Surface area of the water reservoir (m2)**\n",
    "\n",
    "This is the first numerical feature in the dataset."
   ]
  },
  {
   "cell_type": "code",
   "execution_count": 18,
   "id": "legendary-following",
   "metadata": {},
   "outputs": [
    {
     "data": {
      "text/plain": [
       "count       189.000000\n",
       "mean       9633.227513\n",
       "std       46256.078309\n",
       "min          30.000000\n",
       "25%         300.000000\n",
       "50%         700.000000\n",
       "75%        3300.000000\n",
       "max      500000.000000\n",
       "Name: SR, dtype: float64"
      ]
     },
     "execution_count": 18,
     "metadata": {},
     "output_type": "execute_result"
    }
   ],
   "source": [
    "# Get a summary for the numerical feature\n",
    "amphibians['SR'].describe()"
   ]
  },
  {
   "cell_type": "markdown",
   "id": "demographic-roads",
   "metadata": {},
   "source": [
    "The SR feature has a large range from 30 to 500000 m2. The large mean compared to the median suggests that there might be outlier in the datasets. "
   ]
  },
  {
   "cell_type": "code",
   "execution_count": 19,
   "id": "pharmaceutical-picnic",
   "metadata": {},
   "outputs": [
    {
     "data": {
      "text/plain": [
       "Text(0.5, 0, 'Surface area of reservoirs in m2')"
      ]
     },
     "execution_count": 19,
     "metadata": {},
     "output_type": "execute_result"
    },
    {
     "data": {
      "image/png": "[encoded data removed]",
      "text/plain": [
       "<Figure size 432x288 with 1 Axes>"
      ]
     },
     "metadata": {
      "needs_background": "light"
     },
     "output_type": "display_data"
    }
   ],
   "source": [
    "# Create a boxplot to visualize the distribution of the feature\n",
    "sns.boxplot(data=amphibians, x='SR')\n",
    "plt.title('Boxplot of water reservoir surface area')\n",
    "plt.xlabel('Surface area of reservoirs in m2')"
   ]
  },
  {
   "cell_type": "markdown",
   "id": "functional-orange",
   "metadata": {},
   "source": [
    "The boxplot for water reservoir surface area shows a few very extreme values in the approximate range of 100000 to 500000 square metres or 0.1 to 0.5 square kilometres. This may seem like very extreme values compared to the rest of the dataset but to perhaps put it in persepctive, some lakes in Poland range from between 9.8 to 113.8 square kilometres. "
   ]
  },
  {
   "cell_type": "code",
   "execution_count": 20,
   "id": "bulgarian-boards",
   "metadata": {},
   "outputs": [],
   "source": [
    "# Determine the number of outliers for reservoir surface area\n",
    "Q3 = amphibians['SR'].quantile(q=0.75)\n",
    "Q1 = amphibians['SR'].quantile(q=0.25)\n",
    "sr_outlier = len(amphibians[amphibians['SR'] > (1.5 * (Q3 - Q1))].sort_values(by='SR', ascending=False))"
   ]
  },
  {
   "cell_type": "code",
   "execution_count": 21,
   "id": "aggressive-custom",
   "metadata": {},
   "outputs": [
    {
     "data": {
      "text/plain": [
       "18.51851851851852"
      ]
     },
     "execution_count": 21,
     "metadata": {},
     "output_type": "execute_result"
    }
   ],
   "source": [
    "# Determine what percentage of the observations, the outlier present\n",
    "sr_outlier/len(amphibians) * 100"
   ]
  },
  {
   "cell_type": "markdown",
   "id": "located-contribution",
   "metadata": {},
   "source": [
    "There are 35 samples that have a surface area larger than 1.5 times the IQR. This is 18.5% of the dataset. We would lose too much data by removing these values. \n",
    "\n",
    "As a result of the large range of values that this feature can take, it will be important to standardize this feature if algorithms like K-Nearest Neighbours is selected. "
   ]
  },
  {
   "cell_type": "markdown",
   "id": "terminal-album",
   "metadata": {},
   "source": [
    "**NR - Number of water reservoirs in habitat**\n",
    "\n",
    "This is the second numerical feature in the dataset. This feature is not a continuous numerical feature but a discrete numerical feature. "
   ]
  },
  {
   "cell_type": "code",
   "execution_count": 22,
   "id": "focused-session",
   "metadata": {},
   "outputs": [
    {
     "data": {
      "text/plain": [
       "1     148\n",
       "2      20\n",
       "3       7\n",
       "4       4\n",
       "5       3\n",
       "6       3\n",
       "7       1\n",
       "9       1\n",
       "10      1\n",
       "12      1\n",
       "Name: NR, dtype: int64"
      ]
     },
     "execution_count": 22,
     "metadata": {},
     "output_type": "execute_result"
    }
   ],
   "source": [
    "# Determine the number of unique value for this feature.\n",
    "amphibians['NR'].value_counts().sort_index()"
   ]
  },
  {
   "cell_type": "code",
   "execution_count": 23,
   "id": "nominated-christopher",
   "metadata": {},
   "outputs": [
    {
     "data": {
      "text/plain": [
       "Text(0.5, 1.0, 'The number of water reservoirs in habitat')"
      ]
     },
     "execution_count": 23,
     "metadata": {},
     "output_type": "execute_result"
    },
    {
     "data": {
      "image/png": "[encoded data removed]",
      "text/plain": [
       "<Figure size 432x288 with 1 Axes>"
      ]
     },
     "metadata": {
      "needs_background": "light"
     },
     "output_type": "display_data"
    }
   ],
   "source": [
    "# Create a barplot of the feature\n",
    "sns.countplot(data=amphibians, x='NR')\n",
    "plt.title(\"The number of water reservoirs in habitat\")"
   ]
  },
  {
   "cell_type": "code",
   "execution_count": 24,
   "id": "express-atmosphere",
   "metadata": {},
   "outputs": [
    {
     "data": {
      "text/plain": [
       "21.693121693121693"
      ]
     },
     "execution_count": 24,
     "metadata": {},
     "output_type": "execute_result"
    }
   ],
   "source": [
    "# Determine percentage of observations that have 2 or more water reservoirs\n",
    "len(amphibians[amphibians['NR'] > 1])/len(amphibians) * 100"
   ]
  },
  {
   "cell_type": "markdown",
   "id": "rolled-effort",
   "metadata": {},
   "source": [
    "The count plot above shows that average value for the number of reservoirs in a habitate is 1.0. As mentioned earlier, it is unclear from the dataset description how the perimeter of a habitat was defined. 21 % of the observations have 2 or more reservoirs in the habitat. The dataset description does mention that it is believed that the greater the number of reservoirs in habitat, the more likely it is that some of them will be suitable for amphibian breeding. "
   ]
  },
  {
   "cell_type": "markdown",
   "id": "confused-reporter",
   "metadata": {},
   "source": [
    "### Exploration of the categorical features\n",
    "\n",
    "In this section, we will explore the 12 categorical features of in the dataset. We have excluded the Motorway (MR) variable as it should not be as input into a model. "
   ]
  },
  {
   "attachments": {
    "f455c0aa-aa54-4a9f-8df2-bdc3efecf036.png": {
     "image/png": "[encoded data removed]"
    }
   },
   "cell_type": "markdown",
   "id": "improved-chemical",
   "metadata": {},
   "source": [
    "**TR - Type of water reservoirs**\n",
    "\n",
    "According to the dataset description, there are 10 unique values for this variable\n",
    "\n",
    "![image.png](attachment:f455c0aa-aa54-4a9f-8df2-bdc3efecf036.png)"
   ]
  },
  {
   "cell_type": "code",
   "execution_count": 25,
   "id": "suffering-detroit",
   "metadata": {},
   "outputs": [
    {
     "data": {
      "text/plain": [
       "1     116\n",
       "2       4\n",
       "5      12\n",
       "7       1\n",
       "11      4\n",
       "12     23\n",
       "14     10\n",
       "15     19\n",
       "Name: TR, dtype: int64"
      ]
     },
     "execution_count": 25,
     "metadata": {},
     "output_type": "execute_result"
    }
   ],
   "source": [
    "# Determine the number of unique values for this feature\n",
    "amphibians['TR'].value_counts().sort_index()"
   ]
  },
  {
   "attachments": {
    "d7ccf2a1-fda3-4b8e-8a25-2c731e9ef01f.png": {
     "image/png": "[encoded data removed]"
    }
   },
   "cell_type": "markdown",
   "id": "suffering-amsterdam",
   "metadata": {},
   "source": [
    "**SUR1 - Surroundings 1**\n",
    "\n",
    "According to the dataset description, there 9 unique values for this variable\n",
    "\n",
    "![image.png](attachment:d7ccf2a1-fda3-4b8e-8a25-2c731e9ef01f.png)"
   ]
  },
  {
   "cell_type": "code",
   "execution_count": 26,
   "id": "ruled-livestock",
   "metadata": {},
   "outputs": [
    {
     "data": {
      "text/plain": [
       "1     43\n",
       "2     70\n",
       "4      1\n",
       "6     19\n",
       "7     20\n",
       "9      5\n",
       "10    30\n",
       "14     1\n",
       "Name: SUR1, dtype: int64"
      ]
     },
     "execution_count": 26,
     "metadata": {},
     "output_type": "execute_result"
    }
   ],
   "source": [
    "# Determine the number of unique values for this feature\n",
    "amphibians['SUR1'].value_counts().sort_index()"
   ]
  },
  {
   "cell_type": "markdown",
   "id": "vertical-binding",
   "metadata": {},
   "source": [
    "There are levels of this category that are missing. "
   ]
  },
  {
   "cell_type": "markdown",
   "id": "built-stretch",
   "metadata": {},
   "source": [
    "**SUR2 - Surroundings 2**\n",
    "\n",
    "According to the dataset description, there 9 unique values for this variable. "
   ]
  },
  {
   "cell_type": "code",
   "execution_count": 27,
   "id": "amazing-appliance",
   "metadata": {},
   "outputs": [
    {
     "data": {
      "text/plain": [
       "1     36\n",
       "2     41\n",
       "6     39\n",
       "7     18\n",
       "9     10\n",
       "10    44\n",
       "11     1\n",
       "Name: SUR2, dtype: int64"
      ]
     },
     "execution_count": 27,
     "metadata": {},
     "output_type": "execute_result"
    }
   ],
   "source": [
    "# Determine the number of unique values for this feature\n",
    "amphibians['SUR2'].value_counts().sort_index()"
   ]
  },
  {
   "cell_type": "markdown",
   "id": "reserved-purchase",
   "metadata": {},
   "source": [
    "There are levels of this category that are missing. "
   ]
  },
  {
   "cell_type": "markdown",
   "id": "three-schedule",
   "metadata": {},
   "source": [
    "**SUR3 - Surroundings 3**¶\n",
    "\n",
    "According to the dataset description, there 9 unique values for this variable"
   ]
  },
  {
   "cell_type": "code",
   "execution_count": 28,
   "id": "ordinary-marshall",
   "metadata": {},
   "outputs": [
    {
     "data": {
      "text/plain": [
       "1     29\n",
       "2     29\n",
       "5      2\n",
       "6     55\n",
       "7     18\n",
       "9     10\n",
       "10    45\n",
       "11     1\n",
       "Name: SUR3, dtype: int64"
      ]
     },
     "execution_count": 28,
     "metadata": {},
     "output_type": "execute_result"
    }
   ],
   "source": [
    "# Determine the number of unique values for this feature\n",
    "amphibians['SUR3'].value_counts().sort_index()"
   ]
  },
  {
   "attachments": {
    "efd0f083-2faf-468d-af90-31c6f7feb704.png": {
     "image/png": "[encoded data removed]"
    }
   },
   "cell_type": "markdown",
   "id": "million-enclosure",
   "metadata": {},
   "source": [
    "**CR - Type of shore**\n",
    "\n",
    "According to the dataset description, there are 2 unique values for this variable\n",
    "\n",
    "![image.png](attachment:efd0f083-2faf-468d-af90-31c6f7feb704.png)"
   ]
  },
  {
   "cell_type": "code",
   "execution_count": 29,
   "id": "nonprofit-milton",
   "metadata": {},
   "outputs": [
    {
     "data": {
      "text/plain": [
       "1    186\n",
       "2      3\n",
       "Name: CR, dtype: int64"
      ]
     },
     "execution_count": 29,
     "metadata": {},
     "output_type": "execute_result"
    }
   ],
   "source": [
    "# Determine the number of unique values for this feature\n",
    "amphibians['CR'].value_counts().sort_index()"
   ]
  },
  {
   "cell_type": "markdown",
   "id": "creative-drunk",
   "metadata": {},
   "source": [
    "There are only 3 observations where the shore is concrete. Could it be strong feature for there won't be any amphibians? Or not informative at all?"
   ]
  },
  {
   "attachments": {
    "72076433-34d4-49b8-915a-063d27ebd466.png": {
     "image/png": "[encoded data removed]"
    }
   },
   "cell_type": "markdown",
   "id": "conceptual-helmet",
   "metadata": {},
   "source": [
    "**VR - Intensity of vegetation development**\n",
    "\n",
    "According to the dataset description, there should be 5 unique values for this variable\n",
    "\n",
    "![image.png](attachment:72076433-34d4-49b8-915a-063d27ebd466.png)"
   ]
  },
  {
   "cell_type": "code",
   "execution_count": 30,
   "id": "published-antarctica",
   "metadata": {},
   "outputs": [
    {
     "data": {
      "text/plain": [
       "0    30\n",
       "1    55\n",
       "2    35\n",
       "3    41\n",
       "4    28\n",
       "Name: VR, dtype: int64"
      ]
     },
     "execution_count": 30,
     "metadata": {},
     "output_type": "execute_result"
    }
   ],
   "source": [
    "# Determine the number of unique values for this feature\n",
    "amphibians['VR'].value_counts().sort_index()"
   ]
  },
  {
   "cell_type": "markdown",
   "id": "coated-appeal",
   "metadata": {},
   "source": [
    "All the levels of the variable appear in the dataset"
   ]
  },
  {
   "attachments": {
    "e3c43ba9-8604-4d68-bb26-eeb4feee732f.png": {
     "image/png": "[encoded data removed]"
    }
   },
   "cell_type": "markdown",
   "id": "instant-cross",
   "metadata": {},
   "source": [
    "**MR - Maintenance status of the reservoir**\n",
    "\n",
    "According to the dataset description, there should be 3 unique values for this variable\n",
    "\n",
    "![image.png](attachment:e3c43ba9-8604-4d68-bb26-eeb4feee732f.png)"
   ]
  },
  {
   "cell_type": "code",
   "execution_count": 31,
   "id": "expected-corps",
   "metadata": {},
   "outputs": [
    {
     "data": {
      "text/plain": [
       "0    184\n",
       "1      1\n",
       "2      4\n",
       "Name: MR, dtype: int64"
      ]
     },
     "execution_count": 31,
     "metadata": {},
     "output_type": "execute_result"
    }
   ],
   "source": [
    "# Determine the number of unique values for this feature\n",
    "amphibians['MR'].value_counts().sort_index()"
   ]
  },
  {
   "cell_type": "markdown",
   "id": "korean-assumption",
   "metadata": {},
   "source": [
    "My gut says this feature won't be informative. "
   ]
  },
  {
   "attachments": {
    "2b6f0d38-dabb-477d-ba29-6bef71e73d10.png": {
     "image/png": "[encoded data removed]"
    }
   },
   "cell_type": "markdown",
   "id": "impossible-meaning",
   "metadata": {},
   "source": [
    "**FR - The presence of fishing**\n",
    "\n",
    "According to the dataset description, there should be 3 unique values for this variable\n",
    "\n",
    "![image.png](attachment:2b6f0d38-dabb-477d-ba29-6bef71e73d10.png)"
   ]
  },
  {
   "cell_type": "code",
   "execution_count": 32,
   "id": "neither-diesel",
   "metadata": {},
   "outputs": [
    {
     "data": {
      "text/plain": [
       "0    125\n",
       "1     16\n",
       "2     15\n",
       "3     18\n",
       "4     15\n",
       "Name: FR, dtype: int64"
      ]
     },
     "execution_count": 32,
     "metadata": {},
     "output_type": "execute_result"
    }
   ],
   "source": [
    "# Determine the number of unique values for this feature\n",
    "amphibians['FR'].value_counts().sort_index()"
   ]
  },
  {
   "attachments": {
    "257e49f3-e218-4cfa-a133-46057b33b330.png": {
     "image/png": "[encoded data removed]"
    }
   },
   "cell_type": "markdown",
   "id": "plastic-classic",
   "metadata": {},
   "source": [
    "**BR - Building development variable**\n",
    "\n",
    "There 6 levels of this variable in the dataset description. \n",
    "\n",
    "![image.png](attachment:257e49f3-e218-4cfa-a133-46057b33b330.png)"
   ]
  },
  {
   "cell_type": "code",
   "execution_count": 33,
   "id": "informed-professor",
   "metadata": {},
   "outputs": [
    {
     "data": {
      "text/plain": [
       "0     39\n",
       "1     62\n",
       "2     29\n",
       "5     46\n",
       "9      7\n",
       "10     6\n",
       "Name: BR, dtype: int64"
      ]
     },
     "execution_count": 33,
     "metadata": {},
     "output_type": "execute_result"
    }
   ],
   "source": [
    "# Determine the number of unique values for this feature\n",
    "amphibians['BR'].value_counts().sort_index()"
   ]
  },
  {
   "cell_type": "markdown",
   "id": "warming-carnival",
   "metadata": {},
   "source": [
    "The values of the two ordinal variables does not correspond to the descriptions of the variables but there are also 6 unique values. "
   ]
  },
  {
   "attachments": {
    "8ead051e-7478-4f1a-bfa3-15b33ddfecf6.png": {
     "image/png": "[encoded data removed]"
    }
   },
   "cell_type": "markdown",
   "id": "spread-monday",
   "metadata": {},
   "source": [
    "**RR - Minimum distance from the water reservoir to roads**\n",
    "\n",
    "According to the dataset description, there should be 6 categories or levels for this variable. \n",
    "\n",
    "![image.png](attachment:8ead051e-7478-4f1a-bfa3-15b33ddfecf6.png)"
   ]
  },
  {
   "cell_type": "code",
   "execution_count": 34,
   "id": "three-spouse",
   "metadata": {},
   "outputs": [
    {
     "data": {
      "text/plain": [
       "0     47\n",
       "1     50\n",
       "2     39\n",
       "5     42\n",
       "9      7\n",
       "10     4\n",
       "Name: RR, dtype: int64"
      ]
     },
     "execution_count": 34,
     "metadata": {},
     "output_type": "execute_result"
    }
   ],
   "source": [
    "# Determine the number of unique values for this feature\n",
    "amphibians['RR'].value_counts().sort_index()"
   ]
  },
  {
   "cell_type": "markdown",
   "id": "measured-object",
   "metadata": {},
   "source": [
    "The values of the two ordinal variables does not correspond to the descriptions of the variables but there are also 6 unique values. "
   ]
  },
  {
   "attachments": {
    "d1fcd729-781c-4f0a-bcd9-0bb1273b6106.png": {
     "image/png": "[encoded data removed]"
    }
   },
   "cell_type": "markdown",
   "id": "composed-native",
   "metadata": {},
   "source": [
    "**OR - Access from water table to land habitats**\n",
    "\n",
    "According to the dataset description, there should be 4 unique values for this variable.\n",
    "\n",
    "![image.png](attachment:d1fcd729-781c-4f0a-bcd9-0bb1273b6106.png)"
   ]
  },
  {
   "cell_type": "code",
   "execution_count": 35,
   "id": "academic-marking",
   "metadata": {},
   "outputs": [
    {
     "data": {
      "text/plain": [
       "25       7\n",
       "50      16\n",
       "75      22\n",
       "80       1\n",
       "99       2\n",
       "100    141\n",
       "Name: OR, dtype: int64"
      ]
     },
     "execution_count": 35,
     "metadata": {},
     "output_type": "execute_result"
    }
   ],
   "source": [
    "# Determine the number of unique values for this feature\n",
    "amphibians['OR'].value_counts().sort_index()"
   ]
  },
  {
   "cell_type": "markdown",
   "id": "alternate-float",
   "metadata": {},
   "source": [
    "The categories of the OR feature is different from the values described by the dataset description. Does 25 mean 0 to 25 or above 25 and there were no values below 25? It is most likely 0 to 25 because this feature is a percentage and therefore the 100 category cannot mean, greater than a 100. There are also two odd values: 80 and 90. "
   ]
  },
  {
   "cell_type": "code",
   "execution_count": 36,
   "id": "fallen-advocacy",
   "metadata": {},
   "outputs": [
    {
     "data": {
      "text/html": [
       "<div>\n",
       "<style scoped>\n",
       "    .dataframe tbody tr th:only-of-type {\n",
       "        vertical-align: middle;\n",
       "    }\n",
       "\n",
       "    .dataframe tbody tr th {\n",
       "        vertical-align: top;\n",
       "    }\n",
       "\n",
       "    .dataframe thead th {\n",
       "        text-align: right;\n",
       "    }\n",
       "</style>\n",
       "<table border=\"1\" class=\"dataframe\">\n",
       "  <thead>\n",
       "    <tr style=\"text-align: right;\">\n",
       "      <th></th>\n",
       "      <th>Motorway</th>\n",
       "      <th>SR</th>\n",
       "      <th>NR</th>\n",
       "      <th>TR</th>\n",
       "      <th>VR</th>\n",
       "      <th>SUR1</th>\n",
       "      <th>SUR2</th>\n",
       "      <th>SUR3</th>\n",
       "      <th>UR</th>\n",
       "      <th>FR</th>\n",
       "      <th>...</th>\n",
       "      <th>BR</th>\n",
       "      <th>MR</th>\n",
       "      <th>CR</th>\n",
       "      <th>Green frogs</th>\n",
       "      <th>Brown frogs</th>\n",
       "      <th>Common toad</th>\n",
       "      <th>Fire-bellied toad</th>\n",
       "      <th>Tree frog</th>\n",
       "      <th>Common newt</th>\n",
       "      <th>Great crested newt</th>\n",
       "    </tr>\n",
       "    <tr>\n",
       "      <th>ID</th>\n",
       "      <th></th>\n",
       "      <th></th>\n",
       "      <th></th>\n",
       "      <th></th>\n",
       "      <th></th>\n",
       "      <th></th>\n",
       "      <th></th>\n",
       "      <th></th>\n",
       "      <th></th>\n",
       "      <th></th>\n",
       "      <th></th>\n",
       "      <th></th>\n",
       "      <th></th>\n",
       "      <th></th>\n",
       "      <th></th>\n",
       "      <th></th>\n",
       "      <th></th>\n",
       "      <th></th>\n",
       "      <th></th>\n",
       "      <th></th>\n",
       "      <th></th>\n",
       "    </tr>\n",
       "  </thead>\n",
       "  <tbody>\n",
       "    <tr>\n",
       "      <th>5</th>\n",
       "      <td>A1</td>\n",
       "      <td>600</td>\n",
       "      <td>2</td>\n",
       "      <td>1</td>\n",
       "      <td>4</td>\n",
       "      <td>10</td>\n",
       "      <td>2</td>\n",
       "      <td>6</td>\n",
       "      <td>0</td>\n",
       "      <td>0</td>\n",
       "      <td>...</td>\n",
       "      <td>5</td>\n",
       "      <td>0</td>\n",
       "      <td>1</td>\n",
       "      <td>0</td>\n",
       "      <td>1</td>\n",
       "      <td>1</td>\n",
       "      <td>1</td>\n",
       "      <td>0</td>\n",
       "      <td>1</td>\n",
       "      <td>1</td>\n",
       "    </tr>\n",
       "    <tr>\n",
       "      <th>53</th>\n",
       "      <td>A1</td>\n",
       "      <td>300</td>\n",
       "      <td>1</td>\n",
       "      <td>1</td>\n",
       "      <td>4</td>\n",
       "      <td>1</td>\n",
       "      <td>2</td>\n",
       "      <td>6</td>\n",
       "      <td>0</td>\n",
       "      <td>0</td>\n",
       "      <td>...</td>\n",
       "      <td>2</td>\n",
       "      <td>0</td>\n",
       "      <td>1</td>\n",
       "      <td>0</td>\n",
       "      <td>1</td>\n",
       "      <td>0</td>\n",
       "      <td>0</td>\n",
       "      <td>0</td>\n",
       "      <td>0</td>\n",
       "      <td>0</td>\n",
       "    </tr>\n",
       "    <tr>\n",
       "      <th>181</th>\n",
       "      <td>S52</td>\n",
       "      <td>4000</td>\n",
       "      <td>2</td>\n",
       "      <td>1</td>\n",
       "      <td>1</td>\n",
       "      <td>4</td>\n",
       "      <td>6</td>\n",
       "      <td>9</td>\n",
       "      <td>3</td>\n",
       "      <td>2</td>\n",
       "      <td>...</td>\n",
       "      <td>1</td>\n",
       "      <td>0</td>\n",
       "      <td>1</td>\n",
       "      <td>1</td>\n",
       "      <td>1</td>\n",
       "      <td>1</td>\n",
       "      <td>0</td>\n",
       "      <td>1</td>\n",
       "      <td>1</td>\n",
       "      <td>1</td>\n",
       "    </tr>\n",
       "  </tbody>\n",
       "</table>\n",
       "<p>3 rows × 22 columns</p>\n",
       "</div>"
      ],
      "text/plain": [
       "    Motorway    SR  NR  TR  VR  SUR1  SUR2  SUR3  UR  FR  ...  BR  MR  CR  \\\n",
       "ID                                                        ...               \n",
       "5         A1   600   2   1   4    10     2     6   0   0  ...   5   0   1   \n",
       "53        A1   300   1   1   4     1     2     6   0   0  ...   2   0   1   \n",
       "181      S52  4000   2   1   1     4     6     9   3   2  ...   1   0   1   \n",
       "\n",
       "     Green frogs  Brown frogs  Common toad  Fire-bellied toad  Tree frog  \\\n",
       "ID                                                                         \n",
       "5              0            1            1                  1          0   \n",
       "53             0            1            0                  0          0   \n",
       "181            1            1            1                  0          1   \n",
       "\n",
       "     Common newt  Great crested newt  \n",
       "ID                                    \n",
       "5              1                   1  \n",
       "53             0                   0  \n",
       "181            1                   1  \n",
       "\n",
       "[3 rows x 22 columns]"
      ]
     },
     "execution_count": 36,
     "metadata": {},
     "output_type": "execute_result"
    }
   ],
   "source": [
    "# View samples that contain odd values for OR\n",
    "amphibians[amphibians['OR'].isin([80, 99])]"
   ]
  },
  {
   "cell_type": "markdown",
   "id": "funny-copyright",
   "metadata": {},
   "source": [
    "There is no quick visible indication of why these samples may have odd values for OR. We will assume that these variables were incorrectly encoded and actually belong to the 75 to 100% category. "
   ]
  },
  {
   "cell_type": "code",
   "execution_count": 37,
   "id": "defensive-polyester",
   "metadata": {},
   "outputs": [],
   "source": [
    "# Replace samples that have OR value equal to 80 or 99\n",
    "amphibians['OR'].replace([80, 99], [100, 100], inplace=True)"
   ]
  },
  {
   "cell_type": "code",
   "execution_count": 38,
   "id": "hairy-assist",
   "metadata": {},
   "outputs": [
    {
     "data": {
      "text/plain": [
       "25       7\n",
       "50      16\n",
       "75      22\n",
       "100    144\n",
       "Name: OR, dtype: int64"
      ]
     },
     "execution_count": 38,
     "metadata": {},
     "output_type": "execute_result"
    }
   ],
   "source": [
    "# Determine the number of unique values for this feature\n",
    "amphibians['OR'].value_counts().sort_index()"
   ]
  },
  {
   "cell_type": "markdown",
   "id": "applied-charge",
   "metadata": {},
   "source": [
    "The dataset description lists the OR variable as a nominal categorical variable but it is a percentage value which does represent a rank ordering between the values and could be considered to be a ordinal categorical variable. "
   ]
  },
  {
   "cell_type": "markdown",
   "id": "prescription-advocacy",
   "metadata": {},
   "source": [
    "## Exploratory Data Analysis Summary"
   ]
  },
  {
   "cell_type": "markdown",
   "id": "moderate-chamber",
   "metadata": {},
   "source": [
    "The dataset is very small with only a 189 samples. There are no missing values but there are issues with how the categorical features have been encoded. The descriptions of the categories of many of the features is inconsistent with the description of the dataset so it is unclear how these features should be cleaned or engineered. It is possible that the categorical features in the dataset provided have already been encoded. \n",
    "\n",
    "No outliers will be removed from the dataset as it would reduce the size of the available data for model development too much. \n",
    "\n",
    "The labels of the target are unbalanced. \n",
    "\n",
    "Some of the amphibian species are rare. Only 6 of the 189 sites observed had no presence of amphibians. As the dataset is unbalanced, accuracy cannot be used to evaluate the models. "
   ]
  },
  {
   "cell_type": "code",
   "execution_count": 39,
   "id": "photographic-reality",
   "metadata": {},
   "outputs": [],
   "source": [
    "# Drop the Motorway column from the dataset as this is not used \n",
    "amphibians = amphibians.drop(columns='Motorway')"
   ]
  },
  {
   "cell_type": "code",
   "execution_count": 40,
   "id": "specific-fetish",
   "metadata": {},
   "outputs": [],
   "source": [
    "# Split the data into features and target\n",
    "amphibians_feat = amphibians.drop(species, axis=1)"
   ]
  },
  {
   "cell_type": "markdown",
   "id": "cultural-retailer",
   "metadata": {},
   "source": [
    "## Model Development"
   ]
  },
  {
   "cell_type": "markdown",
   "id": "prompt-debut",
   "metadata": {},
   "source": [
    "### Fine tuning of the problem approach"
   ]
  },
  {
   "cell_type": "markdown",
   "id": "forward-offset",
   "metadata": {},
   "source": [
    "A random forest model is a logically choice for this problem. In the early discussion regarding suitable classification algorithms for this problem, it was highlighted that a random forest is suitable for a mix of categorical and numerical features. A random forest is insensitive to the scaling of numerical features which is good because preprocessing can introduce an extra source of variance. An added benefit is that the random forest implementation in scikit-learn natively support multi-label classification. \n",
    "\n",
    "Following the same reasoning as above, the Gradient Boosted Trees and AdaBoost algorithm will also be good choices. The discussion on multi-label problem approaches, it was noted that the implementations of these two algorithms in scikit-learn do not natively support mulit-label classification. To use these algorithms, the problem will be effectively divided into 7 binary classifiers, one for each label, and together their outputs provide the multi-label output required. We will make use MultiOutputClassifier from scikit-learn to achieve this. \n",
    "\n",
    "The ROC AUC score will be used to evaluate the performance of the classifiers. The data will be randomly shuffled and split into a training and testing set. As the dataset is so small, we will make sure to evaluate the generalization performance of the models using cross validation and we will find the best model parameters using grid search.  \n",
    "\n",
    "It also seems that the categorical features have already undergone some form of encoding. As the categorical features are already numerical values and can be directly fed to a machine learning algorithm, we will assume they have been encoded and will not perform any further encoding as part of preprocessing. "
   ]
  },
  {
   "cell_type": "code",
   "execution_count": 41,
   "id": "conventional-patent",
   "metadata": {},
   "outputs": [],
   "source": [
    "# Import required packages\n",
    "from sklearn.model_selection import train_test_split\n",
    "from sklearn.model_selection import GridSearchCV\n",
    "from sklearn.ensemble import RandomForestClassifier\n",
    "from sklearn.ensemble import GradientBoostingClassifier\n",
    "from sklearn.ensemble import AdaBoostClassifier\n",
    "from sklearn.multioutput import MultiOutputClassifier\n",
    "from sklearn.metrics import roc_auc_score"
   ]
  },
  {
   "cell_type": "markdown",
   "id": "collect-print",
   "metadata": {},
   "source": [
    "The original dataset is split into a train and test set. "
   ]
  },
  {
   "cell_type": "code",
   "execution_count": 42,
   "id": "lucky-prisoner",
   "metadata": {},
   "outputs": [],
   "source": [
    "# Shuffle and split the data into train, test and validations sets\n",
    "X_train, X_test, y_train, y_test = train_test_split(amphibians_feat, amphibians[species], test_size=0.20, random_state=42, shuffle=True)"
   ]
  },
  {
   "cell_type": "markdown",
   "id": "prescription-ecology",
   "metadata": {},
   "source": [
    "### Random Forest (RF) Classifier"
   ]
  },
  {
   "cell_type": "code",
   "execution_count": 43,
   "id": "liquid-removal",
   "metadata": {},
   "outputs": [],
   "source": [
    "# Initialize the random forest classifier and set a random state for reproducibility\n",
    "rf = RandomForestClassifier(random_state=42)"
   ]
  },
  {
   "cell_type": "markdown",
   "id": "incorporated-maldives",
   "metadata": {},
   "source": [
    "**RF Hyperparamerter Tuning**"
   ]
  },
  {
   "cell_type": "markdown",
   "id": "major-chance",
   "metadata": {},
   "source": [
    "A grid of parameters needs to be created to use with grid search to find the optimal tuning parameters for the model. The most important parameters of a random forest are `n_estimators`, `max_features` and `max_depth`. `n_estimators` refers to the number of trees and more trees are better. Averaging more trees will lead to a more robust ensemble by reducing overfitting. `max_features` determines how random each tree is. If the value `max_features` is 'sqrt' then `max_features=sqrt(n_features)`. "
   ]
  },
  {
   "cell_type": "code",
   "execution_count": 44,
   "id": "employed-specification",
   "metadata": {},
   "outputs": [],
   "source": [
    "# Define the hyperparamter grid\n",
    "param_grid = {'n_estimators': [5, 10, 15, 20, 30, 40],\n",
    "              'max_features': ['sqrt', 'log2'],\n",
    "              'max_depth' : [4,5,6,7,8,9],\n",
    "              'criterion' :['gini', 'entropy']}"
   ]
  },
  {
   "cell_type": "code",
   "execution_count": 45,
   "id": "sacred-patch",
   "metadata": {},
   "outputs": [
    {
     "name": "stdout",
     "output_type": "stream",
     "text": [
      "Best parameters for a random forest model:\n"
     ]
    },
    {
     "data": {
      "text/plain": [
       "{'criterion': 'gini',\n",
       " 'max_depth': 8,\n",
       " 'max_features': 'sqrt',\n",
       " 'n_estimators': 20}"
      ]
     },
     "execution_count": 45,
     "metadata": {},
     "output_type": "execute_result"
    }
   ],
   "source": [
    "# Initialize and fit GridSearchCV\n",
    "gridsearch_rf = GridSearchCV(rf, param_grid, cv=5, scoring='roc_auc', return_train_score=True)\n",
    "gridsearch_rf.fit(X_train, y_train)\n",
    "print(\"Best parameters for a random forest model:\")\n",
    "gridsearch_rf.best_params_"
   ]
  },
  {
   "cell_type": "code",
   "execution_count": 46,
   "id": "drawn-classics",
   "metadata": {},
   "outputs": [
    {
     "name": "stdout",
     "output_type": "stream",
     "text": [
      "ROC AUC score of the best estimator\n"
     ]
    },
    {
     "data": {
      "text/plain": [
       "0.68"
      ]
     },
     "execution_count": 46,
     "metadata": {},
     "output_type": "execute_result"
    }
   ],
   "source": [
    "# View the best score achieved\n",
    "print(\"ROC AUC score of the best estimator\")\n",
    "round(gridsearch_rf.best_score_,2)"
   ]
  },
  {
   "cell_type": "markdown",
   "id": "important-story",
   "metadata": {},
   "source": [
    "The grid search process determined that a random forest with 20 trees with max depth of 8 achieved the best roc auc score. The ROC AUC score is 0.68. Remember that a purely random classifier would achive a roc auc score of 0.5. The higher the ROC AUC, the better the classifier is at predicting 1s and 1s and 0s as 0s.  "
   ]
  },
  {
   "cell_type": "markdown",
   "id": "verbal-motel",
   "metadata": {},
   "source": [
    "A great benefit of a Random Forest is that determining feature importances is inherent to the model. "
   ]
  },
  {
   "cell_type": "code",
   "execution_count": 47,
   "id": "unsigned-scott",
   "metadata": {},
   "outputs": [
    {
     "data": {
      "text/plain": [
       "Surface Area                                0.188689\n",
       "Intensity of vegetation                     0.092102\n",
       "Surroundings 2                              0.091735\n",
       "Type of water reservoirs                    0.090907\n",
       "Surroundings 3                              0.088142\n",
       "Surroundings 1                              0.086380\n",
       "Building Development                        0.083713\n",
       "Roads                                       0.078468\n",
       "Fishing                                     0.049482\n",
       "Access from water table to land habitats    0.048591\n",
       "Management of water reservoir               0.044480\n",
       "Number of water reservoirs                  0.042203\n",
       "Maintenance                                 0.008044\n",
       "Type of shore                               0.007063\n",
       "dtype: float64"
      ]
     },
     "execution_count": 47,
     "metadata": {},
     "output_type": "execute_result"
    }
   ],
   "source": [
    "importances_rf = pd.Series(gridsearch_rf.best_estimator_.feature_importances_, amphibians_feat.columns)\n",
    "importances_rf = importances_rf.sort_values(ascending=False)\n",
    "full_feature_names = ['Surface Area', 'Intensity of vegetation', 'Surroundings 2', 'Type of water reservoirs', 'Surroundings 3', \n",
    "                      'Surroundings 1', 'Building Development', 'Roads', 'Fishing', \n",
    "                      'Access from water table to land habitats', 'Management of water reservoir',\n",
    "                      'Number of water reservoirs', 'Maintenance', 'Type of shore']\n",
    "importances_rf.index = full_feature_names\n",
    "importances_rf"
   ]
  },
  {
   "cell_type": "code",
   "execution_count": 48,
   "id": "fuzzy-trance",
   "metadata": {},
   "outputs": [
    {
     "data": {
      "text/plain": [
       "Text(0.5, 1.0, 'Feature Importances from the random forest')"
      ]
     },
     "execution_count": 48,
     "metadata": {},
     "output_type": "execute_result"
    },
    {
     "data": {
      "image/png": "[encoded data removed]",
      "text/plain": [
       "<Figure size 432x288 with 1 Axes>"
      ]
     },
     "metadata": {
      "needs_background": "light"
     },
     "output_type": "display_data"
    }
   ],
   "source": [
    "# Plot the impurity based feature importances \n",
    "importances_rf.sort_values(ascending=True).plot(kind='barh')\n",
    "plt.title('Feature Importances from the random forest')"
   ]
  },
  {
   "cell_type": "markdown",
   "id": "expensive-jumping",
   "metadata": {},
   "source": [
    "According to the random forest model, surface area of the water reservoir (SR) is most important. After the SR features, there appear to three groups of mean descrease in impurity. The first group includes the intensity of the vegetation, the primary, secondary and tertiary surroundings, building development and roads. The maintenance of the water reservoir and the type of shore are the least informative features. "
   ]
  },
  {
   "cell_type": "markdown",
   "id": "latest-consultancy",
   "metadata": {},
   "source": [
    "**RF Model Evaluation**"
   ]
  },
  {
   "cell_type": "markdown",
   "id": "temporal-thread",
   "metadata": {},
   "source": [
    "The best estimator or model will be evaluated using ROC AUC on the testing set. The ROC AUC will be determined for each class as well as macro average for over all labels will be determined. "
   ]
  },
  {
   "cell_type": "code",
   "execution_count": 49,
   "id": "concrete-upgrade",
   "metadata": {},
   "outputs": [],
   "source": [
    "# Use the best estimator to predict labels for the test set\n",
    "y_pred_rf = gridsearch_rf.predict_proba(X_test)\n",
    "y_pred_rf = np.transpose([pred[:, 1] for pred in y_pred_rf])"
   ]
  },
  {
   "cell_type": "code",
   "execution_count": 50,
   "id": "hollywood-cartoon",
   "metadata": {},
   "outputs": [
    {
     "data": {
      "text/plain": [
       "Brown frogs           0.591667\n",
       "Fire-bellied toad     0.624521\n",
       "Tree frog             0.704545\n",
       "Common toad           0.715942\n",
       "Common newt           0.763636\n",
       "Green frogs           0.785714\n",
       "Great crested newt    0.864865\n",
       "dtype: float64"
      ]
     },
     "execution_count": 50,
     "metadata": {},
     "output_type": "execute_result"
    }
   ],
   "source": [
    "# Calculate the ROC AUC scores for each of the labels and store in a Pandas series\n",
    "auc_scores_classes_rf = pd.Series(roc_auc_score(y_test, y_pred_rf, average=None), amphibians[species].columns)\n",
    "auc_scores_classes_rf.sort_values()"
   ]
  },
  {
   "cell_type": "code",
   "execution_count": 51,
   "id": "peaceful-nursing",
   "metadata": {},
   "outputs": [
    {
     "data": {
      "text/plain": [
       "Text(0.5, 0, 'ROC AUC score')"
      ]
     },
     "execution_count": 51,
     "metadata": {},
     "output_type": "execute_result"
    },
    {
     "data": {
      "image/png": "[encoded data removed]",
      "text/plain": [
       "<Figure size 432x288 with 1 Axes>"
      ]
     },
     "metadata": {
      "needs_background": "light"
     },
     "output_type": "display_data"
    }
   ],
   "source": [
    "# Plot the ROC AUC scores for each target label\n",
    "auc_scores_classes_rf.sort_values(ascending=True).plot(kind='barh' , color='green')\n",
    "plt.title('ROC AUC score for a Random Forest')\n",
    "plt.xlabel('ROC AUC score')"
   ]
  },
  {
   "cell_type": "code",
   "execution_count": 52,
   "id": "light-borough",
   "metadata": {},
   "outputs": [
    {
     "data": {
      "text/plain": [
       "0.72"
      ]
     },
     "execution_count": 52,
     "metadata": {},
     "output_type": "execute_result"
    }
   ],
   "source": [
    "# Calculate the unweighted mean AUC which does not take label imbalance into account\n",
    "auc_scores_macro_rf = roc_auc_score(y_test, y_pred_rf, average='macro')\n",
    "round(auc_scores_macro_rf,2)"
   ]
  },
  {
   "cell_type": "code",
   "execution_count": 53,
   "id": "armed-genius",
   "metadata": {},
   "outputs": [
    {
     "data": {
      "text/plain": [
       "0.69"
      ]
     },
     "execution_count": 53,
     "metadata": {},
     "output_type": "execute_result"
    }
   ],
   "source": [
    "# Calculate the AUC for each label, find their average, weighted by support (the number of true instances for each label)\n",
    "auc_scores_weighted_rf = roc_auc_score(y_test, y_pred_rf, average='weighted')\n",
    "round(auc_scores_weighted_rf,2)"
   ]
  },
  {
   "cell_type": "markdown",
   "id": "frequent-fourth",
   "metadata": {},
   "source": [
    "The RF classifier achieves an unweighted average AUC of 0.72 on the test data which is slightly higher than the 0.68 achieved on the training data. The classifier achieves a weighted average AUC of 0.69. The weights are determined by the number of true instances for each label. The RF classifier achieves the highest AUC score for Great Crested Newts and the lowest score for Brown Frogs. Great Crested newts are the most rare species in the dataset and Brown Frogs were present most frequently. The rest of the AUC scores have no relation to the number of occurences of each species. In simple terms, the RF classifier is better at predicting whether Great Crested Newts will be present in a location compared than brown frogs. Collecting more samples where brown frogs were not present will help to improve this classifier. "
   ]
  },
  {
   "cell_type": "markdown",
   "id": "adolescent-moldova",
   "metadata": {},
   "source": [
    "### Gradient Boosting Tree (GBT) Classifier"
   ]
  },
  {
   "cell_type": "markdown",
   "id": "aggregate-proxy",
   "metadata": {},
   "source": [
    "A GBT classifier will be trained for each class or label. The outputs from individual GBT classifiers are combined to produce a multi-label output. "
   ]
  },
  {
   "cell_type": "code",
   "execution_count": 54,
   "id": "opened-palestinian",
   "metadata": {},
   "outputs": [],
   "source": [
    "# Initialize the random forest classifier and set a random state for reproducibility\n",
    "gbt = MultiOutputClassifier(GradientBoostingClassifier(random_state=42))"
   ]
  },
  {
   "cell_type": "markdown",
   "id": "institutional-exercise",
   "metadata": {},
   "source": [
    "**GBT Hyperparameter Tuning**"
   ]
  },
  {
   "cell_type": "code",
   "execution_count": 55,
   "id": "absolute-possibility",
   "metadata": {},
   "outputs": [],
   "source": [
    "# Define the hyperparameter grid\n",
    "param_grid_gbt = {'estimator__n_estimators': [50, 60, 70, 80, 90, 100, 110, 120, 130],\n",
    "                  'estimator__learning_rate': [0.08, 0.09, 0.1]}"
   ]
  },
  {
   "cell_type": "code",
   "execution_count": 56,
   "id": "otherwise-alabama",
   "metadata": {},
   "outputs": [
    {
     "name": "stdout",
     "output_type": "stream",
     "text": [
      "Best parameters for a GBT model:\n"
     ]
    },
    {
     "data": {
      "text/plain": [
       "{'estimator__learning_rate': 0.1, 'estimator__n_estimators': 60}"
      ]
     },
     "execution_count": 56,
     "metadata": {},
     "output_type": "execute_result"
    }
   ],
   "source": [
    "# Initialize and fit GridSearchCV\n",
    "gridsearch_gbt = GridSearchCV(gbt, param_grid_gbt, cv=5, scoring='roc_auc', return_train_score=True)\n",
    "gridsearch_gbt.fit(X_train, y_train)\n",
    "print(\"Best parameters for a GBT model:\")\n",
    "gridsearch_gbt.best_params_"
   ]
  },
  {
   "cell_type": "code",
   "execution_count": 57,
   "id": "controlling-track",
   "metadata": {},
   "outputs": [
    {
     "name": "stdout",
     "output_type": "stream",
     "text": [
      "ROC AUC score of the best estimator\n"
     ]
    },
    {
     "data": {
      "text/plain": [
       "0.63"
      ]
     },
     "execution_count": 57,
     "metadata": {},
     "output_type": "execute_result"
    }
   ],
   "source": [
    "# View the best score achieved\n",
    "print(\"ROC AUC score of the best estimator\")\n",
    "round(gridsearch_gbt.best_score_,2)"
   ]
  },
  {
   "cell_type": "markdown",
   "id": "czech-syndicate",
   "metadata": {},
   "source": [
    "To develop a multi-label classifier using the GBT algorithm, 7 binary classifiers are created and their output is combined. This is makes it complex to extract the overall features importances and we will leave that future work on this problem. "
   ]
  },
  {
   "cell_type": "markdown",
   "id": "thrown-springfield",
   "metadata": {},
   "source": [
    "**GBT Model Evaluation**"
   ]
  },
  {
   "cell_type": "markdown",
   "id": "purple-august",
   "metadata": {},
   "source": [
    "The best estimator or model will be evaluated using ROC AUC on the testing set. The ROC AUC will be determined for each class as well as macro average for over all labels will be determined. "
   ]
  },
  {
   "cell_type": "code",
   "execution_count": 58,
   "id": "defensive-simon",
   "metadata": {},
   "outputs": [],
   "source": [
    "# Use the best estimator to predict labels for the test set\n",
    "y_pred_gbt = gridsearch_gbt.predict_proba(X_test)\n",
    "y_pred_gbt = np.transpose([pred[:, 1] for pred in y_pred_gbt])"
   ]
  },
  {
   "cell_type": "code",
   "execution_count": 59,
   "id": "maritime-prerequisite",
   "metadata": {},
   "outputs": [
    {
     "data": {
      "text/plain": [
       "Brown frogs           0.508333\n",
       "Common newt           0.509091\n",
       "Common toad           0.634783\n",
       "Tree frog             0.642045\n",
       "Fire-bellied toad     0.685824\n",
       "Green frogs           0.739496\n",
       "Great crested newt    0.783784\n",
       "dtype: float64"
      ]
     },
     "execution_count": 59,
     "metadata": {},
     "output_type": "execute_result"
    }
   ],
   "source": [
    "# Calculate the ROC AUC scores for each of the labels and store in a Pandas series\n",
    "\n",
    "auc_scores_classes_gbt = pd.Series(roc_auc_score(y_test, y_pred_gbt, average=None), amphibians[species].columns)\n",
    "auc_scores_classes_gbt.sort_values()"
   ]
  },
  {
   "cell_type": "code",
   "execution_count": 60,
   "id": "packed-camping",
   "metadata": {},
   "outputs": [
    {
     "data": {
      "text/plain": [
       "Text(0.5, 0, 'ROC AUC score')"
      ]
     },
     "execution_count": 60,
     "metadata": {},
     "output_type": "execute_result"
    },
    {
     "data": {
      "image/png": "[encoded data removed]",
      "text/plain": [
       "<Figure size 432x288 with 1 Axes>"
      ]
     },
     "metadata": {
      "needs_background": "light"
     },
     "output_type": "display_data"
    }
   ],
   "source": [
    "# Plot the ROC AUC scores for each target label\n",
    "auc_scores_classes_gbt.sort_values(ascending=True).plot(kind='barh' , color='green')\n",
    "plt.title('ROC AUC score for a GBT')\n",
    "plt.xlabel('ROC AUC score')"
   ]
  },
  {
   "cell_type": "code",
   "execution_count": 61,
   "id": "single-craps",
   "metadata": {},
   "outputs": [
    {
     "data": {
      "text/plain": [
       "0.64"
      ]
     },
     "execution_count": 61,
     "metadata": {},
     "output_type": "execute_result"
    }
   ],
   "source": [
    "# Calculate the unweighted mean AUC which does not take label imbalance into account\n",
    "\n",
    "auc_scores_macro_gbt = roc_auc_score(y_test, y_pred_gbt, average='macro')\n",
    "round(auc_scores_macro_gbt,2)"
   ]
  },
  {
   "cell_type": "code",
   "execution_count": 62,
   "id": "electric-reynolds",
   "metadata": {},
   "outputs": [
    {
     "data": {
      "text/plain": [
       "0.62"
      ]
     },
     "execution_count": 62,
     "metadata": {},
     "output_type": "execute_result"
    }
   ],
   "source": [
    "# Calculate the AUC for each label, find their average, weighted by support (the number of true instances for each label)\n",
    "\n",
    "auc_scores_weighted_gbt = roc_auc_score(y_test, y_pred_gbt, average='weighted')\n",
    "round(auc_scores_weighted_gbt,2)"
   ]
  },
  {
   "cell_type": "markdown",
   "id": "strong-negative",
   "metadata": {},
   "source": [
    "The GBT classifier achieves an unweighted average AUC of 0.64 on the test data which is similar to the AUC achieved in training of 0.63. The classifier achieves a weighted average AUC of 0.62. The weights are determinee by the number of true instances for each label. Similar to RF classifier, the GBT classifier achieves the highest AUC score for Great Crested Newts and the lowest score for Brown Frogs. "
   ]
  },
  {
   "cell_type": "markdown",
   "id": "proud-stretch",
   "metadata": {},
   "source": [
    "### AdaBoost Classifier"
   ]
  },
  {
   "cell_type": "markdown",
   "id": "biological-brother",
   "metadata": {},
   "source": [
    "A AdaBoost classifier will be trained for each class or label. The outputs from individual GBT classifiers are combined to produce a multi-label output. "
   ]
  },
  {
   "cell_type": "code",
   "execution_count": 63,
   "id": "statewide-brook",
   "metadata": {},
   "outputs": [],
   "source": [
    "# Initialize the random forest classifier and set a random state for reproducibility\n",
    "ada = MultiOutputClassifier(AdaBoostClassifier(random_state=42))"
   ]
  },
  {
   "cell_type": "markdown",
   "id": "incorporate-waters",
   "metadata": {},
   "source": [
    "**AdaBoost Hyperparameter Tuning**"
   ]
  },
  {
   "cell_type": "code",
   "execution_count": 64,
   "id": "optional-methodology",
   "metadata": {},
   "outputs": [],
   "source": [
    "# Define the hyperparameter grid\n",
    "param_grid_ada = {'estimator__n_estimators': [50, 60, 70, 80, 90, 100, 110, 120, 130],\n",
    "                  'estimator__learning_rate': [0.08, 0.09, 0.1]}"
   ]
  },
  {
   "cell_type": "code",
   "execution_count": 65,
   "id": "acquired-manchester",
   "metadata": {},
   "outputs": [
    {
     "name": "stdout",
     "output_type": "stream",
     "text": [
      "Best parameters for a AdaBoost model:\n"
     ]
    },
    {
     "data": {
      "text/plain": [
       "{'estimator__learning_rate': 0.09, 'estimator__n_estimators': 50}"
      ]
     },
     "execution_count": 65,
     "metadata": {},
     "output_type": "execute_result"
    }
   ],
   "source": [
    "# Initialize and fit GridSearchCV\n",
    "gridsearch_ada = GridSearchCV(ada, param_grid_ada, cv=5, scoring='roc_auc', return_train_score=True)\n",
    "gridsearch_ada.fit(X_train, y_train)\n",
    "print(\"Best parameters for a AdaBoost model:\")\n",
    "gridsearch_ada.best_params_"
   ]
  },
  {
   "cell_type": "code",
   "execution_count": 66,
   "id": "incident-spider",
   "metadata": {},
   "outputs": [
    {
     "name": "stdout",
     "output_type": "stream",
     "text": [
      "ROC AUC score of the best estimator\n"
     ]
    },
    {
     "data": {
      "text/plain": [
       "0.64"
      ]
     },
     "execution_count": 66,
     "metadata": {},
     "output_type": "execute_result"
    }
   ],
   "source": [
    "# View the best score achieved\n",
    "print(\"ROC AUC score of the best estimator\")\n",
    "round(gridsearch_ada.best_score_,2)"
   ]
  },
  {
   "cell_type": "markdown",
   "id": "lovely-wound",
   "metadata": {},
   "source": [
    "As with the GBT, the extraction of the overall features importances will be left for future work on this problem. "
   ]
  },
  {
   "cell_type": "markdown",
   "id": "ruled-indonesia",
   "metadata": {},
   "source": [
    "**AdaBoost Model Evaluation**"
   ]
  },
  {
   "cell_type": "markdown",
   "id": "active-difference",
   "metadata": {},
   "source": [
    "The best estimator or model will be evaluated using ROC AUC on the testing set. The ROC AUC will be determined for each class as well as macro average for over all labels will be determined. "
   ]
  },
  {
   "cell_type": "code",
   "execution_count": 67,
   "id": "coupled-limitation",
   "metadata": {},
   "outputs": [],
   "source": [
    "# Use the best estimator to predict labels for the test set\n",
    "y_pred_ada = gridsearch_ada.predict_proba(X_test)\n",
    "y_pred_ada = np.transpose([pred[:, 1] for pred in y_pred_ada])"
   ]
  },
  {
   "cell_type": "code",
   "execution_count": 68,
   "id": "early-venice",
   "metadata": {},
   "outputs": [
    {
     "data": {
      "text/plain": [
       "Brown frogs           0.514583\n",
       "Common newt           0.527273\n",
       "Great crested newt    0.621622\n",
       "Common toad           0.659420\n",
       "Tree frog             0.698864\n",
       "Fire-bellied toad     0.749042\n",
       "Green frogs           0.784314\n",
       "dtype: float64"
      ]
     },
     "execution_count": 68,
     "metadata": {},
     "output_type": "execute_result"
    }
   ],
   "source": [
    "# Calculate the ROC AUC scores for each of the labels and store in a Pandas series\n",
    "\n",
    "auc_scores_classes_ada = pd.Series(roc_auc_score(y_test, y_pred_ada, average=None), amphibians[species].columns)\n",
    "auc_scores_classes_ada.sort_values()"
   ]
  },
  {
   "cell_type": "code",
   "execution_count": 69,
   "id": "departmental-scene",
   "metadata": {},
   "outputs": [
    {
     "data": {
      "text/plain": [
       "Text(0.5, 0, 'ROC AUC score')"
      ]
     },
     "execution_count": 69,
     "metadata": {},
     "output_type": "execute_result"
    },
    {
     "data": {
      "image/png": "[encoded data removed]",
      "text/plain": [
       "<Figure size 432x288 with 1 Axes>"
      ]
     },
     "metadata": {
      "needs_background": "light"
     },
     "output_type": "display_data"
    }
   ],
   "source": [
    "# Plot the ROC AUC scores for each target label\n",
    "auc_scores_classes_ada.sort_values(ascending=True).plot(kind='barh' , color='green')\n",
    "plt.title('ROC AUC score for AdaBoost')\n",
    "plt.xlabel('ROC AUC score')"
   ]
  },
  {
   "cell_type": "code",
   "execution_count": 70,
   "id": "possible-jacob",
   "metadata": {},
   "outputs": [
    {
     "data": {
      "text/plain": [
       "0.65"
      ]
     },
     "execution_count": 70,
     "metadata": {},
     "output_type": "execute_result"
    }
   ],
   "source": [
    "# Calculate the unweighted mean AUC which does not take label imbalance into account\n",
    "\n",
    "auc_scores_macro_ada = roc_auc_score(y_test, y_pred_ada, average='macro')\n",
    "round(auc_scores_macro_ada,2)"
   ]
  },
  {
   "cell_type": "code",
   "execution_count": 71,
   "id": "closing-public",
   "metadata": {},
   "outputs": [
    {
     "data": {
      "text/plain": [
       "0.65"
      ]
     },
     "execution_count": 71,
     "metadata": {},
     "output_type": "execute_result"
    }
   ],
   "source": [
    "# Calculate the AUC for each label, find their average, weighted by support (the number of true instances for each label)\n",
    "\n",
    "auc_scores_weighted_ada = roc_auc_score(y_test, y_pred_ada, average='weighted')\n",
    "round(auc_scores_weighted_ada,2)"
   ]
  },
  {
   "cell_type": "markdown",
   "id": "tender-listening",
   "metadata": {},
   "source": [
    "The AdaBoost classifier achieves an unweighted average AUC of 0.65 on the test data which is similar to the AUC achieved in training of 0.64. The classifier achieves a weighted average AUC of 0.65. Similar to both the GBT and RF classifiers, the AdaBoost classifier achieves the highest AUC score for Great Crested Newts and the lowest score for Brown Frogs. "
   ]
  },
  {
   "cell_type": "markdown",
   "id": "specialized-analysis",
   "metadata": {},
   "source": [
    "## Results Comparison"
   ]
  },
  {
   "cell_type": "code",
   "execution_count": 72,
   "id": "accredited-harvey",
   "metadata": {},
   "outputs": [],
   "source": [
    "# Combine the auc scores per label for each of the three algorithms into a single dataframe\n",
    "auc_results = pd.concat([auc_scores_classes_rf, auc_scores_classes_gbt, auc_scores_classes_ada], axis=1)\n",
    "auc_results.columns = ['RF', 'GBT', 'Ada']"
   ]
  },
  {
   "cell_type": "code",
   "execution_count": 73,
   "id": "complete-classification",
   "metadata": {},
   "outputs": [],
   "source": [
    "# Define a custom function to highlight the maximum value in yellow\n",
    "def highlight_max(s):\n",
    "    '''\n",
    "    highlight the maximum in a Series yellow.\n",
    "    '''\n",
    "    is_max = s == s.max()\n",
    "    return ['background-color: yellow' if v else '' for v in is_max]"
   ]
  },
  {
   "cell_type": "code",
   "execution_count": 74,
   "id": "talented-blade",
   "metadata": {},
   "outputs": [
    {
     "data": {
      "text/html": [
       "<style  type=\"text/css\" >\n",
       "    #T_0e6afb14_9577_11eb_b29c_1e008a361a81row0_col0 {\n",
       "            background-color:  yellow;\n",
       "        }    #T_0e6afb14_9577_11eb_b29c_1e008a361a81row1_col0 {\n",
       "            background-color:  yellow;\n",
       "        }    #T_0e6afb14_9577_11eb_b29c_1e008a361a81row2_col0 {\n",
       "            background-color:  yellow;\n",
       "        }    #T_0e6afb14_9577_11eb_b29c_1e008a361a81row3_col2 {\n",
       "            background-color:  yellow;\n",
       "        }    #T_0e6afb14_9577_11eb_b29c_1e008a361a81row4_col0 {\n",
       "            background-color:  yellow;\n",
       "        }    #T_0e6afb14_9577_11eb_b29c_1e008a361a81row5_col0 {\n",
       "            background-color:  yellow;\n",
       "        }    #T_0e6afb14_9577_11eb_b29c_1e008a361a81row6_col0 {\n",
       "            background-color:  yellow;\n",
       "        }</style><table id=\"T_0e6afb14_9577_11eb_b29c_1e008a361a81\" ><thead>    <tr>        <th class=\"blank level0\" ></th>        <th class=\"col_heading level0 col0\" >RF</th>        <th class=\"col_heading level0 col1\" >GBT</th>        <th class=\"col_heading level0 col2\" >Ada</th>    </tr></thead><tbody>\n",
       "                <tr>\n",
       "                        <th id=\"T_0e6afb14_9577_11eb_b29c_1e008a361a81level0_row0\" class=\"row_heading level0 row0\" >Green frogs</th>\n",
       "                        <td id=\"T_0e6afb14_9577_11eb_b29c_1e008a361a81row0_col0\" class=\"data row0 col0\" >0.785714</td>\n",
       "                        <td id=\"T_0e6afb14_9577_11eb_b29c_1e008a361a81row0_col1\" class=\"data row0 col1\" >0.739496</td>\n",
       "                        <td id=\"T_0e6afb14_9577_11eb_b29c_1e008a361a81row0_col2\" class=\"data row0 col2\" >0.784314</td>\n",
       "            </tr>\n",
       "            <tr>\n",
       "                        <th id=\"T_0e6afb14_9577_11eb_b29c_1e008a361a81level0_row1\" class=\"row_heading level0 row1\" >Brown frogs</th>\n",
       "                        <td id=\"T_0e6afb14_9577_11eb_b29c_1e008a361a81row1_col0\" class=\"data row1 col0\" >0.591667</td>\n",
       "                        <td id=\"T_0e6afb14_9577_11eb_b29c_1e008a361a81row1_col1\" class=\"data row1 col1\" >0.508333</td>\n",
       "                        <td id=\"T_0e6afb14_9577_11eb_b29c_1e008a361a81row1_col2\" class=\"data row1 col2\" >0.514583</td>\n",
       "            </tr>\n",
       "            <tr>\n",
       "                        <th id=\"T_0e6afb14_9577_11eb_b29c_1e008a361a81level0_row2\" class=\"row_heading level0 row2\" >Common toad</th>\n",
       "                        <td id=\"T_0e6afb14_9577_11eb_b29c_1e008a361a81row2_col0\" class=\"data row2 col0\" >0.715942</td>\n",
       "                        <td id=\"T_0e6afb14_9577_11eb_b29c_1e008a361a81row2_col1\" class=\"data row2 col1\" >0.634783</td>\n",
       "                        <td id=\"T_0e6afb14_9577_11eb_b29c_1e008a361a81row2_col2\" class=\"data row2 col2\" >0.65942</td>\n",
       "            </tr>\n",
       "            <tr>\n",
       "                        <th id=\"T_0e6afb14_9577_11eb_b29c_1e008a361a81level0_row3\" class=\"row_heading level0 row3\" >Fire-bellied toad</th>\n",
       "                        <td id=\"T_0e6afb14_9577_11eb_b29c_1e008a361a81row3_col0\" class=\"data row3 col0\" >0.624521</td>\n",
       "                        <td id=\"T_0e6afb14_9577_11eb_b29c_1e008a361a81row3_col1\" class=\"data row3 col1\" >0.685824</td>\n",
       "                        <td id=\"T_0e6afb14_9577_11eb_b29c_1e008a361a81row3_col2\" class=\"data row3 col2\" >0.749042</td>\n",
       "            </tr>\n",
       "            <tr>\n",
       "                        <th id=\"T_0e6afb14_9577_11eb_b29c_1e008a361a81level0_row4\" class=\"row_heading level0 row4\" >Tree frog</th>\n",
       "                        <td id=\"T_0e6afb14_9577_11eb_b29c_1e008a361a81row4_col0\" class=\"data row4 col0\" >0.704545</td>\n",
       "                        <td id=\"T_0e6afb14_9577_11eb_b29c_1e008a361a81row4_col1\" class=\"data row4 col1\" >0.642045</td>\n",
       "                        <td id=\"T_0e6afb14_9577_11eb_b29c_1e008a361a81row4_col2\" class=\"data row4 col2\" >0.698864</td>\n",
       "            </tr>\n",
       "            <tr>\n",
       "                        <th id=\"T_0e6afb14_9577_11eb_b29c_1e008a361a81level0_row5\" class=\"row_heading level0 row5\" >Common newt</th>\n",
       "                        <td id=\"T_0e6afb14_9577_11eb_b29c_1e008a361a81row5_col0\" class=\"data row5 col0\" >0.763636</td>\n",
       "                        <td id=\"T_0e6afb14_9577_11eb_b29c_1e008a361a81row5_col1\" class=\"data row5 col1\" >0.509091</td>\n",
       "                        <td id=\"T_0e6afb14_9577_11eb_b29c_1e008a361a81row5_col2\" class=\"data row5 col2\" >0.527273</td>\n",
       "            </tr>\n",
       "            <tr>\n",
       "                        <th id=\"T_0e6afb14_9577_11eb_b29c_1e008a361a81level0_row6\" class=\"row_heading level0 row6\" >Great crested newt</th>\n",
       "                        <td id=\"T_0e6afb14_9577_11eb_b29c_1e008a361a81row6_col0\" class=\"data row6 col0\" >0.864865</td>\n",
       "                        <td id=\"T_0e6afb14_9577_11eb_b29c_1e008a361a81row6_col1\" class=\"data row6 col1\" >0.783784</td>\n",
       "                        <td id=\"T_0e6afb14_9577_11eb_b29c_1e008a361a81row6_col2\" class=\"data row6 col2\" >0.621622</td>\n",
       "            </tr>\n",
       "    </tbody></table>"
      ],
      "text/plain": [
       "<pandas.io.formats.style.Styler at 0x7ff37075cdc0>"
      ]
     },
     "execution_count": 74,
     "metadata": {},
     "output_type": "execute_result"
    }
   ],
   "source": [
    "# Apply the custom function to the results dataframe to highlight the highest value per row\n",
    "auc_results.style.apply(highlight_max, axis=1)"
   ]
  },
  {
   "cell_type": "markdown",
   "id": "great-eclipse",
   "metadata": {},
   "source": [
    "The table above shows a comparison of the AUC scores achieved by each algorithm per class. The random forest classifier achieves the highest AUC score for 6 out of the 7 labels. The AdaBoost algorithm performs better than a random forest for Fire-bellied toads. Fire-bellied toads were the 2nd most rare species along with the common newt in the dataset. \n",
    "\n",
    "The GBT and AdaBoost algorithms do not do better than a purely random classifier for Brown frogs. "
   ]
  },
  {
   "cell_type": "code",
   "execution_count": 75,
   "id": "dependent-watson",
   "metadata": {
    "scrolled": true
   },
   "outputs": [
    {
     "name": "stdout",
     "output_type": "stream",
     "text": [
      "Unweighted average AUC for RF: 0.72\n",
      "Unweighted average AUC for GBT: 0.64\n",
      "Unweighted average AUC for AdaBoost: 0.65\n"
     ]
    }
   ],
   "source": [
    "print('Unweighted average AUC for RF:', round(auc_scores_macro_rf,2))\n",
    "print('Unweighted average AUC for GBT:', round(auc_scores_macro_gbt,2))\n",
    "print('Unweighted average AUC for AdaBoost:', round(auc_scores_macro_ada,2))"
   ]
  },
  {
   "cell_type": "code",
   "execution_count": 76,
   "id": "structural-boost",
   "metadata": {
    "scrolled": true
   },
   "outputs": [
    {
     "name": "stdout",
     "output_type": "stream",
     "text": [
      "Weighted average AUC for RF: 0.69\n",
      "Weighted average AUC for GBT: 0.62\n",
      "Weighted average AUC for AdaBoost: 0.65\n"
     ]
    }
   ],
   "source": [
    "print('Weighted average AUC for RF:', round(auc_scores_weighted_rf,2))\n",
    "print('Weighted average AUC for GBT:', round(auc_scores_weighted_gbt,2))\n",
    "print('Weighted average AUC for AdaBoost:', round(auc_scores_weighted_ada,2))"
   ]
  },
  {
   "cell_type": "markdown",
   "id": "provincial-focus",
   "metadata": {},
   "source": [
    "The unweighted average AUC and weighted average AUC scores for each classifier is shown above. According the to macro average results, the GBT and AdaBoost algorithms perfrom sligtly better than a random forest. However, if the AUC score is weighted to take into account the unbalanced target labels, then the random forest algorithm performs a bit better than the other two algorithms. \n",
    "\n",
    "The reason for the random forest performing better could be related to the scikit-learn implementation of the algorithm which natively supports multi-label classification which treats the target labels simultaneously and can account for correlations among the the labels. "
   ]
  },
  {
   "cell_type": "markdown",
   "id": "marked-promise",
   "metadata": {},
   "source": [
    "## Conclusion and Recommendations"
   ]
  },
  {
   "cell_type": "markdown",
   "id": "nuclear-trial",
   "metadata": {},
   "source": [
    "The project aimed to investigate the potential to develop a predictive model to predict the presence of 7 species of frogs in a sub-location of a environmental impact assessment study area using features derived from publicly available GIS data and satellite images. The results from a model can be used to help identify sub-locations with high natural value and to help optimize the allocation of field work resources. \n",
    "\n",
    "Using the available dataset, an random forest model was developed that achieved a weighted ROC AUC Score in testing of 0.69. This model has potential. The dataset is small and the predictive model would benefit from more training data. The ROC AUC score for all three algorithm were fairly close (RF: 0.69, GBT: 0.62 and AdaBoost: 0.65). These results should be evaluated using a suitable statistical test to determine if the results are truly different. \n",
    "\n",
    "The values of the categorical variables did not always match the data dictionary and should be followed up on with the data collection team. For example, the categorical variable for the presence of fishing should have 3 levels according to the data dictionary but the variable has 5 levels in the dataset. \n",
    "\n",
    "It was unclear from the dataset description how the perimeter of a habitat is determined. The rules for the definition of a habitat should be determined and recorded. \n",
    "\n",
    "It is not clear if it is of necessity to an environmental impact assessment to have counts for each species or if the presence of any type of amphibian is important. If it is not important to distinguish between species, then this problem can be reformulated a binary classification problem with the goal of predicting whether any species of amphibians is present or not. This will be a simpler problem compared to multi-label classification.\n",
    "\n",
    "As mentioned already, more data should be collected. In this dataset, only 6 observations had no species of amphibians present and 48 (22%) of the observations had no brown frogs. Any new data collection should focus on collecting data for sub-locations that do not have any amphibians or that have no brown frogs. This will help to build classifiers that are better at either predicting the presence of brown frogs or amphibians in general. \n",
    "\n",
    "The importances of the features were determined using information extracted from the random forest model. The surface area of the water reservoirs was by far the most important and the type of reservoir and the maintenance status of the reservoir were the least important features. This method determines feature importance using the Gini importance (or mean decrease in impurity). This method has the advantage of speed as the necessary values are calculated during training but the method can have a tendency to select numerical features and high cardinality categorical features (categorical features with many values). Alternative methods like mean decrease in accuracy or a permutation method should be investigated. "
   ]
  },
  {
   "cell_type": "markdown",
   "id": "oriented-calculation",
   "metadata": {},
   "source": [
    "## References"
   ]
  }
 ],
 "metadata": {
  "kernelspec": {
   "display_name": "Python 3",
   "language": "python",
   "name": "python3"
  },
  "language_info": {
   "codemirror_mode": {
    "name": "ipython",
    "version": 3
   },
   "file_extension": ".py",
   "mimetype": "text/x-python",
   "name": "python",
   "nbconvert_exporter": "python",
   "pygments_lexer": "ipython3",
   "version": "3.8.5"
  }
 },
 "nbformat": 4,
 "nbformat_minor": 5
}
