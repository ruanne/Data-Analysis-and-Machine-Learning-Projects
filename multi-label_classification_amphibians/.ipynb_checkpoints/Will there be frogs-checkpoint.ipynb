{
 "cells": [
  {
   "cell_type": "markdown",
   "metadata": {},
   "source": [
    "## Will there be frogs?"
   ]
  },
  {
   "cell_type": "markdown",
   "metadata": {},
   "source": [
    "### Introduction\n",
    "In many countries, an environmental impact study (EIS) is required to assess the potential impact of actions that significantly affect the quality of the human environment. An EIS is very important but can be an expensive undertaking often involving the deployment of ecological experts to collect data. What if it was possible to do a pre-assessment of a project site? A pre-assessment could give an initial indication of areas to focus on and potentially shorten the the field time required. "
   ]
  },
  {
   "cell_type": "markdown",
   "metadata": {},
   "source": [
    "### Problem Definition\n",
    "The impact of an infrastructure project on amphibian populations forms part of an EIS. \n",
    "\n",
    "Can the presence of amphibians species near water reservoirs be predicted using features obtained from GS systems and satellite images?"
   ]
  },
  {
   "cell_type": "markdown",
   "metadata": {},
   "source": [
    "### Data \n",
    "The data consists of 15 input variables and a multi-label target variable with 7 possible values indicating the presence of a certain type of frog. \n",
    "\n",
    "\n",
    "#### Attribute Information\n",
    "\n",
    "##### Inputs\n",
    "- MV categorical\n",
    "- SR numerical\n",
    "- NR numerical \n",
    "- TR categorical\n",
    "- VR categorical\n",
    "- SUR1 categorical\n",
    "- SUR2 categorical\n",
    "- SUR3 categorical\n",
    "- UR categorical\n",
    "- FR categorical\n",
    "- OR categorical\n",
    "- RR ordinal\n",
    "- BR ordinal\n",
    "- MR categorical\n",
    "- CR categorical\n",
    "\n",
    "##### Target\n",
    "- Label 1: The presence of Green frogs \n",
    "- Label 2: The presence of Brown frogs\n",
    "- Label 3: The presence of Common toad\n",
    "- Label 4: The presence of Fire-bellied toad\n",
    "- Label 5: The presence of Tree frog\n",
    "- Label 6: The presence of Common newt\n",
    "- Label 7: The presence of Great Crested newt\n",
    "\n",
    "##### Name and symbol type description\n",
    "<ul>\n",
    "<li> SR - Surface of water reservoir in cubic meters </li>\n",
    "<li> NR - Number of water reservoirs in habitat </li>\n",
    "<li> TR - Type of water reservoirs </li>\n",
    "    <ul>\n",
    "    <li> 1 - reservoirs with natural features that are natural or anthropogenic water reservoirs (e.g., subsidence post-exploited water reservoirs), not subjected to naturalization </li>   \n",
    "    </ul>\n",
    "\n",
    "\n",
    "\n",
    "#### Source\n",
    "The dataset was obtained from the UCI Machine Learning Repository: [Amphibians](https://archive.ics.uci.edu/ml/datasets/Amphibians)\n",
    "\n",
    "Marcin Blachnik, Marek SoÅ‚tysiak, Dominika DÄ…browska Predicting presence of amphibian species using features obtained from GIS and satellite images. ISPRS International Journal of Geo-Information 8 (3) pp. 123. MDPI. 2019"
   ]
  },
  {
   "cell_type": "markdown",
   "metadata": {},
   "source": [
    "### Problem Approach\n",
    "This is a multi-label classification problem. The goal is to fit and train a classification model capable of outputing a multi-label variable indicating the presence of one of 7 types of frogs. \n",
    "\n",
    "There are two groups of approaches for multi-label classification:\n",
    "<ul>\n",
    "    <li>Problem transformation methods that cast the original multi-label problems as a set of single-label classification problems</li>\n",
    "    <ul>\n",
    "        <li>Convert each set of labels encountered in the training data to a single label</li>\n",
    "        <li>Increasing the number of classes is frequently impractical</li>\n",
    "        <li>The transformation can produce many new labels that corresponce to only a few traning instances</li>\n",
    "        <li>The classifier can only predict combinations of labels that were seen in the training data</li>\n",
    "    </ul>\n",
    "    <li>Problem transformation methods that train one binary classifier for each of the labels in the training set</li>\n",
    "    <ul>\n",
    "        <li>Each classifier will predicts whether ot not the instance belongs to one label</li>\n",
    "        <li>The final prediction is the union of the predictions from all the binary classifiers</li>\n",
    "        <li>This method ensures that the single label problems will have the same number of training examples as the multi-label problem, but ignores relationships between labels</li>\n",
    "    </ul>\n",
    "</ul>"
   ]
  },
  {
   "cell_type": "markdown",
   "metadata": {},
   "source": [
    "### Performance Metric\n",
    "\n",
    "<ul>\n",
    "    <li>Hamming loss</li>\n",
    "    <ul>\n",
    "        <li>Average fraction of incorrect labels</li>\n",
    "    </ul>\n",
    "    <li>Jaccard similarity</li>\n",
    "    <ul>\n",
    "        <li>The size of the intersection of the predicted labels divided by the size of the union of the predicted and true labels</li>\n",
    "        <li>It ranges from 0 to 1, and 1 is the perfect score</li>\n",
    "        </ul>"
   ]
  },
  {
   "cell_type": "markdown",
   "metadata": {},
   "source": [
    "### Data Management"
   ]
  },
  {
   "cell_type": "code",
   "execution_count": 151,
   "metadata": {},
   "outputs": [],
   "source": [
    "import pandas as pd\n",
    "import matplotlib.pyplot as plt\n",
    "import seaborn as sns\n",
    "import numpy as np\n",
    "from sklearn.model_selection import train_test_split\n",
    "\n",
    "%matplotlib inline"
   ]
  },
  {
   "cell_type": "markdown",
   "metadata": {},
   "source": [
    "The data for both road projects is contained in a single csv file. The repository claims that there are no missing values. "
   ]
  },
  {
   "cell_type": "code",
   "execution_count": 152,
   "metadata": {},
   "outputs": [
    {
     "data": {
      "text/html": [
       "<div>\n",
       "<style scoped>\n",
       "    .dataframe tbody tr th:only-of-type {\n",
       "        vertical-align: middle;\n",
       "    }\n",
       "\n",
       "    .dataframe tbody tr th {\n",
       "        vertical-align: top;\n",
       "    }\n",
       "\n",
       "    .dataframe thead th {\n",
       "        text-align: right;\n",
       "    }\n",
       "</style>\n",
       "<table border=\"1\" class=\"dataframe\">\n",
       "  <thead>\n",
       "    <tr style=\"text-align: right;\">\n",
       "      <th></th>\n",
       "      <th>Motorway</th>\n",
       "      <th>SR</th>\n",
       "      <th>NR</th>\n",
       "      <th>TR</th>\n",
       "      <th>VR</th>\n",
       "      <th>SUR1</th>\n",
       "      <th>SUR2</th>\n",
       "      <th>SUR3</th>\n",
       "      <th>UR</th>\n",
       "      <th>FR</th>\n",
       "      <th>...</th>\n",
       "      <th>BR</th>\n",
       "      <th>MR</th>\n",
       "      <th>CR</th>\n",
       "      <th>Green frogs</th>\n",
       "      <th>Brown frogs</th>\n",
       "      <th>Common toad</th>\n",
       "      <th>Fire-bellied toad</th>\n",
       "      <th>Tree frog</th>\n",
       "      <th>Common newt</th>\n",
       "      <th>Great crested newt</th>\n",
       "    </tr>\n",
       "    <tr>\n",
       "      <th>ID</th>\n",
       "      <th></th>\n",
       "      <th></th>\n",
       "      <th></th>\n",
       "      <th></th>\n",
       "      <th></th>\n",
       "      <th></th>\n",
       "      <th></th>\n",
       "      <th></th>\n",
       "      <th></th>\n",
       "      <th></th>\n",
       "      <th></th>\n",
       "      <th></th>\n",
       "      <th></th>\n",
       "      <th></th>\n",
       "      <th></th>\n",
       "      <th></th>\n",
       "      <th></th>\n",
       "      <th></th>\n",
       "      <th></th>\n",
       "      <th></th>\n",
       "      <th></th>\n",
       "    </tr>\n",
       "  </thead>\n",
       "  <tbody>\n",
       "    <tr>\n",
       "      <th>1</th>\n",
       "      <td>A1</td>\n",
       "      <td>600</td>\n",
       "      <td>1</td>\n",
       "      <td>1</td>\n",
       "      <td>4</td>\n",
       "      <td>6</td>\n",
       "      <td>2</td>\n",
       "      <td>10</td>\n",
       "      <td>0</td>\n",
       "      <td>0</td>\n",
       "      <td>...</td>\n",
       "      <td>0</td>\n",
       "      <td>0</td>\n",
       "      <td>1</td>\n",
       "      <td>0</td>\n",
       "      <td>0</td>\n",
       "      <td>0</td>\n",
       "      <td>0</td>\n",
       "      <td>0</td>\n",
       "      <td>0</td>\n",
       "      <td>0</td>\n",
       "    </tr>\n",
       "    <tr>\n",
       "      <th>2</th>\n",
       "      <td>A1</td>\n",
       "      <td>700</td>\n",
       "      <td>1</td>\n",
       "      <td>5</td>\n",
       "      <td>1</td>\n",
       "      <td>10</td>\n",
       "      <td>6</td>\n",
       "      <td>10</td>\n",
       "      <td>3</td>\n",
       "      <td>1</td>\n",
       "      <td>...</td>\n",
       "      <td>1</td>\n",
       "      <td>0</td>\n",
       "      <td>1</td>\n",
       "      <td>0</td>\n",
       "      <td>1</td>\n",
       "      <td>1</td>\n",
       "      <td>0</td>\n",
       "      <td>0</td>\n",
       "      <td>1</td>\n",
       "      <td>0</td>\n",
       "    </tr>\n",
       "    <tr>\n",
       "      <th>3</th>\n",
       "      <td>A1</td>\n",
       "      <td>200</td>\n",
       "      <td>1</td>\n",
       "      <td>5</td>\n",
       "      <td>1</td>\n",
       "      <td>10</td>\n",
       "      <td>6</td>\n",
       "      <td>10</td>\n",
       "      <td>3</td>\n",
       "      <td>4</td>\n",
       "      <td>...</td>\n",
       "      <td>1</td>\n",
       "      <td>0</td>\n",
       "      <td>1</td>\n",
       "      <td>0</td>\n",
       "      <td>1</td>\n",
       "      <td>1</td>\n",
       "      <td>0</td>\n",
       "      <td>0</td>\n",
       "      <td>1</td>\n",
       "      <td>0</td>\n",
       "    </tr>\n",
       "    <tr>\n",
       "      <th>4</th>\n",
       "      <td>A1</td>\n",
       "      <td>300</td>\n",
       "      <td>1</td>\n",
       "      <td>5</td>\n",
       "      <td>0</td>\n",
       "      <td>6</td>\n",
       "      <td>10</td>\n",
       "      <td>2</td>\n",
       "      <td>3</td>\n",
       "      <td>4</td>\n",
       "      <td>...</td>\n",
       "      <td>0</td>\n",
       "      <td>0</td>\n",
       "      <td>1</td>\n",
       "      <td>0</td>\n",
       "      <td>0</td>\n",
       "      <td>1</td>\n",
       "      <td>0</td>\n",
       "      <td>0</td>\n",
       "      <td>0</td>\n",
       "      <td>0</td>\n",
       "    </tr>\n",
       "    <tr>\n",
       "      <th>5</th>\n",
       "      <td>A1</td>\n",
       "      <td>600</td>\n",
       "      <td>2</td>\n",
       "      <td>1</td>\n",
       "      <td>4</td>\n",
       "      <td>10</td>\n",
       "      <td>2</td>\n",
       "      <td>6</td>\n",
       "      <td>0</td>\n",
       "      <td>0</td>\n",
       "      <td>...</td>\n",
       "      <td>5</td>\n",
       "      <td>0</td>\n",
       "      <td>1</td>\n",
       "      <td>0</td>\n",
       "      <td>1</td>\n",
       "      <td>1</td>\n",
       "      <td>1</td>\n",
       "      <td>0</td>\n",
       "      <td>1</td>\n",
       "      <td>1</td>\n",
       "    </tr>\n",
       "  </tbody>\n",
       "</table>\n",
       "<p>5 rows × 22 columns</p>\n",
       "</div>"
      ],
      "text/plain": [
       "   Motorway   SR  NR  TR  VR  SUR1  SUR2  SUR3  UR  FR  ...  BR  MR  CR  \\\n",
       "ID                                                      ...               \n",
       "1        A1  600   1   1   4     6     2    10   0   0  ...   0   0   1   \n",
       "2        A1  700   1   5   1    10     6    10   3   1  ...   1   0   1   \n",
       "3        A1  200   1   5   1    10     6    10   3   4  ...   1   0   1   \n",
       "4        A1  300   1   5   0     6    10     2   3   4  ...   0   0   1   \n",
       "5        A1  600   2   1   4    10     2     6   0   0  ...   5   0   1   \n",
       "\n",
       "    Green frogs  Brown frogs  Common toad  Fire-bellied toad  Tree frog  \\\n",
       "ID                                                                        \n",
       "1             0            0            0                  0          0   \n",
       "2             0            1            1                  0          0   \n",
       "3             0            1            1                  0          0   \n",
       "4             0            0            1                  0          0   \n",
       "5             0            1            1                  1          0   \n",
       "\n",
       "    Common newt  Great crested newt  \n",
       "ID                                   \n",
       "1             0                   0  \n",
       "2             1                   0  \n",
       "3             1                   0  \n",
       "4             0                   0  \n",
       "5             1                   1  \n",
       "\n",
       "[5 rows x 22 columns]"
      ]
     },
     "execution_count": 152,
     "metadata": {},
     "output_type": "execute_result"
    }
   ],
   "source": [
    "amphibians = pd.read_csv('amphibians.csv', sep=';', header=1, index_col='ID')\n",
    "amphibians.head()"
   ]
  },
  {
   "cell_type": "code",
   "execution_count": 153,
   "metadata": {},
   "outputs": [
    {
     "data": {
      "text/plain": [
       "Motorway              object\n",
       "SR                     int64\n",
       "NR                     int64\n",
       "TR                     int64\n",
       "VR                     int64\n",
       "SUR1                   int64\n",
       "SUR2                   int64\n",
       "SUR3                   int64\n",
       "UR                     int64\n",
       "FR                     int64\n",
       "OR                     int64\n",
       "RR                     int64\n",
       "BR                     int64\n",
       "MR                     int64\n",
       "CR                     int64\n",
       "Green frogs            int64\n",
       "Brown frogs            int64\n",
       "Common toad            int64\n",
       "Fire-bellied toad      int64\n",
       "Tree frog              int64\n",
       "Common newt            int64\n",
       "Great crested newt     int64\n",
       "dtype: object"
      ]
     },
     "execution_count": 153,
     "metadata": {},
     "output_type": "execute_result"
    }
   ],
   "source": [
    "amphibians.dtypes"
   ]
  },
  {
   "cell_type": "code",
   "execution_count": 154,
   "metadata": {},
   "outputs": [
    {
     "data": {
      "text/plain": [
       "Motorway              0\n",
       "SR                    0\n",
       "NR                    0\n",
       "TR                    0\n",
       "VR                    0\n",
       "SUR1                  0\n",
       "SUR2                  0\n",
       "SUR3                  0\n",
       "UR                    0\n",
       "FR                    0\n",
       "OR                    0\n",
       "RR                    0\n",
       "BR                    0\n",
       "MR                    0\n",
       "CR                    0\n",
       "Green frogs           0\n",
       "Brown frogs           0\n",
       "Common toad           0\n",
       "Fire-bellied toad     0\n",
       "Tree frog             0\n",
       "Common newt           0\n",
       "Great crested newt    0\n",
       "dtype: int64"
      ]
     },
     "execution_count": 154,
     "metadata": {},
     "output_type": "execute_result"
    }
   ],
   "source": [
    "# Check for missing values\n",
    "amphibians.isna().sum()"
   ]
  },
  {
   "cell_type": "code",
   "execution_count": 155,
   "metadata": {},
   "outputs": [
    {
     "data": {
      "text/plain": [
       "(189, 22)"
      ]
     },
     "execution_count": 155,
     "metadata": {},
     "output_type": "execute_result"
    }
   ],
   "source": [
    "# Determine the number of observations in the dataset\n",
    "amphibians.shape"
   ]
  },
  {
   "cell_type": "markdown",
   "metadata": {},
   "source": [
    "The dataset is quite small with only a 189 observations. A small dataset increases the risk of overfitting. \n",
    "\n",
    "The dataset will be split into train and test set. The train set will be further split into a train and validation set. "
   ]
  },
  {
   "cell_type": "code",
   "execution_count": 156,
   "metadata": {},
   "outputs": [],
   "source": [
    "# View the number of frogs per species\n",
    "species = ['Green frogs', 'Brown frogs', 'Common toad', 'Fire-bellied toad', 'Tree frog', 'Common newt', 'Great crested newt']\n",
    "species_count = amphibians[species].sum().to_frame('count').reset_index()\n",
    "species_count_motorway = amphibians.groupby('Motorway')[species].apply(lambda x : x.astype(int).sum())"
   ]
  },
  {
   "cell_type": "code",
   "execution_count": 157,
   "metadata": {},
   "outputs": [
    {
     "data": {
      "text/html": [
       "<div>\n",
       "<style scoped>\n",
       "    .dataframe tbody tr th:only-of-type {\n",
       "        vertical-align: middle;\n",
       "    }\n",
       "\n",
       "    .dataframe tbody tr th {\n",
       "        vertical-align: top;\n",
       "    }\n",
       "\n",
       "    .dataframe thead th {\n",
       "        text-align: right;\n",
       "    }\n",
       "</style>\n",
       "<table border=\"1\" class=\"dataframe\">\n",
       "  <thead>\n",
       "    <tr style=\"text-align: right;\">\n",
       "      <th></th>\n",
       "      <th>species</th>\n",
       "      <th>count</th>\n",
       "    </tr>\n",
       "  </thead>\n",
       "  <tbody>\n",
       "    <tr>\n",
       "      <th>6</th>\n",
       "      <td>Great crested newt</td>\n",
       "      <td>21</td>\n",
       "    </tr>\n",
       "    <tr>\n",
       "      <th>3</th>\n",
       "      <td>Fire-bellied toad</td>\n",
       "      <td>58</td>\n",
       "    </tr>\n",
       "    <tr>\n",
       "      <th>5</th>\n",
       "      <td>Common newt</td>\n",
       "      <td>58</td>\n",
       "    </tr>\n",
       "    <tr>\n",
       "      <th>4</th>\n",
       "      <td>Tree frog</td>\n",
       "      <td>71</td>\n",
       "    </tr>\n",
       "    <tr>\n",
       "      <th>0</th>\n",
       "      <td>Green frogs</td>\n",
       "      <td>108</td>\n",
       "    </tr>\n",
       "    <tr>\n",
       "      <th>2</th>\n",
       "      <td>Common toad</td>\n",
       "      <td>124</td>\n",
       "    </tr>\n",
       "    <tr>\n",
       "      <th>1</th>\n",
       "      <td>Brown frogs</td>\n",
       "      <td>148</td>\n",
       "    </tr>\n",
       "  </tbody>\n",
       "</table>\n",
       "</div>"
      ],
      "text/plain": [
       "              species  count\n",
       "6  Great crested newt     21\n",
       "3   Fire-bellied toad     58\n",
       "5         Common newt     58\n",
       "4           Tree frog     71\n",
       "0         Green frogs    108\n",
       "2         Common toad    124\n",
       "1         Brown frogs    148"
      ]
     },
     "execution_count": 157,
     "metadata": {},
     "output_type": "execute_result"
    }
   ],
   "source": [
    "species_count.columns = ['species', 'count']\n",
    "species_count.sort_values('count')"
   ]
  },
  {
   "cell_type": "code",
   "execution_count": 158,
   "metadata": {},
   "outputs": [
    {
     "data": {
      "text/plain": [
       "<AxesSubplot:xlabel='species', ylabel='count'>"
      ]
     },
     "execution_count": 158,
     "metadata": {},
     "output_type": "execute_result"
    },
    {
     "data": {
      "image/png": "[encoded data removed]",
      "text/plain": [
       "<Figure size 432x288 with 1 Axes>"
      ]
     },
     "metadata": {
      "needs_background": "light"
     },
     "output_type": "display_data"
    }
   ],
   "source": [
    "sns.barplot(data=species_count, x='species', y='count')"
   ]
  },
  {
   "cell_type": "code",
   "execution_count": 159,
   "metadata": {},
   "outputs": [
    {
     "data": {
      "text/html": [
       "<div>\n",
       "<style scoped>\n",
       "    .dataframe tbody tr th:only-of-type {\n",
       "        vertical-align: middle;\n",
       "    }\n",
       "\n",
       "    .dataframe tbody tr th {\n",
       "        vertical-align: top;\n",
       "    }\n",
       "\n",
       "    .dataframe thead th {\n",
       "        text-align: right;\n",
       "    }\n",
       "</style>\n",
       "<table border=\"1\" class=\"dataframe\">\n",
       "  <thead>\n",
       "    <tr style=\"text-align: right;\">\n",
       "      <th></th>\n",
       "      <th>Motorway</th>\n",
       "      <th>Green frogs</th>\n",
       "      <th>Brown frogs</th>\n",
       "      <th>Common toad</th>\n",
       "      <th>Fire-bellied toad</th>\n",
       "      <th>Tree frog</th>\n",
       "      <th>Common newt</th>\n",
       "      <th>Great crested newt</th>\n",
       "    </tr>\n",
       "  </thead>\n",
       "  <tbody>\n",
       "    <tr>\n",
       "      <th>0</th>\n",
       "      <td>A1</td>\n",
       "      <td>39</td>\n",
       "      <td>50</td>\n",
       "      <td>49</td>\n",
       "      <td>17</td>\n",
       "      <td>23</td>\n",
       "      <td>13</td>\n",
       "      <td>5</td>\n",
       "    </tr>\n",
       "    <tr>\n",
       "      <th>1</th>\n",
       "      <td>S52</td>\n",
       "      <td>69</td>\n",
       "      <td>98</td>\n",
       "      <td>75</td>\n",
       "      <td>41</td>\n",
       "      <td>48</td>\n",
       "      <td>45</td>\n",
       "      <td>16</td>\n",
       "    </tr>\n",
       "  </tbody>\n",
       "</table>\n",
       "</div>"
      ],
      "text/plain": [
       "  Motorway  Green frogs  Brown frogs  Common toad  Fire-bellied toad  \\\n",
       "0       A1           39           50           49                 17   \n",
       "1      S52           69           98           75                 41   \n",
       "\n",
       "   Tree frog  Common newt  Great crested newt  \n",
       "0         23           13                   5  \n",
       "1         48           45                  16  "
      ]
     },
     "execution_count": 159,
     "metadata": {},
     "output_type": "execute_result"
    }
   ],
   "source": [
    "species_count_motorway.reset_index(inplace=True)\n",
    "species_count_motorway"
   ]
  },
  {
   "cell_type": "code",
   "execution_count": 160,
   "metadata": {},
   "outputs": [
    {
     "data": {
      "text/plain": [
       "<seaborn.axisgrid.FacetGrid at 0x7f9f796a04c0>"
      ]
     },
     "execution_count": 160,
     "metadata": {},
     "output_type": "execute_result"
    },
    {
     "data": {
      "image/png": "[encoded data removed]",
      "text/plain": [
       "<Figure size 720x360 with 2 Axes>"
      ]
     },
     "metadata": {
      "needs_background": "light"
     },
     "output_type": "display_data"
    }
   ],
   "source": [
    "sns.catplot(data=species_count_motorway, kind='bar', col='Motorway')"
   ]
  },
  {
   "cell_type": "code",
   "execution_count": 161,
   "metadata": {},
   "outputs": [
    {
     "data": {
      "text/html": [
       "<div>\n",
       "<style scoped>\n",
       "    .dataframe tbody tr th:only-of-type {\n",
       "        vertical-align: middle;\n",
       "    }\n",
       "\n",
       "    .dataframe tbody tr th {\n",
       "        vertical-align: top;\n",
       "    }\n",
       "\n",
       "    .dataframe thead th {\n",
       "        text-align: right;\n",
       "    }\n",
       "</style>\n",
       "<table border=\"1\" class=\"dataframe\">\n",
       "  <thead>\n",
       "    <tr style=\"text-align: right;\">\n",
       "      <th></th>\n",
       "      <th>species_present</th>\n",
       "    </tr>\n",
       "    <tr>\n",
       "      <th>ID</th>\n",
       "      <th></th>\n",
       "    </tr>\n",
       "  </thead>\n",
       "  <tbody>\n",
       "    <tr>\n",
       "      <th>1</th>\n",
       "      <td>0</td>\n",
       "    </tr>\n",
       "    <tr>\n",
       "      <th>6</th>\n",
       "      <td>0</td>\n",
       "    </tr>\n",
       "    <tr>\n",
       "      <th>125</th>\n",
       "      <td>0</td>\n",
       "    </tr>\n",
       "    <tr>\n",
       "      <th>129</th>\n",
       "      <td>0</td>\n",
       "    </tr>\n",
       "    <tr>\n",
       "      <th>132</th>\n",
       "      <td>0</td>\n",
       "    </tr>\n",
       "    <tr>\n",
       "      <th>179</th>\n",
       "      <td>0</td>\n",
       "    </tr>\n",
       "  </tbody>\n",
       "</table>\n",
       "</div>"
      ],
      "text/plain": [
       "     species_present\n",
       "ID                  \n",
       "1                  0\n",
       "6                  0\n",
       "125                0\n",
       "129                0\n",
       "132                0\n",
       "179                0"
      ]
     },
     "execution_count": 161,
     "metadata": {},
     "output_type": "execute_result"
    }
   ],
   "source": [
    "# Are there any observations with no species present?\n",
    "frogs_per_observation = amphibians[species].sum(axis=1).to_frame('species_present')\n",
    "frogs_per_observation[frogs_per_observation['species_present'] == 0]"
   ]
  },
  {
   "cell_type": "markdown",
   "metadata": {},
   "source": [
    "There are 6 observations where there were no observations any species of amphibians"
   ]
  },
  {
   "cell_type": "code",
   "execution_count": 162,
   "metadata": {},
   "outputs": [],
   "source": [
    "# Check whether the data is ordered by splitting the data in half and comparing the locations where the data came from\n",
    "first_half, second_half = train_test_split(amphibians, test_size=0.5, random_state=42)"
   ]
  },
  {
   "cell_type": "code",
   "execution_count": 163,
   "metadata": {},
   "outputs": [
    {
     "data": {
      "text/plain": [
       "Text(0.5, 1.0, 'Second Half of Data')"
      ]
     },
     "execution_count": 163,
     "metadata": {},
     "output_type": "execute_result"
    },
    {
     "data": {
      "image/png": "[encoded data removed]",
      "text/plain": [
       "<Figure size 432x288 with 2 Axes>"
      ]
     },
     "metadata": {
      "needs_background": "light"
     },
     "output_type": "display_data"
    }
   ],
   "source": [
    "fig, ax = plt.subplots(1, 2)\n",
    "fig.subplots_adjust(hspace=0.4, wspace=0.4)\n",
    "sns.countplot(ax=ax[0],data=first_half, x='Motorway')\n",
    "sns.countplot(ax=ax[1],data=second_half, x='Motorway')\n",
    "ax[0].set_title('First Half of Data')\n",
    "ax[1].set_title('Second Half of Data')"
   ]
  },
  {
   "cell_type": "markdown",
   "metadata": {},
   "source": [
    "The observations are organized according to the location from where the data was collected (Motorway A1 or S52). We will need to shuffle the data before splitting it so that the model works well for any motorway. \n",
    "\n",
    "Note: Need to revisit this split to check if the labels are equally distributed between sets"
   ]
  },
  {
   "cell_type": "code",
   "execution_count": 164,
   "metadata": {},
   "outputs": [],
   "source": [
    "# Drop the Motorway column from the dataset as this is not used \n",
    "amphibians = amphibians.drop(columns='Motorway')"
   ]
  },
  {
   "cell_type": "code",
   "execution_count": 168,
   "metadata": {},
   "outputs": [],
   "source": [
    "# Split the data into features and target\n",
    "amphibians_feat = amphibians.drop(species, axis=1)"
   ]
  },
  {
   "cell_type": "markdown",
   "metadata": {},
   "source": [
    "### First Model"
   ]
  },
  {
   "cell_type": "markdown",
   "metadata": {},
   "source": [
    "Let's try to build a model with only the numeric features. "
   ]
  },
  {
   "cell_type": "code",
   "execution_count": 169,
   "metadata": {},
   "outputs": [],
   "source": [
    "numeric_feat = amphibians_feat[['SR', 'NR']]"
   ]
  },
  {
   "cell_type": "code",
   "execution_count": 170,
   "metadata": {},
   "outputs": [],
   "source": [
    "# Shuffle and split the data into train, test and validations sets\n",
    "X_train, X_test, y_train, y_test = train_test_split(numeric_feat, amphibians[species], test_size=0.15, random_state=42, shuffle=True)\n",
    "X_train, X_validation, y_train, y_validation = train_test_split(X_train, y_train, test_size=0.15, random_state=42, shuffle=True)"
   ]
  },
  {
   "cell_type": "code",
   "execution_count": 172,
   "metadata": {},
   "outputs": [],
   "source": [
    "from sklearn.neighbors import KNeighborsClassifier"
   ]
  },
  {
   "cell_type": "code",
   "execution_count": 174,
   "metadata": {},
   "outputs": [
    {
     "data": {
      "text/plain": [
       "KNeighborsClassifier()"
      ]
     },
     "execution_count": 174,
     "metadata": {},
     "output_type": "execute_result"
    }
   ],
   "source": [
    "knn_clf = KNeighborsClassifier()\n",
    "knn_clf.fit(X_train, y_train)"
   ]
  },
  {
   "cell_type": "code",
   "execution_count": 180,
   "metadata": {},
   "outputs": [
    {
     "data": {
      "text/plain": [
       "array([[0, 0, 0, 0, 0, 0, 0]])"
      ]
     },
     "execution_count": 180,
     "metadata": {},
     "output_type": "execute_result"
    }
   ],
   "source": [
    "knn_clf.predict(np.array([600, 1]).reshape(1,-1))"
   ]
  },
  {
   "cell_type": "code",
   "execution_count": 176,
   "metadata": {},
   "outputs": [
    {
     "data": {
      "text/plain": [
       "array([600,   1])"
      ]
     },
     "execution_count": 176,
     "metadata": {},
     "output_type": "execute_result"
    }
   ],
   "source": [
    "np.array([600,1])"
   ]
  },
  {
   "cell_type": "code",
   "execution_count": null,
   "metadata": {},
   "outputs": [],
   "source": []
  }
 ],
 "metadata": {
  "kernelspec": {
   "display_name": "Python 3",
   "language": "python",
   "name": "python3"
  },
  "language_info": {
   "codemirror_mode": {
    "name": "ipython",
    "version": 3
   },
   "file_extension": ".py",
   "mimetype": "text/x-python",
   "name": "python",
   "nbconvert_exporter": "python",
   "pygments_lexer": "ipython3",
   "version": "3.8.5"
  }
 },
 "nbformat": 4,
 "nbformat_minor": 4
}
