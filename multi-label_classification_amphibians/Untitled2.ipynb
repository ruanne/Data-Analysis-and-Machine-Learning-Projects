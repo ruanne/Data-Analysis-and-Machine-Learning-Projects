{
 "cells": [
  {
   "cell_type": "markdown",
   "id": "dominant-abortion",
   "metadata": {},
   "source": [
    "<cite data-cite=\"lewinson\">(Lewinson, 2013)</cite>"
   ]
  },
  {
   "cell_type": "code",
   "execution_count": null,
   "id": "ongoing-master",
   "metadata": {},
   "outputs": [],
   "source": []
  }
 ],
 "metadata": {
  "kernelspec": {
   "display_name": "Python 3",
   "language": "python",
   "name": "python3"
  },
  "language_info": {
   "codemirror_mode": {
    "name": "ipython",
    "version": 3
   },
   "file_extension": ".py",
   "mimetype": "text/x-python",
   "name": "python",
   "nbconvert_exporter": "python",
   "pygments_lexer": "ipython3",
   "version": "3.8.5"
  }
 },
 "nbformat": 4,
 "nbformat_minor": 5
}
