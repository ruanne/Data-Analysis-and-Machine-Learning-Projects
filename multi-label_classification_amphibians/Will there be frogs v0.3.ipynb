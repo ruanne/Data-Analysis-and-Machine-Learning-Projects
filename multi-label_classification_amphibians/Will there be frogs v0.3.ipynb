{
 "cells": [
  {
   "cell_type": "markdown",
   "metadata": {},
   "source": [
    "# Predictive model to aid environmental impact assessments\n",
    "## The development and evaluation of a model to predict the presence of amphibians using features obtained from a GIS and Satellite Images"
   ]
  },
  {
   "cell_type": "markdown",
   "metadata": {},
   "source": [
    "## Table of Contents\n",
    "1. [Introduction](#Introduction)\n",
    "2. [Problem Definition](#Problem_Definition)\n",
    "3. [Data](#Data)\n",
    "4. [Problem Approach](#Problem_Approach)\n",
    "5. [Data Management](#Data_Management)\n",
    "6. [Model Development](#Model_Development)\n",
    "7. [Comparison of Results](#Comparison_of_results)\n",
    "8. [Conclusion and Recommendations](#Conclusion_and_Recommendations)"
   ]
  },
  {
   "cell_type": "markdown",
   "metadata": {},
   "source": [
    "<a id='Introduction'></a>"
   ]
  },
  {
   "cell_type": "markdown",
   "metadata": {},
   "source": [
    "## Introduction\n",
    "\n",
    "An environmental impact assessment (EIA) is one of the tools being used worldwide to provide decision-makers and the concerned public with essential information to plan for environmentally sustainable economic development [1]. The goal of economic development is to invest in projects or programmes - such as the construction of mines, reservoirs, highways and housing to enhance the prosperity and quality of life of all residents. Sustainable economic development aims to find a compromise between economic development and environmental protection. \n",
    "\n",
    "The responsible development of spaces requires an assessment of the value of natural spaces. Spaces with low natural value can be developed as investments. <b>The presence of amphibians (frogs, toads and salamanders) in natural spaces contributes to the value of natural spaces</b>. Amphibians are a critical part of nature as both predator and prey. They eat insect pests which a is benefit to argriculture and help control mosquitos which benefits human health. They're are one of the main links in many ecosystem food webs [2]. \n",
    "\n",
    "Amphibians are almost entirely dependent on water for reproduction. Their eggs have no water-proof covering and their larvae (tadpoles) are quite fish like. Amphibians also tend to return to the same water reservoir where they were born to breed. They also have a land habitat on which they depend to feed, hide and survive winter. \n",
    "\n",
    "As part of an EIA, field work is required to estimate amphibian populations in and near water reservoirs where economic development projects are planned. Determining the contribution of amphibian populations to the value of a natural space is difficult for several reasons. In the case of road infrastructure projects, the area that needs to be assessed can be very large. Certain areas of the terrain can be difficult to reach. The number of people available to do field work can be limited. <b>An initial assessment of the natural space could help to better plan field work which should result in times and cost savings. </b>This all contributed to helping reduce the underestimation of amphibian populations and thus the valued of the natural space. \n",
    "\n",
    "A geographic information system (GIS) can provide information about the habitats of amphibians. A GIS integrates many different kinds of information [3]. It can include information about landscape, such as the location of stream, different kinds of vegetation, and different kinds of soil. It can also include information about the sites of factories, farms, schools and houses. [4] <b>As amphibians are highly dependant on their habitat, the assessment of their habitats using features obtained from a GIS, can potentially be used to predict their presence.</b>  "
   ]
  },
  {
   "cell_type": "markdown",
   "metadata": {},
   "source": [
    "- [1] https://www.sciencedirect.com/science/article/pii/B9780444595591000189 \n",
    "- [2] https://www.endangeredspeciesinternational.org/amphibians6.html\n",
    "- [3] https://www.esri.com/en-us/what-is-gis/overview\n",
    "- [4] https://www.nationalgeographic.org/encyclopedia/geographic-information-system-gis/#:~:text=GIS%20can%20use%20any%20information,compared%20and%20contrasted%20using%20GIS."
   ]
  },
  {
   "cell_type": "markdown",
   "metadata": {},
   "source": [
    "## The Dataset\n",
    "\n",
    "The data used in this project can be obtained from the [UCI Machine Learning Repository](https://archive.ics.uci.edu/ml/datasets/Amphibians). The data was derived from GIS and sattelite images, as well as from information gathered about the size of amphibians populations that formed part of EIA reports for two planned road projects (Road A and Road B) in Poland. \n",
    "\n",
    "Marcin Blachnik, Marek SoÅ‚tysiak, Dominika DÄ…browska Predicting presence of amphibian species using features obtained from GIS and satellite images. ISPRS International Journal of Geo-Information 8 (3) pp. 123. MDPI. 2019\n",
    "\n",
    "### Data Description\n",
    "The data consists of 15 input variables and a <b>multi-label target</b> variable with 7 possible values indicating the presence of a certain type of frog. \n",
    "\n",
    "#### Attribute Information\n",
    "\n",
    "##### Features\n",
    "\n",
    "|            |Description                           |Type       |\n",
    "|------------|--------------------------------------|-----------|\n",
    "|MV          |Motorway                              |categorical|\n",
    "|SR          |Surface of water reservoir (m2)       |numerical  |\n",
    "|NR          |Number of water reservoirs in habitat |numerical  |\n",
    "|TR          |                                      |categorical|\n",
    "|VR          |                                      |categorical|\n",
    "|SUR1        |                                      |categorical|\n",
    "|SUR2        |                                      |categorical|\n",
    "|SUR3        |                                      |categorical|\n",
    "|UR          |                                      |categorical|\n",
    "|FR          |                                      |categorical|\n",
    "|OR          |                                      |categorical|\n",
    "|RR          |                                      |ordinal    |\n",
    "|BR          |                                      |ordinal    |\n",
    "|MR          |                                      |categorical|\n",
    "|CR          |                                      |categorical|\n",
    "\n",
    "##### Target\n",
    "\n",
    "|            |Description                       |\n",
    "|------------|----------------------------------|\n",
    "|Label 1     |The presence of Green frogs       |\n",
    "|Label 2     |The presence of Brown frogs       | \n",
    "|Label 3     |The presence of Common toad       |\n",
    "|Label 4     |The presence of Fire-bellied toad |\n",
    "|Label 5     |The presence of Tree frog         |\n",
    "|Label 6     |The presence of Common newt       |\n",
    "|Label 7     |The presence of Great Crested newt|"
   ]
  },
  {
   "cell_type": "markdown",
   "metadata": {},
   "source": [
    "### Problem Statement\n",
    "\n",
    "Ideally, the estimation of amphibian populations that forms part of an environmental impact assessment should be completed in the most cost effective manner without underestimation. In reality, the field work required to estimate amphibian populations can be very difficult and time consuming as a result of the terrain conditions and the vast terrain that needs to be assessed. Underestimation can lead to an underevaluation of natural spaces where road infrastructure or other economic development projects will happen. This can have devastating consequences on the future prosperity and quality of life of all natural beings. \n",
    "\n",
    "An initial estimate of amphibian populations in sub-locations of the field work study area can help to better plan the area of focus for the field work teams and aid the efficient allocation of resources. <b>This project aims to create a predictive model model, trained on features obtained from publically available GIS data and satellite images, to predict the presence of different species of frogs in study area sub-locations.</b>"
   ]
  },
  {
   "cell_type": "markdown",
   "metadata": {},
   "source": [
    "### Problem Approach\n",
    "This is a multi-label classification problem. This is not a multi-class classification problem as the classes are not mutually exclusive. Multiple species of amphibians can be found at a site. \n",
    "\n",
    "Two classification algorithms will be evaluated on dataset and the quality of these models will be assessed. For each algorithm, several models will be developed and the best prediction model will be used to compare the algorithms."
   ]
  },
  {
   "cell_type": "markdown",
   "metadata": {},
   "source": [
    "### Performance Metrics\n",
    "\n",
    "@ruanne discuss metrics that could be used to evaluate classification and multi-label classification. \n",
    "\n",
    "The area under the receiver operating characteristic curve (AUC) will be used to evaluate the quality of the models. A perfect classifier will have a ROC AUC equal to 1, whereas a purely random classifier will have a ROC AUC equal to 0.5"
   ]
  },
  {
   "cell_type": "markdown",
   "metadata": {},
   "source": [
    "### Exploratory Data Analysis"
   ]
  },
  {
   "cell_type": "code",
   "execution_count": 180,
   "metadata": {},
   "outputs": [],
   "source": [
    "import pandas as pd\n",
    "import matplotlib.pyplot as plt\n",
    "import seaborn as sns\n",
    "import numpy as np\n",
    "from sklearn.model_selection import train_test_split\n",
    "\n",
    "%matplotlib inline"
   ]
  },
  {
   "cell_type": "markdown",
   "metadata": {},
   "source": [
    "The data for both road projects is contained in a single csv file. The repository claims that there are no missing values. "
   ]
  },
  {
   "cell_type": "code",
   "execution_count": 181,
   "metadata": {},
   "outputs": [
    {
     "data": {
      "text/html": [
       "<div>\n",
       "<style scoped>\n",
       "    .dataframe tbody tr th:only-of-type {\n",
       "        vertical-align: middle;\n",
       "    }\n",
       "\n",
       "    .dataframe tbody tr th {\n",
       "        vertical-align: top;\n",
       "    }\n",
       "\n",
       "    .dataframe thead th {\n",
       "        text-align: right;\n",
       "    }\n",
       "</style>\n",
       "<table border=\"1\" class=\"dataframe\">\n",
       "  <thead>\n",
       "    <tr style=\"text-align: right;\">\n",
       "      <th></th>\n",
       "      <th>Motorway</th>\n",
       "      <th>SR</th>\n",
       "      <th>NR</th>\n",
       "      <th>TR</th>\n",
       "      <th>VR</th>\n",
       "      <th>SUR1</th>\n",
       "      <th>SUR2</th>\n",
       "      <th>SUR3</th>\n",
       "      <th>UR</th>\n",
       "      <th>FR</th>\n",
       "      <th>...</th>\n",
       "      <th>BR</th>\n",
       "      <th>MR</th>\n",
       "      <th>CR</th>\n",
       "      <th>Green frogs</th>\n",
       "      <th>Brown frogs</th>\n",
       "      <th>Common toad</th>\n",
       "      <th>Fire-bellied toad</th>\n",
       "      <th>Tree frog</th>\n",
       "      <th>Common newt</th>\n",
       "      <th>Great crested newt</th>\n",
       "    </tr>\n",
       "    <tr>\n",
       "      <th>ID</th>\n",
       "      <th></th>\n",
       "      <th></th>\n",
       "      <th></th>\n",
       "      <th></th>\n",
       "      <th></th>\n",
       "      <th></th>\n",
       "      <th></th>\n",
       "      <th></th>\n",
       "      <th></th>\n",
       "      <th></th>\n",
       "      <th></th>\n",
       "      <th></th>\n",
       "      <th></th>\n",
       "      <th></th>\n",
       "      <th></th>\n",
       "      <th></th>\n",
       "      <th></th>\n",
       "      <th></th>\n",
       "      <th></th>\n",
       "      <th></th>\n",
       "      <th></th>\n",
       "    </tr>\n",
       "  </thead>\n",
       "  <tbody>\n",
       "    <tr>\n",
       "      <th>1</th>\n",
       "      <td>A1</td>\n",
       "      <td>600</td>\n",
       "      <td>1</td>\n",
       "      <td>1</td>\n",
       "      <td>4</td>\n",
       "      <td>6</td>\n",
       "      <td>2</td>\n",
       "      <td>10</td>\n",
       "      <td>0</td>\n",
       "      <td>0</td>\n",
       "      <td>...</td>\n",
       "      <td>0</td>\n",
       "      <td>0</td>\n",
       "      <td>1</td>\n",
       "      <td>0</td>\n",
       "      <td>0</td>\n",
       "      <td>0</td>\n",
       "      <td>0</td>\n",
       "      <td>0</td>\n",
       "      <td>0</td>\n",
       "      <td>0</td>\n",
       "    </tr>\n",
       "    <tr>\n",
       "      <th>2</th>\n",
       "      <td>A1</td>\n",
       "      <td>700</td>\n",
       "      <td>1</td>\n",
       "      <td>5</td>\n",
       "      <td>1</td>\n",
       "      <td>10</td>\n",
       "      <td>6</td>\n",
       "      <td>10</td>\n",
       "      <td>3</td>\n",
       "      <td>1</td>\n",
       "      <td>...</td>\n",
       "      <td>1</td>\n",
       "      <td>0</td>\n",
       "      <td>1</td>\n",
       "      <td>0</td>\n",
       "      <td>1</td>\n",
       "      <td>1</td>\n",
       "      <td>0</td>\n",
       "      <td>0</td>\n",
       "      <td>1</td>\n",
       "      <td>0</td>\n",
       "    </tr>\n",
       "    <tr>\n",
       "      <th>3</th>\n",
       "      <td>A1</td>\n",
       "      <td>200</td>\n",
       "      <td>1</td>\n",
       "      <td>5</td>\n",
       "      <td>1</td>\n",
       "      <td>10</td>\n",
       "      <td>6</td>\n",
       "      <td>10</td>\n",
       "      <td>3</td>\n",
       "      <td>4</td>\n",
       "      <td>...</td>\n",
       "      <td>1</td>\n",
       "      <td>0</td>\n",
       "      <td>1</td>\n",
       "      <td>0</td>\n",
       "      <td>1</td>\n",
       "      <td>1</td>\n",
       "      <td>0</td>\n",
       "      <td>0</td>\n",
       "      <td>1</td>\n",
       "      <td>0</td>\n",
       "    </tr>\n",
       "    <tr>\n",
       "      <th>4</th>\n",
       "      <td>A1</td>\n",
       "      <td>300</td>\n",
       "      <td>1</td>\n",
       "      <td>5</td>\n",
       "      <td>0</td>\n",
       "      <td>6</td>\n",
       "      <td>10</td>\n",
       "      <td>2</td>\n",
       "      <td>3</td>\n",
       "      <td>4</td>\n",
       "      <td>...</td>\n",
       "      <td>0</td>\n",
       "      <td>0</td>\n",
       "      <td>1</td>\n",
       "      <td>0</td>\n",
       "      <td>0</td>\n",
       "      <td>1</td>\n",
       "      <td>0</td>\n",
       "      <td>0</td>\n",
       "      <td>0</td>\n",
       "      <td>0</td>\n",
       "    </tr>\n",
       "    <tr>\n",
       "      <th>5</th>\n",
       "      <td>A1</td>\n",
       "      <td>600</td>\n",
       "      <td>2</td>\n",
       "      <td>1</td>\n",
       "      <td>4</td>\n",
       "      <td>10</td>\n",
       "      <td>2</td>\n",
       "      <td>6</td>\n",
       "      <td>0</td>\n",
       "      <td>0</td>\n",
       "      <td>...</td>\n",
       "      <td>5</td>\n",
       "      <td>0</td>\n",
       "      <td>1</td>\n",
       "      <td>0</td>\n",
       "      <td>1</td>\n",
       "      <td>1</td>\n",
       "      <td>1</td>\n",
       "      <td>0</td>\n",
       "      <td>1</td>\n",
       "      <td>1</td>\n",
       "    </tr>\n",
       "  </tbody>\n",
       "</table>\n",
       "<p>5 rows × 22 columns</p>\n",
       "</div>"
      ],
      "text/plain": [
       "   Motorway   SR  NR  TR  VR  SUR1  SUR2  SUR3  UR  FR  ...  BR  MR  CR  \\\n",
       "ID                                                      ...               \n",
       "1        A1  600   1   1   4     6     2    10   0   0  ...   0   0   1   \n",
       "2        A1  700   1   5   1    10     6    10   3   1  ...   1   0   1   \n",
       "3        A1  200   1   5   1    10     6    10   3   4  ...   1   0   1   \n",
       "4        A1  300   1   5   0     6    10     2   3   4  ...   0   0   1   \n",
       "5        A1  600   2   1   4    10     2     6   0   0  ...   5   0   1   \n",
       "\n",
       "    Green frogs  Brown frogs  Common toad  Fire-bellied toad  Tree frog  \\\n",
       "ID                                                                        \n",
       "1             0            0            0                  0          0   \n",
       "2             0            1            1                  0          0   \n",
       "3             0            1            1                  0          0   \n",
       "4             0            0            1                  0          0   \n",
       "5             0            1            1                  1          0   \n",
       "\n",
       "    Common newt  Great crested newt  \n",
       "ID                                   \n",
       "1             0                   0  \n",
       "2             1                   0  \n",
       "3             1                   0  \n",
       "4             0                   0  \n",
       "5             1                   1  \n",
       "\n",
       "[5 rows x 22 columns]"
      ]
     },
     "execution_count": 181,
     "metadata": {},
     "output_type": "execute_result"
    }
   ],
   "source": [
    "amphibians = pd.read_csv('amphibians.csv', sep=';', header=1, index_col='ID')\n",
    "amphibians.head()"
   ]
  },
  {
   "cell_type": "code",
   "execution_count": 182,
   "metadata": {},
   "outputs": [
    {
     "data": {
      "text/plain": [
       "Motorway              object\n",
       "SR                     int64\n",
       "NR                     int64\n",
       "TR                     int64\n",
       "VR                     int64\n",
       "SUR1                   int64\n",
       "SUR2                   int64\n",
       "SUR3                   int64\n",
       "UR                     int64\n",
       "FR                     int64\n",
       "OR                     int64\n",
       "RR                     int64\n",
       "BR                     int64\n",
       "MR                     int64\n",
       "CR                     int64\n",
       "Green frogs            int64\n",
       "Brown frogs            int64\n",
       "Common toad            int64\n",
       "Fire-bellied toad      int64\n",
       "Tree frog              int64\n",
       "Common newt            int64\n",
       "Great crested newt     int64\n",
       "dtype: object"
      ]
     },
     "execution_count": 182,
     "metadata": {},
     "output_type": "execute_result"
    }
   ],
   "source": [
    "amphibians.dtypes"
   ]
  },
  {
   "cell_type": "code",
   "execution_count": 183,
   "metadata": {},
   "outputs": [
    {
     "data": {
      "text/plain": [
       "Motorway              0\n",
       "SR                    0\n",
       "NR                    0\n",
       "TR                    0\n",
       "VR                    0\n",
       "SUR1                  0\n",
       "SUR2                  0\n",
       "SUR3                  0\n",
       "UR                    0\n",
       "FR                    0\n",
       "OR                    0\n",
       "RR                    0\n",
       "BR                    0\n",
       "MR                    0\n",
       "CR                    0\n",
       "Green frogs           0\n",
       "Brown frogs           0\n",
       "Common toad           0\n",
       "Fire-bellied toad     0\n",
       "Tree frog             0\n",
       "Common newt           0\n",
       "Great crested newt    0\n",
       "dtype: int64"
      ]
     },
     "execution_count": 183,
     "metadata": {},
     "output_type": "execute_result"
    }
   ],
   "source": [
    "# Check for missing values\n",
    "amphibians.isna().sum()"
   ]
  },
  {
   "cell_type": "code",
   "execution_count": 184,
   "metadata": {},
   "outputs": [
    {
     "data": {
      "text/plain": [
       "(189, 22)"
      ]
     },
     "execution_count": 184,
     "metadata": {},
     "output_type": "execute_result"
    }
   ],
   "source": [
    "# Determine the number of observations in the dataset\n",
    "amphibians.shape"
   ]
  },
  {
   "cell_type": "markdown",
   "metadata": {},
   "source": [
    "The dataset is quite small with only a 189 observations. A small dataset increases the risk of overfitting. \n",
    "\n",
    "The dataset will be split into train and test set. The train set will be further split into a train and validation set. "
   ]
  },
  {
   "cell_type": "code",
   "execution_count": 185,
   "metadata": {},
   "outputs": [],
   "source": [
    "# View the number of frogs per species\n",
    "species = ['Green frogs', 'Brown frogs', 'Common toad', 'Fire-bellied toad', 'Tree frog', 'Common newt', 'Great crested newt']\n",
    "species_count = amphibians[species].sum().to_frame('count').reset_index()\n",
    "# Group the values according to the motorway to determine if their are any differences between the two motorways\n",
    "species_count_motorway = amphibians.groupby('Motorway')[species].apply(lambda x : x.astype(int).sum())"
   ]
  },
  {
   "cell_type": "code",
   "execution_count": 186,
   "metadata": {},
   "outputs": [
    {
     "data": {
      "text/html": [
       "<div>\n",
       "<style scoped>\n",
       "    .dataframe tbody tr th:only-of-type {\n",
       "        vertical-align: middle;\n",
       "    }\n",
       "\n",
       "    .dataframe tbody tr th {\n",
       "        vertical-align: top;\n",
       "    }\n",
       "\n",
       "    .dataframe thead th {\n",
       "        text-align: right;\n",
       "    }\n",
       "</style>\n",
       "<table border=\"1\" class=\"dataframe\">\n",
       "  <thead>\n",
       "    <tr style=\"text-align: right;\">\n",
       "      <th></th>\n",
       "      <th>species</th>\n",
       "      <th>count</th>\n",
       "    </tr>\n",
       "  </thead>\n",
       "  <tbody>\n",
       "    <tr>\n",
       "      <th>6</th>\n",
       "      <td>Great crested newt</td>\n",
       "      <td>21</td>\n",
       "    </tr>\n",
       "    <tr>\n",
       "      <th>3</th>\n",
       "      <td>Fire-bellied toad</td>\n",
       "      <td>58</td>\n",
       "    </tr>\n",
       "    <tr>\n",
       "      <th>5</th>\n",
       "      <td>Common newt</td>\n",
       "      <td>58</td>\n",
       "    </tr>\n",
       "    <tr>\n",
       "      <th>4</th>\n",
       "      <td>Tree frog</td>\n",
       "      <td>71</td>\n",
       "    </tr>\n",
       "    <tr>\n",
       "      <th>0</th>\n",
       "      <td>Green frogs</td>\n",
       "      <td>108</td>\n",
       "    </tr>\n",
       "    <tr>\n",
       "      <th>2</th>\n",
       "      <td>Common toad</td>\n",
       "      <td>124</td>\n",
       "    </tr>\n",
       "    <tr>\n",
       "      <th>1</th>\n",
       "      <td>Brown frogs</td>\n",
       "      <td>148</td>\n",
       "    </tr>\n",
       "  </tbody>\n",
       "</table>\n",
       "</div>"
      ],
      "text/plain": [
       "              species  count\n",
       "6  Great crested newt     21\n",
       "3   Fire-bellied toad     58\n",
       "5         Common newt     58\n",
       "4           Tree frog     71\n",
       "0         Green frogs    108\n",
       "2         Common toad    124\n",
       "1         Brown frogs    148"
      ]
     },
     "execution_count": 186,
     "metadata": {},
     "output_type": "execute_result"
    }
   ],
   "source": [
    "species_count.columns = ['species', 'count']\n",
    "species_count = species_count.sort_values('count')\n",
    "species_count"
   ]
  },
  {
   "cell_type": "code",
   "execution_count": 187,
   "metadata": {},
   "outputs": [
    {
     "data": {
      "text/plain": [
       "Text(0.5, 1.0, 'The total number of occurences per species')"
      ]
     },
     "execution_count": 187,
     "metadata": {},
     "output_type": "execute_result"
    },
    {
     "data": {
      "image/png": "[encoded data removed]",
      "text/plain": [
       "<Figure size 432x288 with 1 Axes>"
      ]
     },
     "metadata": {
      "needs_background": "light"
     },
     "output_type": "display_data"
    }
   ],
   "source": [
    "sns.barplot(data=species_count, x='species', y='count')\n",
    "plt.xticks(rotation=30)\n",
    "plt.title('The total number of occurences per species')"
   ]
  },
  {
   "cell_type": "markdown",
   "metadata": {},
   "source": [
    "This figure shows the total number of occurences per species. Brown frogs were present in 148 of the sites observed, followed by common toads and green frogs. The Great Crested Newt was present at only 21 of the 189 sites observed. \n",
    "\n",
    "This a form of an unbalanced classification problem because some of the classes are underrepresented. "
   ]
  },
  {
   "cell_type": "code",
   "execution_count": 188,
   "metadata": {},
   "outputs": [
    {
     "data": {
      "text/html": [
       "<div>\n",
       "<style scoped>\n",
       "    .dataframe tbody tr th:only-of-type {\n",
       "        vertical-align: middle;\n",
       "    }\n",
       "\n",
       "    .dataframe tbody tr th {\n",
       "        vertical-align: top;\n",
       "    }\n",
       "\n",
       "    .dataframe thead th {\n",
       "        text-align: right;\n",
       "    }\n",
       "</style>\n",
       "<table border=\"1\" class=\"dataframe\">\n",
       "  <thead>\n",
       "    <tr style=\"text-align: right;\">\n",
       "      <th></th>\n",
       "      <th>Motorway</th>\n",
       "      <th>Green frogs</th>\n",
       "      <th>Brown frogs</th>\n",
       "      <th>Common toad</th>\n",
       "      <th>Fire-bellied toad</th>\n",
       "      <th>Tree frog</th>\n",
       "      <th>Common newt</th>\n",
       "      <th>Great crested newt</th>\n",
       "    </tr>\n",
       "  </thead>\n",
       "  <tbody>\n",
       "    <tr>\n",
       "      <th>0</th>\n",
       "      <td>A1</td>\n",
       "      <td>39</td>\n",
       "      <td>50</td>\n",
       "      <td>49</td>\n",
       "      <td>17</td>\n",
       "      <td>23</td>\n",
       "      <td>13</td>\n",
       "      <td>5</td>\n",
       "    </tr>\n",
       "    <tr>\n",
       "      <th>1</th>\n",
       "      <td>S52</td>\n",
       "      <td>69</td>\n",
       "      <td>98</td>\n",
       "      <td>75</td>\n",
       "      <td>41</td>\n",
       "      <td>48</td>\n",
       "      <td>45</td>\n",
       "      <td>16</td>\n",
       "    </tr>\n",
       "  </tbody>\n",
       "</table>\n",
       "</div>"
      ],
      "text/plain": [
       "  Motorway  Green frogs  Brown frogs  Common toad  Fire-bellied toad  \\\n",
       "0       A1           39           50           49                 17   \n",
       "1      S52           69           98           75                 41   \n",
       "\n",
       "   Tree frog  Common newt  Great crested newt  \n",
       "0         23           13                   5  \n",
       "1         48           45                  16  "
      ]
     },
     "execution_count": 188,
     "metadata": {},
     "output_type": "execute_result"
    }
   ],
   "source": [
    "species_count_motorway.reset_index(inplace=True)\n",
    "species_count_motorway"
   ]
  },
  {
   "cell_type": "code",
   "execution_count": 189,
   "metadata": {},
   "outputs": [
    {
     "data": {
      "text/plain": [
       "<seaborn.axisgrid.FacetGrid at 0x7fe848087c10>"
      ]
     },
     "execution_count": 189,
     "metadata": {},
     "output_type": "execute_result"
    },
    {
     "data": {
      "image/png": "[encoded data removed]",
      "text/plain": [
       "<Figure size 720x360 with 2 Axes>"
      ]
     },
     "metadata": {
      "needs_background": "light"
     },
     "output_type": "display_data"
    }
   ],
   "source": [
    "g = sns.catplot(data=species_count_motorway, kind='bar', col='Motorway')\n",
    "g.set_xticklabels(rotation=30)\n",
    "g.set_axis_labels(\"Species\", \"Count\")"
   ]
  },
  {
   "cell_type": "markdown",
   "metadata": {},
   "source": [
    "The figure above shows that is no real difference between the motorways where the data was collected. The relatively rarer species are Common toads, Fire-bellied toad, Tree frog, Common Newt and Great crested newts. "
   ]
  },
  {
   "cell_type": "code",
   "execution_count": 190,
   "metadata": {},
   "outputs": [
    {
     "data": {
      "text/html": [
       "<div>\n",
       "<style scoped>\n",
       "    .dataframe tbody tr th:only-of-type {\n",
       "        vertical-align: middle;\n",
       "    }\n",
       "\n",
       "    .dataframe tbody tr th {\n",
       "        vertical-align: top;\n",
       "    }\n",
       "\n",
       "    .dataframe thead th {\n",
       "        text-align: right;\n",
       "    }\n",
       "</style>\n",
       "<table border=\"1\" class=\"dataframe\">\n",
       "  <thead>\n",
       "    <tr style=\"text-align: right;\">\n",
       "      <th></th>\n",
       "      <th>species_present</th>\n",
       "    </tr>\n",
       "    <tr>\n",
       "      <th>ID</th>\n",
       "      <th></th>\n",
       "    </tr>\n",
       "  </thead>\n",
       "  <tbody>\n",
       "    <tr>\n",
       "      <th>1</th>\n",
       "      <td>0</td>\n",
       "    </tr>\n",
       "    <tr>\n",
       "      <th>6</th>\n",
       "      <td>0</td>\n",
       "    </tr>\n",
       "    <tr>\n",
       "      <th>125</th>\n",
       "      <td>0</td>\n",
       "    </tr>\n",
       "    <tr>\n",
       "      <th>129</th>\n",
       "      <td>0</td>\n",
       "    </tr>\n",
       "    <tr>\n",
       "      <th>132</th>\n",
       "      <td>0</td>\n",
       "    </tr>\n",
       "    <tr>\n",
       "      <th>179</th>\n",
       "      <td>0</td>\n",
       "    </tr>\n",
       "  </tbody>\n",
       "</table>\n",
       "</div>"
      ],
      "text/plain": [
       "     species_present\n",
       "ID                  \n",
       "1                  0\n",
       "6                  0\n",
       "125                0\n",
       "129                0\n",
       "132                0\n",
       "179                0"
      ]
     },
     "execution_count": 190,
     "metadata": {},
     "output_type": "execute_result"
    }
   ],
   "source": [
    "# Are there any observations with no species present?\n",
    "frogs_per_observation = amphibians[species].sum(axis=1).to_frame('species_present')\n",
    "frogs_per_observation[frogs_per_observation['species_present'] == 0]"
   ]
  },
  {
   "cell_type": "markdown",
   "metadata": {},
   "source": [
    "There are 6 observations where there were no observations any species of amphibians"
   ]
  },
  {
   "cell_type": "code",
   "execution_count": 191,
   "metadata": {},
   "outputs": [],
   "source": [
    "# Check whether the data is ordered by splitting the data in half and comparing the locations where the data came from\n",
    "first_half, second_half = train_test_split(amphibians, test_size=0.5, random_state=42)"
   ]
  },
  {
   "cell_type": "code",
   "execution_count": 192,
   "metadata": {},
   "outputs": [
    {
     "data": {
      "text/plain": [
       "Text(0.5, 1.0, 'Second Half of Data')"
      ]
     },
     "execution_count": 192,
     "metadata": {},
     "output_type": "execute_result"
    },
    {
     "data": {
      "image/png": "[encoded data removed]",
      "text/plain": [
       "<Figure size 432x288 with 2 Axes>"
      ]
     },
     "metadata": {
      "needs_background": "light"
     },
     "output_type": "display_data"
    }
   ],
   "source": [
    "fig, ax = plt.subplots(1, 2)\n",
    "fig.subplots_adjust(hspace=0.4, wspace=0.4)\n",
    "sns.countplot(ax=ax[0],data=first_half, x='Motorway')\n",
    "sns.countplot(ax=ax[1],data=second_half, x='Motorway')\n",
    "ax[0].set_title('First Half of Data')\n",
    "ax[1].set_title('Second Half of Data')"
   ]
  },
  {
   "cell_type": "markdown",
   "metadata": {},
   "source": [
    "The observations are organized according to the location from where the data was collected (Motorway A1 or S52). We will need to shuffle the data before splitting it so that the model works well for any motorway. \n",
    "\n",
    "Note: Need to revisit this split to check if the labels are equally distributed between sets"
   ]
  },
  {
   "cell_type": "markdown",
   "metadata": {},
   "source": [
    "### Exploration of the categorical variables"
   ]
  },
  {
   "cell_type": "markdown",
   "metadata": {},
   "source": [
    "#### TR - Type of water reservoirs\n",
    "\n",
    "According to the dictionary, there 10 unique values for this variable"
   ]
  },
  {
   "cell_type": "code",
   "execution_count": 193,
   "metadata": {},
   "outputs": [
    {
     "data": {
      "text/plain": [
       "1     116\n",
       "2       4\n",
       "5      12\n",
       "7       1\n",
       "11      4\n",
       "12     23\n",
       "14     10\n",
       "15     19\n",
       "Name: TR, dtype: int64"
      ]
     },
     "execution_count": 193,
     "metadata": {},
     "output_type": "execute_result"
    }
   ],
   "source": [
    "amphibians['TR'].value_counts().sort_index()"
   ]
  },
  {
   "cell_type": "code",
   "execution_count": 194,
   "metadata": {},
   "outputs": [
    {
     "data": {
      "text/plain": [
       "Motorway  TR\n",
       "A1        1     48\n",
       "          2      3\n",
       "          5      9\n",
       "          11     4\n",
       "          12    12\n",
       "          14     3\n",
       "          15     1\n",
       "S52       1     68\n",
       "          2      1\n",
       "          5      3\n",
       "          7      1\n",
       "          12    11\n",
       "          14     7\n",
       "          15    18\n",
       "Name: TR, dtype: int64"
      ]
     },
     "execution_count": 194,
     "metadata": {},
     "output_type": "execute_result"
    }
   ],
   "source": [
    "amphibians.groupby('Motorway')['TR'].value_counts().sort_index()"
   ]
  },
  {
   "cell_type": "markdown",
   "metadata": {},
   "source": [
    "#### SUR1 - Surroundings 1\n",
    "\n",
    "According to the dictionary, there 9 unique values for this variable"
   ]
  },
  {
   "cell_type": "code",
   "execution_count": 195,
   "metadata": {},
   "outputs": [
    {
     "data": {
      "text/plain": [
       "1     43\n",
       "2     70\n",
       "4      1\n",
       "6     19\n",
       "7     20\n",
       "9      5\n",
       "10    30\n",
       "14     1\n",
       "Name: SUR1, dtype: int64"
      ]
     },
     "execution_count": 195,
     "metadata": {},
     "output_type": "execute_result"
    }
   ],
   "source": [
    "amphibians['SUR1'].value_counts().sort_index()"
   ]
  },
  {
   "cell_type": "markdown",
   "metadata": {},
   "source": [
    "There are levels of this category that are missing. "
   ]
  },
  {
   "cell_type": "markdown",
   "metadata": {},
   "source": [
    "### SUR2 - Surroundings 2¶\n",
    "\n",
    "According to the dictionary, there 9 unique values for this variable"
   ]
  },
  {
   "cell_type": "code",
   "execution_count": 196,
   "metadata": {},
   "outputs": [
    {
     "data": {
      "text/plain": [
       "1     36\n",
       "2     41\n",
       "6     39\n",
       "7     18\n",
       "9     10\n",
       "10    44\n",
       "11     1\n",
       "Name: SUR2, dtype: int64"
      ]
     },
     "execution_count": 196,
     "metadata": {},
     "output_type": "execute_result"
    }
   ],
   "source": [
    "amphibians['SUR2'].value_counts().sort_index()"
   ]
  },
  {
   "cell_type": "markdown",
   "metadata": {},
   "source": [
    "There are levels of this category that are missing. "
   ]
  },
  {
   "cell_type": "markdown",
   "metadata": {},
   "source": [
    "### SUR3 - Surroundings 3¶\n",
    "\n",
    "According to the dictionary, there 9 unique values for this variable"
   ]
  },
  {
   "cell_type": "code",
   "execution_count": 197,
   "metadata": {},
   "outputs": [
    {
     "data": {
      "text/plain": [
       "1     29\n",
       "2     29\n",
       "5      2\n",
       "6     55\n",
       "7     18\n",
       "9     10\n",
       "10    45\n",
       "11     1\n",
       "Name: SUR3, dtype: int64"
      ]
     },
     "execution_count": 197,
     "metadata": {},
     "output_type": "execute_result"
    }
   ],
   "source": [
    "amphibians['SUR3'].value_counts().sort_index()"
   ]
  },
  {
   "cell_type": "markdown",
   "metadata": {},
   "source": [
    "### CR - Type of shore"
   ]
  },
  {
   "cell_type": "code",
   "execution_count": 198,
   "metadata": {},
   "outputs": [
    {
     "data": {
      "text/plain": [
       "1    186\n",
       "2      3\n",
       "Name: CR, dtype: int64"
      ]
     },
     "execution_count": 198,
     "metadata": {},
     "output_type": "execute_result"
    }
   ],
   "source": [
    "amphibians['CR'].value_counts().sort_index()"
   ]
  },
  {
   "cell_type": "markdown",
   "metadata": {},
   "source": [
    "There are only 3 observations where the shore is concrete. Could it be strong feature for there won't be any amphibians? Or not informative at all?"
   ]
  },
  {
   "cell_type": "markdown",
   "metadata": {},
   "source": [
    "### VR - Intensity of vegetation development\n",
    "\n",
    "According to the dictionary, there should be 5 unique values for this variable"
   ]
  },
  {
   "cell_type": "code",
   "execution_count": 199,
   "metadata": {},
   "outputs": [
    {
     "data": {
      "text/plain": [
       "0    30\n",
       "1    55\n",
       "2    35\n",
       "3    41\n",
       "4    28\n",
       "Name: VR, dtype: int64"
      ]
     },
     "execution_count": 199,
     "metadata": {},
     "output_type": "execute_result"
    }
   ],
   "source": [
    "amphibians['VR'].value_counts().sort_index()"
   ]
  },
  {
   "cell_type": "markdown",
   "metadata": {},
   "source": [
    "All the levels of the variable appear in the dataset"
   ]
  },
  {
   "cell_type": "markdown",
   "metadata": {},
   "source": [
    "### MR - Maintenance status of the reservoir\n",
    "\n",
    "According to the dictionary, there should be 3 unique values for this variable\n",
    "\n",
    "Comment: Trash caused devastation of the reservoir ecosystem. Backfiling and leveling of water reservoirs with ground and debris should also be considered"
   ]
  },
  {
   "cell_type": "code",
   "execution_count": 200,
   "metadata": {},
   "outputs": [
    {
     "data": {
      "text/plain": [
       "0    184\n",
       "1      1\n",
       "2      4\n",
       "Name: MR, dtype: int64"
      ]
     },
     "execution_count": 200,
     "metadata": {},
     "output_type": "execute_result"
    }
   ],
   "source": [
    "amphibians['MR'].value_counts().sort_index()"
   ]
  },
  {
   "cell_type": "markdown",
   "metadata": {},
   "source": [
    "My gut says this feature won't be informative. "
   ]
  },
  {
   "cell_type": "markdown",
   "metadata": {},
   "source": [
    "### FR - The presence of fishing\n",
    "\n",
    "According to the dictionary, there should be 3 unique values for this variable"
   ]
  },
  {
   "cell_type": "code",
   "execution_count": 201,
   "metadata": {},
   "outputs": [
    {
     "data": {
      "text/plain": [
       "0    125\n",
       "1     16\n",
       "2     15\n",
       "3     18\n",
       "4     15\n",
       "Name: FR, dtype: int64"
      ]
     },
     "execution_count": 201,
     "metadata": {},
     "output_type": "execute_result"
    }
   ],
   "source": [
    "amphibians['FR'].value_counts().sort_index()"
   ]
  },
  {
   "cell_type": "markdown",
   "metadata": {},
   "source": [
    "There 5 levels of this variable in the dictionary. Check if data was collected differently for the two roads?"
   ]
  },
  {
   "cell_type": "code",
   "execution_count": 202,
   "metadata": {},
   "outputs": [
    {
     "data": {
      "text/plain": [
       "0     39\n",
       "1     62\n",
       "2     29\n",
       "5     46\n",
       "9      7\n",
       "10     6\n",
       "Name: BR, dtype: int64"
      ]
     },
     "execution_count": 202,
     "metadata": {},
     "output_type": "execute_result"
    }
   ],
   "source": [
    "amphibians['BR'].value_counts().sort_index()"
   ]
  },
  {
   "cell_type": "markdown",
   "metadata": {},
   "source": [
    "The BR or Building development variable indicated the minimum distance from a water reservoir to roads. \n",
    "The options according to the data dictionary are:\n",
    "<ol>\n",
    "    <li> less than 50 m </li>\n",
    "    <li> 50-100 m </li>\n",
    "    <li> 100-200 m </li>\n",
    "    <li> 200-500 m </li>\n",
    "    <li> 500-1000 m </li>\n",
    "    <li> >1000 m </li>\n",
    "</ol>"
   ]
  },
  {
   "cell_type": "code",
   "execution_count": 203,
   "metadata": {},
   "outputs": [
    {
     "data": {
      "text/plain": [
       "0     47\n",
       "1     50\n",
       "2     39\n",
       "5     42\n",
       "9      7\n",
       "10     4\n",
       "Name: RR, dtype: int64"
      ]
     },
     "execution_count": 203,
     "metadata": {},
     "output_type": "execute_result"
    }
   ],
   "source": [
    "amphibians['RR'].value_counts().sort_index()"
   ]
  },
  {
   "cell_type": "markdown",
   "metadata": {},
   "source": [
    "The RR or Road variable indicated the minimum distance from a water reservoir to roads. \n",
    "The options according to the data dictionary are:\n",
    "<ol>\n",
    "    <li> less than 50 m </li>\n",
    "    <li> 50-100 m </li>\n",
    "    <li> 100-200 m </li>\n",
    "    <li> 200-500 m </li>\n",
    "    <li> 500-1000 m </li>\n",
    "    <li> >1000 m </li>\n",
    "</ol>"
   ]
  },
  {
   "cell_type": "markdown",
   "metadata": {},
   "source": [
    "The values of the two ordinal variables does not correspond to the descriptions of the variables but there are also 6 unique values. "
   ]
  },
  {
   "cell_type": "markdown",
   "metadata": {},
   "source": [
    "### OR - Access from water table to land habitats\n",
    "\n",
    "According to the dictionary, there should be 4 unique values for this variable"
   ]
  },
  {
   "cell_type": "code",
   "execution_count": 204,
   "metadata": {},
   "outputs": [
    {
     "data": {
      "text/plain": [
       "25       7\n",
       "50      16\n",
       "75      22\n",
       "80       1\n",
       "99       2\n",
       "100    141\n",
       "Name: OR, dtype: int64"
      ]
     },
     "execution_count": 204,
     "metadata": {},
     "output_type": "execute_result"
    }
   ],
   "source": [
    "amphibians['OR'].value_counts().sort_index()"
   ]
  },
  {
   "cell_type": "code",
   "execution_count": 205,
   "metadata": {},
   "outputs": [],
   "source": [
    "# Drop the Motorway column from the dataset as this is not used \n",
    "amphibians = amphibians.drop(columns='Motorway')"
   ]
  },
  {
   "cell_type": "code",
   "execution_count": 206,
   "metadata": {},
   "outputs": [],
   "source": [
    "# Split the data into features and target\n",
    "amphibians_feat = amphibians.drop(species, axis=1)"
   ]
  },
  {
   "cell_type": "code",
   "execution_count": 207,
   "metadata": {},
   "outputs": [],
   "source": [
    "cat_feat_list = ['TR', 'SUR1', 'SUR2', 'SUR3', 'CR', 'VR', 'MR', 'UR', 'FR', 'BR', 'RR', 'OR']"
   ]
  },
  {
   "cell_type": "code",
   "execution_count": 208,
   "metadata": {},
   "outputs": [],
   "source": [
    "amphibians_feat[cat_feat_list] = amphibians_feat[cat_feat_list].astype('category')"
   ]
  },
  {
   "cell_type": "code",
   "execution_count": 209,
   "metadata": {},
   "outputs": [
    {
     "data": {
      "text/plain": [
       "SR         int64\n",
       "NR         int64\n",
       "TR      category\n",
       "VR      category\n",
       "SUR1    category\n",
       "SUR2    category\n",
       "SUR3    category\n",
       "UR      category\n",
       "FR      category\n",
       "OR      category\n",
       "RR      category\n",
       "BR      category\n",
       "MR      category\n",
       "CR      category\n",
       "dtype: object"
      ]
     },
     "execution_count": 209,
     "metadata": {},
     "output_type": "execute_result"
    }
   ],
   "source": [
    "amphibians_feat.dtypes"
   ]
  },
  {
   "cell_type": "markdown",
   "metadata": {},
   "source": [
    "## Exploratory Data Analysis Summary"
   ]
  },
  {
   "cell_type": "markdown",
   "metadata": {},
   "source": [
    "## Model Development"
   ]
  },
  {
   "cell_type": "code",
   "execution_count": 210,
   "metadata": {},
   "outputs": [],
   "source": [
    "from sklearn.preprocessing import OneHotEncoder\n",
    "from sklearn.pipeline import make_pipeline\n",
    "from sklearn.pipeline import Pipeline\n",
    "from sklearn.compose import make_column_transformer\n",
    "from sklearn.compose import make_column_selector\n",
    "from sklearn.ensemble import RandomForestClassifier\n",
    "from sklearn.ensemble import GradientBoostingClassifier\n",
    "from sklearn.neighbors import KNeighborsClassifier\n",
    "from sklearn.model_selection import GridSearchCV\n",
    "from sklearn.metrics import roc_auc_score, roc_curve"
   ]
  },
  {
   "cell_type": "markdown",
   "metadata": {},
   "source": [
    "### Overfitting strategy\n",
    "\n",
    "The original dataset is split into a train and test set. "
   ]
  },
  {
   "cell_type": "code",
   "execution_count": 211,
   "metadata": {},
   "outputs": [],
   "source": [
    "# Shuffle and split the data into train, test and validations sets\n",
    "X_train, X_test, y_train, y_test = train_test_split(amphibians_feat, amphibians[species], test_size=0.20, random_state=42, shuffle=True)"
   ]
  },
  {
   "cell_type": "markdown",
   "metadata": {},
   "source": [
    "### Preprocessing"
   ]
  },
  {
   "cell_type": "markdown",
   "metadata": {},
   "source": [
    "The categorical columns are converted using one hot encoding"
   ]
  },
  {
   "cell_type": "code",
   "execution_count": 212,
   "metadata": {},
   "outputs": [],
   "source": [
    "one_hot_encoder = make_column_transformer((OneHotEncoder(sparse=False, handle_unknown='ignore'),\n",
    "     make_column_selector(dtype_include='category')),\n",
    "    remainder='passthrough')"
   ]
  },
  {
   "cell_type": "markdown",
   "metadata": {},
   "source": [
    "### Ramdom Forest (RF) Classifier"
   ]
  },
  {
   "cell_type": "code",
   "execution_count": 213,
   "metadata": {},
   "outputs": [],
   "source": [
    "rf = Pipeline(steps=[('one_hot_encoder', one_hot_encoder), ('classifier', RandomForestClassifier(random_state=42))])"
   ]
  },
  {
   "cell_type": "markdown",
   "metadata": {},
   "source": [
    "#### RF Hyperparamerter Tuning"
   ]
  },
  {
   "cell_type": "code",
   "execution_count": 214,
   "metadata": {},
   "outputs": [],
   "source": [
    "param_grid = {'classifier__n_estimators': [5, 10, 15, 20, 30, 40],\n",
    "              'classifier__max_features': ['auto', 'sqrt', 'log2'],\n",
    "              'classifier__max_depth' : [4,5,6,7,8],\n",
    "              'classifier__criterion' :['gini', 'entropy']}"
   ]
  },
  {
   "cell_type": "code",
   "execution_count": 215,
   "metadata": {},
   "outputs": [],
   "source": [
    "gridsearch_rf = GridSearchCV(rf, param_grid, cv=5, scoring='roc_auc', return_train_score=True)"
   ]
  },
  {
   "cell_type": "code",
   "execution_count": 216,
   "metadata": {},
   "outputs": [
    {
     "data": {
      "text/plain": [
       "GridSearchCV(cv=5,\n",
       "             estimator=Pipeline(steps=[('one_hot_encoder',\n",
       "                                        ColumnTransformer(remainder='passthrough',\n",
       "                                                          transformers=[('onehotencoder',\n",
       "                                                                         OneHotEncoder(handle_unknown='ignore',\n",
       "                                                                                       sparse=False),\n",
       "                                                                         <sklearn.compose._column_transformer.make_column_selector object at 0x7fe888681ca0>)])),\n",
       "                                       ('classifier',\n",
       "                                        RandomForestClassifier(random_state=42))]),\n",
       "             param_grid={'classifier__criterion': ['gini', 'entropy'],\n",
       "                         'classifier__max_depth': [4, 5, 6, 7, 8],\n",
       "                         'classifier__max_features': ['auto', 'sqrt', 'log2'],\n",
       "                         'classifier__n_estimators': [5, 10, 15, 20, 30, 40]},\n",
       "             return_train_score=True, scoring='roc_auc')"
      ]
     },
     "execution_count": 216,
     "metadata": {},
     "output_type": "execute_result"
    }
   ],
   "source": [
    "gridsearch_rf.fit(X_train, y_train)"
   ]
  },
  {
   "cell_type": "code",
   "execution_count": 217,
   "metadata": {},
   "outputs": [
    {
     "data": {
      "text/plain": [
       "{'classifier__criterion': 'entropy',\n",
       " 'classifier__max_depth': 5,\n",
       " 'classifier__max_features': 'log2',\n",
       " 'classifier__n_estimators': 40}"
      ]
     },
     "execution_count": 217,
     "metadata": {},
     "output_type": "execute_result"
    }
   ],
   "source": [
    "gridsearch_rf.best_params_"
   ]
  },
  {
   "cell_type": "code",
   "execution_count": 218,
   "metadata": {},
   "outputs": [
    {
     "data": {
      "text/plain": [
       "0.667467282741627"
      ]
     },
     "execution_count": 218,
     "metadata": {},
     "output_type": "execute_result"
    }
   ],
   "source": [
    "gridsearch_rf.best_score_"
   ]
  },
  {
   "cell_type": "code",
   "execution_count": 219,
   "metadata": {},
   "outputs": [],
   "source": [
    "y_pred_rf = gridsearch.predict_proba(X_test)"
   ]
  },
  {
   "cell_type": "code",
   "execution_count": 220,
   "metadata": {},
   "outputs": [],
   "source": [
    "y_pred_rf = np.transpose([pred[:, 1] for pred in y_pred_rf])"
   ]
  },
  {
   "cell_type": "code",
   "execution_count": 221,
   "metadata": {},
   "outputs": [
    {
     "data": {
      "text/plain": [
       "array([0.78991597, 0.55833333, 0.54492754, 0.68199234, 0.69318182,\n",
       "       0.68484848, 0.72972973])"
      ]
     },
     "execution_count": 221,
     "metadata": {},
     "output_type": "execute_result"
    }
   ],
   "source": [
    "# AUC scores for the classes\n",
    "\n",
    "auc_scores_classes_rf = roc_auc_score(y_test, y_pred_rf, average=None)\n",
    "auc_scores_classes_rf"
   ]
  },
  {
   "cell_type": "code",
   "execution_count": 238,
   "metadata": {},
   "outputs": [
    {
     "data": {
      "text/plain": [
       "0.6689898865537938"
      ]
     },
     "execution_count": 238,
     "metadata": {},
     "output_type": "execute_result"
    }
   ],
   "source": [
    "# Unweighted mean AUC\n",
    "\n",
    "auc_scores_macro_rf = roc_auc_score(y_test, y_pred_rf, average='macro')\n",
    "auc_scores_macro_rf"
   ]
  },
  {
   "cell_type": "markdown",
   "metadata": {},
   "source": [
    "The RF classifier achieves an unweighted average AUC of 0.669 on the test data."
   ]
  },
  {
   "cell_type": "markdown",
   "metadata": {},
   "source": [
    "### Gradient Boosting Tree (GBT) Classifier\n",
    "\n",
    "A GBT classifier will be trained for each class or label. The outputs from individual GBT classifiers are combined to produce a multi-label output. "
   ]
  },
  {
   "cell_type": "code",
   "execution_count": 223,
   "metadata": {},
   "outputs": [],
   "source": [
    "# Define a pipeline to convert the categorical variables using one hot encoding\n",
    "gbt = Pipeline(steps=[('one_hot_encoder', one_hot_encoder), ('classifier', MultiOutputClassifier(GradientBoostingClassifier(random_state=42)))])"
   ]
  },
  {
   "cell_type": "markdown",
   "metadata": {},
   "source": [
    "#### GBT Hyperparamerter Tuning"
   ]
  },
  {
   "cell_type": "code",
   "execution_count": 224,
   "metadata": {},
   "outputs": [],
   "source": [
    "param_grid_gbt = {'classifier__estimator__n_estimators': [5, 10, 15, 20, 30, 40]}"
   ]
  },
  {
   "cell_type": "code",
   "execution_count": 225,
   "metadata": {},
   "outputs": [],
   "source": [
    "gridsearch_gbt = GridSearchCV(gbt, param_grid_gbt, cv=5, scoring='roc_auc', return_train_score=True)"
   ]
  },
  {
   "cell_type": "code",
   "execution_count": 226,
   "metadata": {},
   "outputs": [
    {
     "data": {
      "text/plain": [
       "GridSearchCV(cv=5,\n",
       "             estimator=Pipeline(steps=[('one_hot_encoder',\n",
       "                                        ColumnTransformer(remainder='passthrough',\n",
       "                                                          transformers=[('onehotencoder',\n",
       "                                                                         OneHotEncoder(handle_unknown='ignore',\n",
       "                                                                                       sparse=False),\n",
       "                                                                         <sklearn.compose._column_transformer.make_column_selector object at 0x7fe888681ca0>)])),\n",
       "                                       ('classifier',\n",
       "                                        MultiOutputClassifier(estimator=GradientBoostingClassifier(random_state=42)))]),\n",
       "             param_grid={'classifier__estimator__n_estimators': [5, 10, 15, 20,\n",
       "                                                                 30, 40]},\n",
       "             return_train_score=True, scoring='roc_auc')"
      ]
     },
     "execution_count": 226,
     "metadata": {},
     "output_type": "execute_result"
    }
   ],
   "source": [
    "gridsearch_gbt.fit(X_train, y_train)"
   ]
  },
  {
   "cell_type": "code",
   "execution_count": 227,
   "metadata": {},
   "outputs": [
    {
     "data": {
      "text/plain": [
       "{'classifier__estimator__n_estimators': 40}"
      ]
     },
     "execution_count": 227,
     "metadata": {},
     "output_type": "execute_result"
    }
   ],
   "source": [
    "gridsearch_gbt.best_params_"
   ]
  },
  {
   "cell_type": "code",
   "execution_count": 228,
   "metadata": {},
   "outputs": [
    {
     "data": {
      "text/plain": [
       "0.6215602305803406"
      ]
     },
     "execution_count": 228,
     "metadata": {},
     "output_type": "execute_result"
    }
   ],
   "source": [
    "gridsearch_gbt.best_score_"
   ]
  },
  {
   "cell_type": "code",
   "execution_count": 229,
   "metadata": {},
   "outputs": [],
   "source": [
    "y_pred_gbt = gbt_gridsearch.predict_proba(X_test)"
   ]
  },
  {
   "cell_type": "code",
   "execution_count": 230,
   "metadata": {},
   "outputs": [],
   "source": [
    "y_pred_gbt = np.transpose([pred[:, 1] for pred in y_pred_gbt])"
   ]
  },
  {
   "cell_type": "code",
   "execution_count": 231,
   "metadata": {},
   "outputs": [
    {
     "data": {
      "text/plain": [
       "array([0.72268908, 0.43333333, 0.61304348, 0.61685824, 0.67613636,\n",
       "       0.70909091, 0.83783784])"
      ]
     },
     "execution_count": 231,
     "metadata": {},
     "output_type": "execute_result"
    }
   ],
   "source": [
    "# AUC scores for the classes\n",
    "\n",
    "auc_scores_classes_gbt = roc_auc_score(y_test, y_pred_gbt, average=None)\n",
    "auc_scores_classes_gbt"
   ]
  },
  {
   "cell_type": "code",
   "execution_count": 232,
   "metadata": {},
   "outputs": [
    {
     "data": {
      "text/plain": [
       "0.6584270336196368"
      ]
     },
     "execution_count": 232,
     "metadata": {},
     "output_type": "execute_result"
    }
   ],
   "source": [
    "# Unweighted mean AUC\n",
    "\n",
    "auc_scores_macro_gbt = roc_auc_score(y_test, y_pred_gbt, average='macro')\n",
    "auc_scores_macro_gbt"
   ]
  },
  {
   "cell_type": "markdown",
   "metadata": {},
   "source": [
    "The GBT classifier achieves an unweighted average AUC of 0.658 on the test data. "
   ]
  },
  {
   "cell_type": "markdown",
   "metadata": {},
   "source": [
    "### Comparison of Results"
   ]
  },
  {
   "cell_type": "code",
   "execution_count": 235,
   "metadata": {},
   "outputs": [],
   "source": [
    "auc_results = pd.DataFrame({'species': species, 'rf': auc_scores_classes_rf, 'gbt': auc_scores_classes_gbt})"
   ]
  },
  {
   "cell_type": "code",
   "execution_count": 236,
   "metadata": {},
   "outputs": [
    {
     "data": {
      "text/html": [
       "<div>\n",
       "<style scoped>\n",
       "    .dataframe tbody tr th:only-of-type {\n",
       "        vertical-align: middle;\n",
       "    }\n",
       "\n",
       "    .dataframe tbody tr th {\n",
       "        vertical-align: top;\n",
       "    }\n",
       "\n",
       "    .dataframe thead th {\n",
       "        text-align: right;\n",
       "    }\n",
       "</style>\n",
       "<table border=\"1\" class=\"dataframe\">\n",
       "  <thead>\n",
       "    <tr style=\"text-align: right;\">\n",
       "      <th></th>\n",
       "      <th>species</th>\n",
       "      <th>rf</th>\n",
       "      <th>gbt</th>\n",
       "    </tr>\n",
       "  </thead>\n",
       "  <tbody>\n",
       "    <tr>\n",
       "      <th>0</th>\n",
       "      <td>Green frogs</td>\n",
       "      <td>0.789916</td>\n",
       "      <td>0.722689</td>\n",
       "    </tr>\n",
       "    <tr>\n",
       "      <th>1</th>\n",
       "      <td>Brown frogs</td>\n",
       "      <td>0.558333</td>\n",
       "      <td>0.433333</td>\n",
       "    </tr>\n",
       "    <tr>\n",
       "      <th>2</th>\n",
       "      <td>Common toad</td>\n",
       "      <td>0.544928</td>\n",
       "      <td>0.613043</td>\n",
       "    </tr>\n",
       "    <tr>\n",
       "      <th>3</th>\n",
       "      <td>Fire-bellied toad</td>\n",
       "      <td>0.681992</td>\n",
       "      <td>0.616858</td>\n",
       "    </tr>\n",
       "    <tr>\n",
       "      <th>4</th>\n",
       "      <td>Tree frog</td>\n",
       "      <td>0.693182</td>\n",
       "      <td>0.676136</td>\n",
       "    </tr>\n",
       "    <tr>\n",
       "      <th>5</th>\n",
       "      <td>Common newt</td>\n",
       "      <td>0.684848</td>\n",
       "      <td>0.709091</td>\n",
       "    </tr>\n",
       "    <tr>\n",
       "      <th>6</th>\n",
       "      <td>Great crested newt</td>\n",
       "      <td>0.729730</td>\n",
       "      <td>0.837838</td>\n",
       "    </tr>\n",
       "  </tbody>\n",
       "</table>\n",
       "</div>"
      ],
      "text/plain": [
       "              species        rf       gbt\n",
       "0         Green frogs  0.789916  0.722689\n",
       "1         Brown frogs  0.558333  0.433333\n",
       "2         Common toad  0.544928  0.613043\n",
       "3   Fire-bellied toad  0.681992  0.616858\n",
       "4           Tree frog  0.693182  0.676136\n",
       "5         Common newt  0.684848  0.709091\n",
       "6  Great crested newt  0.729730  0.837838"
      ]
     },
     "execution_count": 236,
     "metadata": {},
     "output_type": "execute_result"
    }
   ],
   "source": [
    "auc_results"
   ]
  },
  {
   "cell_type": "markdown",
   "metadata": {},
   "source": [
    "The table above shows a comparison of the AUC scores achieved by each algorithm per class. A perfect classifier would have a ROC AUC equal to 1 and a purely random classifier will have a ROC AUC equal to 0.5. The RF and GBT both perform poorly for Brown Frogs. "
   ]
  },
  {
   "cell_type": "code",
   "execution_count": 242,
   "metadata": {},
   "outputs": [
    {
     "name": "stdout",
     "output_type": "stream",
     "text": [
      "Unweighted average AUC for RF: 0.6689898865537938\n",
      "Unweighted average AUC for GBT: 0.6584270336196368\n"
     ]
    }
   ],
   "source": [
    "print('Unweighted average AUC for RF:', auc_scores_macro_rf)\n",
    "print('Unweighted average AUC for GBT:', auc_scores_macro_gbt)"
   ]
  },
  {
   "cell_type": "markdown",
   "metadata": {},
   "source": [
    "### Conclusion and Recommendations\n",
    "\n",
    "The study shows that there is potential to develop a prediction model that makes use features extracted from publicly available GIS data and satellite images. The dataset is small and the predictive model would benefit from more training data. \n",
    "\n",
    "The values of the categorical variables did not always match the data dictionary and should be followed up on with the data collection team. For example, the categorical variable for the presence of fishing should have 3 levels according to the data dictionary but the variable has 5 levels in the dataset. "
   ]
  },
  {
   "cell_type": "markdown",
   "metadata": {},
   "source": [
    "### References\n",
    "\n",
    "-[Multilabel_classification](https://scikit-learn.org/stable/modules/multiclass.html#multilabel-classification)"
   ]
  }
 ],
 "metadata": {
  "kernelspec": {
   "display_name": "Python 3",
   "language": "python",
   "name": "python3"
  },
  "language_info": {
   "codemirror_mode": {
    "name": "ipython",
    "version": 3
   },
   "file_extension": ".py",
   "mimetype": "text/x-python",
   "name": "python",
   "nbconvert_exporter": "python",
   "pygments_lexer": "ipython3",
   "version": "3.8.5"
  }
 },
 "nbformat": 4,
 "nbformat_minor": 4
}
