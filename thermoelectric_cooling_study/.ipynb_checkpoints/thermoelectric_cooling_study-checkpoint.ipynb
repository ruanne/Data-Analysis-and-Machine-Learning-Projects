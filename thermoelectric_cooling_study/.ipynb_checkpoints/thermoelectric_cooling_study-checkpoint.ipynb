{
 "cells": [
  {
   "cell_type": "markdown",
   "metadata": {},
   "source": [
    "### Introduction\n",
    "The U.S. Energy Information Administration (EIA) collects water cooling data for the electric power industry in the United States. Can we use this data to answer the following questions:\n",
    "\n",
    "- How many generators did the US have in 2019. How has the total number of generators changed over the the years?\n",
    "- How many of each of type of generator does the US have?\n",
    "- Is their any relationship between the water source and water consumption? \n",
    "- Is their any relationship between the water consumption and fuel consumption of a generator?\n",
    "....."
   ]
  },
  {
   "cell_type": "markdown",
   "metadata": {},
   "source": [
    "### Data\n",
    "The data is accessible on the [Open Energy Initiative platform](https://data.openei.org/submissions/4038). The data is organised in 6 spreadsheets, one for each year from 2014 to 2019. The thermoelectric cooling information per power plant is given in each file.  Each spreadsheet details the generator type, fuel consumption, water consumption, cooling type, and equipment status, location, and water source of each plant. "
   ]
  },
  {
   "cell_type": "code",
   "execution_count": null,
   "metadata": {},
   "outputs": [],
   "source": []
  }
 ],
 "metadata": {
  "kernelspec": {
   "display_name": "Python 3",
   "language": "python",
   "name": "python3"
  },
  "language_info": {
   "codemirror_mode": {
    "name": "ipython",
    "version": 3
   },
   "file_extension": ".py",
   "mimetype": "text/x-python",
   "name": "python",
   "nbconvert_exporter": "python",
   "pygments_lexer": "ipython3",
   "version": "3.7.3"
  }
 },
 "nbformat": 4,
 "nbformat_minor": 2
}
